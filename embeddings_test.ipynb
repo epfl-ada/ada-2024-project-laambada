{
 "cells": [
  {
   "cell_type": "code",
   "execution_count": 30,
   "metadata": {},
   "outputs": [],
   "source": [
    "import pandas as pd\n",
    "import seaborn as sns\n",
    "import numpy as np\n",
    "from rdkit import Chem\n",
    "from rdkit.Chem import AllChem\n",
    "from rdkit.DataStructs import TanimotoSimilarity\n",
    "from gensim.models import word2vec\n",
    "from rdkit.Chem import Descriptors\n",
    "from sklearn.decomposition import PCA\n",
    "from sklearn.manifold import TSNE\n",
    "import os\n",
    "import mol2vec\n",
    "from mol2vec.features import mol2alt_sentence\n",
    "import matplotlib.pyplot as plt\n",
    "from sklearn.cluster import KMeans\n",
    "from scipy.cluster.hierarchy import dendrogram, linkage"
   ]
  },
  {
   "cell_type": "code",
   "execution_count": 20,
   "metadata": {},
   "outputs": [],
   "source": [
    "def compute_similarities (molecules, metric) : \n",
    "    '''\n",
    "    computes pairwise similarity or euclidean distance between all the elements of the list\n",
    "    '''\n",
    "    L = len(molecules)\n",
    "    results = np.empty((L, L))\n",
    "    for i in range(L) : \n",
    "        for j in range(L): \n",
    "            if (metric == 'tanimoto') : \n",
    "                results[i, j] = TanimotoSimilarity(molecules[i], molecules[j])\n",
    "            elif (metric == 'euclidian') : \n",
    "                results[i, j] = np.linalg.norm(molecules[i] - molecules[j])\n",
    "    result = pd.DataFrame(results, index=['row1', 'row2', 'row3'], columns=['col1', 'col2', 'col3'])#TODO add names\n",
    "    return result"
   ]
  },
  {
   "cell_type": "code",
   "execution_count": 4,
   "metadata": {},
   "outputs": [],
   "source": [
    "def calculate_rdkit_descriptors(molecule):\n",
    "    # List of all descriptor names and functions\n",
    "    descriptor_results = []\n",
    "\n",
    "    for name, func in Descriptors.descList:\n",
    "        try:\n",
    "            # Calculate each descriptor\n",
    "            descriptor_results.append(func(molecule))\n",
    "        except Exception as e:\n",
    "            # Handle cases where a descriptor fails\n",
    "            descriptor_results.append(None)\n",
    "\n",
    "    return descriptor_results"
   ]
  },
  {
   "cell_type": "markdown",
   "metadata": {},
   "source": [
    "### 1. Represent the ligands in an embedding space"
   ]
  },
  {
   "cell_type": "markdown",
   "metadata": {},
   "source": [
    "#### a. Morgan Fingerprints (ECFP) "
   ]
  },
  {
   "cell_type": "markdown",
   "metadata": {},
   "source": [
    "Morgan fingerprint captures the local environment around each atom up to a specified radius. "
   ]
  },
  {
   "cell_type": "code",
   "execution_count": null,
   "metadata": {},
   "outputs": [],
   "source": [
    "# Generate Morgan Fingerprints (ECFP) with radius=2 and 1024 bits (ECFP4)\n",
    "ecfp_rad2 = [AllChem.GetMorganFingerprintAsBitVect(mol, radius=2, nBits=1024) for mol in df_subset['RDKIT Molecules']]\n",
    "df_subset['ecfp_rad2'] = ecfp_rad2"
   ]
  },
  {
   "cell_type": "markdown",
   "metadata": {},
   "source": [
    "#### b. Mol2vec "
   ]
  },
  {
   "cell_type": "markdown",
   "metadata": {},
   "source": [
    "To detect more global and subtile (but less interpretable) differences we use here a pretrained Mol2vec available here : https://github.com/samoturk/mol2vec/tree/master/examples/models \n",
    "\n",
    "\n",
    "This model  was trained on 20 million compounds downloaded from ZINC using:\n",
    "- radius 1\n",
    "- UNK to replace all identifiers that appear less than 4 times\n",
    "- skip-gram and window size of 10 \n",
    "- resulting in 300 dimensional embeddings\n",
    "\n",
    "Mol2Vec is inspired by Word2vec and it creates embeddings based on the structural and chemical information of the molecules using a substructure approach. "
   ]
  },
  {
   "cell_type": "code",
   "execution_count": null,
   "metadata": {},
   "outputs": [],
   "source": [
    "pretrained_model_path = os.path.join(os.getcwd(), 'model_300dim.pkl') \n",
    "model = word2vec.Word2Vec.load(pretrained_model_path)\n",
    "print('number of unique identifiers', len(model.wv.key_to_index))\n",
    "\n",
    "execution_times = []\n",
    "\n",
    "mol2vec_embeddings = []\n",
    "for mol in df_subset['RDKIT Molecules']:\n",
    "    start_time = time.time()\n",
    "    identifier = mol2alt_sentence(mol, 1)\n",
    "    try:\n",
    "        # Assuming model.wv[identifier] returns a vector\n",
    "        embedding = model.wv[identifier]\n",
    "    except KeyError:\n",
    "        # If identifier not found in vocabulary, assign NaN\n",
    "        embedding = np.nan\n",
    "    mol2vec_embeddings.append(embedding)\n",
    "    end_time = time.time()\n",
    "    execution_times.append(end_time - start_time)\n",
    "\n",
    "# Calculer les statistiques\n",
    "mean_time = np.mean(execution_times)\n",
    "std_time = np.std(execution_times)\n",
    "\n",
    "print(f\"Mean execution time: {mean_time} seconds\")\n",
    "print(f\"Standard deviation: {std_time} seconds\")\n",
    "print(f\"Estimation for the full dataset: {round(len(df_bindingDB)*mean_time/60)} minutes\")\n",
    "\n",
    "df_subset['mol2vec embedding'] = mol2vec_embeddings"
   ]
  },
  {
   "cell_type": "markdown",
   "metadata": {},
   "source": [
    "#### c.RDKitDescriptors "
   ]
  },
  {
   "cell_type": "markdown",
   "metadata": {},
   "source": [
    "Here we create an embedding space based on the chemical and structural characteristics of the molecules. Note that here we take all the descriptors but it could be a could idea to filter them in order avoid redundancy and by doing so reducing the dimensionality of the points. "
   ]
  },
  {
   "cell_type": "code",
   "execution_count": null,
   "metadata": {},
   "outputs": [],
   "source": [
    "rdkit_embeddings = [list(calculate_rdkit_descriptors(mol)) for mol in df_subset['RDKIT Molecules']]\n",
    "#Note : since this cell takes too much time to run, it will be necessary to select the most important descriptors"
   ]
  },
  {
   "cell_type": "markdown",
   "metadata": {},
   "source": [
    "### 2. Study the clusters"
   ]
  },
  {
   "cell_type": "code",
   "execution_count": null,
   "metadata": {},
   "outputs": [
    {
     "ename": "NameError",
     "evalue": "name 'mol2vec_embeddings' is not defined",
     "output_type": "error",
     "traceback": [
      "\u001b[1;31m---------------------------------------------------------------------------\u001b[0m",
      "\u001b[1;31mNameError\u001b[0m                                 Traceback (most recent call last)",
      "Cell \u001b[1;32mIn[21], line 2\u001b[0m\n\u001b[0;32m      1\u001b[0m \u001b[38;5;66;03m# Select the embeddings of interest\u001b[39;00m\n\u001b[1;32m----> 2\u001b[0m embeddings \u001b[38;5;241m=\u001b[39m \u001b[43mmol2vec_embeddings\u001b[49m \u001b[38;5;66;03m# or rdkit_embeddings or ecfp_rad4 or ecfp_rad4\u001b[39;00m\n\u001b[0;32m      4\u001b[0m \u001b[38;5;66;03m# select the similarity metric\u001b[39;00m\n\u001b[0;32m      5\u001b[0m metric \u001b[38;5;241m=\u001b[39m \u001b[38;5;124m'\u001b[39m\u001b[38;5;124mtanimoto\u001b[39m\u001b[38;5;124m'\u001b[39m \u001b[38;5;66;03m# or 'euclidian'.Use euclidian for mol2vec and rdkit and tanimoto for ecfp\u001b[39;00m\n",
      "\u001b[1;31mNameError\u001b[0m: name 'mol2vec_embeddings' is not defined"
     ]
    }
   ],
   "source": [
    "# Select the embeddings of interest\n",
    "embeddings = ecfp_rad2  # or rdkit_embeddings or ecfp_rad2 or mol2vec_embeddings\n",
    "\n",
    "# select the similarity metric\n",
    "metric = 'tanimoto' # or 'euclidian'.Use euclidian for mol2vec and rdkit and tanimoto for ecfp"
   ]
  },
  {
   "cell_type": "markdown",
   "metadata": {},
   "source": [
    "#### a. Similarity measurement"
   ]
  },
  {
   "cell_type": "markdown",
   "metadata": {},
   "source": [
    "The goal here is to create an heatmap with the Tanimoto similarity or euclidian distance between each point and see if ligands that have the same target are more similar compared to the others. "
   ]
  },
  {
   "cell_type": "code",
   "execution_count": null,
   "metadata": {},
   "outputs": [],
   "source": [
    "\n",
    "similarities = compute_similarities(embeddings, metric)\n",
    "sns.heatmap(similarities, annot=True)\n"
   ]
  },
  {
   "cell_type": "markdown",
   "metadata": {},
   "source": [
    "#### b. Dimensionality reduction "
   ]
  },
  {
   "cell_type": "markdown",
   "metadata": {},
   "source": [
    "The goal here is to apply dimensionality reduction techniques on the embedded representation, vizualise the ligands according to the first two components and see if visually there are any clusters and to what extend those depend on the targets. "
   ]
  },
  {
   "cell_type": "code",
   "execution_count": null,
   "metadata": {},
   "outputs": [],
   "source": [
    "pca_model = PCA(n_components=30)\n",
    "tsne_model = TSNE(n_components=2, perplexity=10, n_iter=1000, metric = 'cosine')\n",
    "X_pca = pca_model.fit_transform(embeddings)\n",
    "X_tsne_pca = tsne_model.fit_transform(X_pca)\n",
    "#X_tsne = tsne_model.fit_transform(embeddings)\n",
    "\n",
    "plt.figure(figsize=(8, 6))\n",
    "plt.scatter(X_pca[:, 0], X_pca[:, 1], c=y, cmap='viridis', s=50, alpha=0.7)\n",
    "plt.colorbar(label='Cluster Label')\n",
    "plt.title('PCA: First Two Components')\n",
    "plt.xlabel('Principal Component 1')\n",
    "plt.ylabel('Principal Component 2')\n",
    "plt.grid(True)\n",
    "plt.show()\n",
    "\n",
    "plt.figure(figsize=(8, 6))\n",
    "plt.scatter(X_tsne_pca[:, 0], X_tsne_pca[:, 1], c=y, cmap='viridis', s=50, alpha=0.7)\n",
    "plt.colorbar(label='Cluster Label')\n",
    "plt.title('PCA followed by tsne: First Two Components')\n",
    "plt.xlabel('Principal Component 1')\n",
    "plt.ylabel('Principal Component 2')\n",
    "plt.grid(True)\n",
    "plt.show()"
   ]
  },
  {
   "cell_type": "markdown",
   "metadata": {},
   "source": [
    "#### c. Clustering"
   ]
  },
  {
   "cell_type": "markdown",
   "metadata": {},
   "source": [
    "The goal here is to cluster the ligands in the embedding space and see if they are clustered based on the target they bind to."
   ]
  },
  {
   "cell_type": "code",
   "execution_count": null,
   "metadata": {},
   "outputs": [],
   "source": [
    "# Perform k-means and hierarchical clustering\n",
    "\n",
    "# K-means clustering\n",
    "kmeans = KMeans(n_clusters=2) #TODO : replace with the number of targets of the family\n",
    "kmeans.fit(embeddings)\n",
    "kmeans_labels = kmeans.labels_\n",
    "\n",
    "# Hierarchical clustering (Agglomerative) \n",
    "Z = linkage(embeddings, 'ward')  \n",
    "plt.figure(figsize=(10, 7))\n",
    "dendrogram(embeddings)\n",
    "plt.show()"
   ]
  }
 ],
 "metadata": {
  "kernelspec": {
   "display_name": "ADA",
   "language": "python",
   "name": "python3"
  },
  "language_info": {
   "codemirror_mode": {
    "name": "ipython",
    "version": 3
   },
   "file_extension": ".py",
   "mimetype": "text/x-python",
   "name": "python",
   "nbconvert_exporter": "python",
   "pygments_lexer": "ipython3",
   "version": "3.9.20"
  }
 },
 "nbformat": 4,
 "nbformat_minor": 2
}
