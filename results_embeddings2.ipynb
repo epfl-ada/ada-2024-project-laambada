{
 "cells": [
  {
   "cell_type": "markdown",
   "metadata": {},
   "source": [
    "# 1. Load \n",
    "## 1.1 Load libraries"
   ]
  },
  {
   "cell_type": "code",
   "execution_count": 1,
   "metadata": {},
   "outputs": [
    {
     "name": "stdout",
     "output_type": "stream",
     "text": [
      "Defaulting to user installation because normal site-packages is not writeable\n",
      "Looking in indexes: https://pypi.org/simple, https://pypi.ngc.nvidia.com\n",
      "Collecting rdkit\n",
      "  Obtaining dependency information for rdkit from https://files.pythonhosted.org/packages/d2/f3/9125802d1403f56fc6d758dbec3a66fae6ad7023d396ecf5a29af27c78aa/rdkit-2024.3.6-cp310-cp310-manylinux_2_28_x86_64.whl.metadata\n",
      "  Downloading rdkit-2024.3.6-cp310-cp310-manylinux_2_28_x86_64.whl.metadata (4.0 kB)\n",
      "Requirement already satisfied: numpy in /usr/local/lib/python3.10/dist-packages (from rdkit) (1.22.2)\n",
      "Requirement already satisfied: Pillow in /usr/local/lib/python3.10/dist-packages (from rdkit) (9.2.0)\n",
      "Downloading rdkit-2024.3.6-cp310-cp310-manylinux_2_28_x86_64.whl (32.8 MB)\n",
      "\u001b[2K   \u001b[90m━━━━━━━━━━━━━━━━━━━━━━━━━━━━━━━━━━━━━━━━\u001b[0m \u001b[32m32.8/32.8 MB\u001b[0m \u001b[31m9.6 MB/s\u001b[0m eta \u001b[36m0:00:00\u001b[0m00:01\u001b[0m00:01\u001b[0mm\n",
      "\u001b[?25hInstalling collected packages: rdkit\n",
      "Successfully installed rdkit-2024.3.6\n",
      "\n",
      "\u001b[1m[\u001b[0m\u001b[34;49mnotice\u001b[0m\u001b[1;39;49m]\u001b[0m\u001b[39;49m A new release of pip is available: \u001b[0m\u001b[31;49m23.2.1\u001b[0m\u001b[39;49m -> \u001b[0m\u001b[32;49m24.3.1\u001b[0m\n",
      "\u001b[1m[\u001b[0m\u001b[34;49mnotice\u001b[0m\u001b[1;39;49m]\u001b[0m\u001b[39;49m To update, run: \u001b[0m\u001b[32;49mpython -m pip install --upgrade pip\u001b[0m\n",
      "Defaulting to user installation because normal site-packages is not writeable\n",
      "Looking in indexes: https://pypi.org/simple, https://pypi.ngc.nvidia.com\n",
      "Collecting gensim\n",
      "  Obtaining dependency information for gensim from https://files.pythonhosted.org/packages/de/63/776ee55c773f55fa9d4fc1596f2e5e15de109921a6727dfe29cc4f0baeb7/gensim-4.3.3-cp310-cp310-manylinux_2_17_x86_64.manylinux2014_x86_64.whl.metadata\n",
      "  Downloading gensim-4.3.3-cp310-cp310-manylinux_2_17_x86_64.manylinux2014_x86_64.whl.metadata (8.2 kB)\n",
      "Requirement already satisfied: numpy<2.0,>=1.18.5 in /usr/local/lib/python3.10/dist-packages (from gensim) (1.22.2)\n",
      "Requirement already satisfied: scipy<1.14.0,>=1.7.0 in /usr/local/lib/python3.10/dist-packages (from gensim) (1.11.1)\n",
      "Requirement already satisfied: smart-open>=1.8.1 in /usr/local/lib/python3.10/dist-packages (from gensim) (6.4.0)\n",
      "Downloading gensim-4.3.3-cp310-cp310-manylinux_2_17_x86_64.manylinux2014_x86_64.whl (26.5 MB)\n",
      "\u001b[2K   \u001b[90m━━━━━━━━━━━━━━━━━━━━━━━━━━━━━━━━━━━━━━━━\u001b[0m \u001b[32m26.5/26.5 MB\u001b[0m \u001b[31m12.9 MB/s\u001b[0m eta \u001b[36m0:00:00\u001b[0m00:01\u001b[0m00:01\u001b[0m\n",
      "\u001b[?25hInstalling collected packages: gensim\n",
      "Successfully installed gensim-4.3.3\n",
      "\n",
      "\u001b[1m[\u001b[0m\u001b[34;49mnotice\u001b[0m\u001b[1;39;49m]\u001b[0m\u001b[39;49m A new release of pip is available: \u001b[0m\u001b[31;49m23.2.1\u001b[0m\u001b[39;49m -> \u001b[0m\u001b[32;49m24.3.1\u001b[0m\n",
      "\u001b[1m[\u001b[0m\u001b[34;49mnotice\u001b[0m\u001b[1;39;49m]\u001b[0m\u001b[39;49m To update, run: \u001b[0m\u001b[32;49mpython -m pip install --upgrade pip\u001b[0m\n",
      "Defaulting to user installation because normal site-packages is not writeable\n",
      "Looking in indexes: https://pypi.org/simple, https://pypi.ngc.nvidia.com\n",
      "Collecting mol2vec\n",
      "  Obtaining dependency information for mol2vec from https://files.pythonhosted.org/packages/a5/b3/a5f29987368f22a938b54184a22201437a50ce0c176bd11396d59ee73b59/mol2vec-0.2.2-py3-none-any.whl.metadata\n",
      "  Downloading mol2vec-0.2.2-py3-none-any.whl.metadata (5.5 kB)\n",
      "Requirement already satisfied: numpy in /usr/local/lib/python3.10/dist-packages (from mol2vec) (1.22.2)\n",
      "Requirement already satisfied: gensim in /home/runai-home/.local/lib/python3.10/site-packages (from mol2vec) (4.3.3)\n",
      "Requirement already satisfied: tqdm in /usr/local/lib/python3.10/dist-packages (from mol2vec) (4.66.5)\n",
      "Requirement already satisfied: joblib in /usr/local/lib/python3.10/dist-packages (from mol2vec) (1.3.2)\n",
      "Requirement already satisfied: pandas in /usr/local/lib/python3.10/dist-packages (from mol2vec) (1.5.3)\n",
      "Requirement already satisfied: matplotlib in /usr/local/lib/python3.10/dist-packages (from mol2vec) (3.8.0)\n",
      "Requirement already satisfied: IPython in /usr/local/lib/python3.10/dist-packages (from mol2vec) (8.16.1)\n",
      "Collecting seaborn (from mol2vec)\n",
      "  Obtaining dependency information for seaborn from https://files.pythonhosted.org/packages/83/11/00d3c3dfc25ad54e731d91449895a79e4bf2384dc3ac01809010ba88f6d5/seaborn-0.13.2-py3-none-any.whl.metadata\n",
      "  Downloading seaborn-0.13.2-py3-none-any.whl.metadata (5.4 kB)\n",
      "Requirement already satisfied: scipy<1.14.0,>=1.7.0 in /usr/local/lib/python3.10/dist-packages (from gensim->mol2vec) (1.11.1)\n",
      "Requirement already satisfied: smart-open>=1.8.1 in /usr/local/lib/python3.10/dist-packages (from gensim->mol2vec) (6.4.0)\n",
      "Requirement already satisfied: backcall in /usr/local/lib/python3.10/dist-packages (from IPython->mol2vec) (0.2.0)\n",
      "Requirement already satisfied: decorator in /usr/local/lib/python3.10/dist-packages (from IPython->mol2vec) (5.1.1)\n",
      "Requirement already satisfied: jedi>=0.16 in /usr/local/lib/python3.10/dist-packages (from IPython->mol2vec) (0.19.1)\n",
      "Requirement already satisfied: matplotlib-inline in /usr/local/lib/python3.10/dist-packages (from IPython->mol2vec) (0.1.6)\n",
      "Requirement already satisfied: pickleshare in /usr/local/lib/python3.10/dist-packages (from IPython->mol2vec) (0.7.5)\n",
      "Requirement already satisfied: prompt-toolkit!=3.0.37,<3.1.0,>=3.0.30 in /usr/local/lib/python3.10/dist-packages (from IPython->mol2vec) (3.0.39)\n",
      "Requirement already satisfied: pygments>=2.4.0 in /usr/local/lib/python3.10/dist-packages (from IPython->mol2vec) (2.16.1)\n",
      "Requirement already satisfied: stack-data in /usr/local/lib/python3.10/dist-packages (from IPython->mol2vec) (0.6.3)\n",
      "Requirement already satisfied: traitlets>=5 in /usr/local/lib/python3.10/dist-packages (from IPython->mol2vec) (5.9.0)\n",
      "Requirement already satisfied: exceptiongroup in /usr/local/lib/python3.10/dist-packages (from IPython->mol2vec) (1.1.3)\n",
      "Requirement already satisfied: pexpect>4.3 in /usr/local/lib/python3.10/dist-packages (from IPython->mol2vec) (4.8.0)\n",
      "Requirement already satisfied: contourpy>=1.0.1 in /usr/local/lib/python3.10/dist-packages (from matplotlib->mol2vec) (1.1.1)\n",
      "Requirement already satisfied: cycler>=0.10 in /usr/local/lib/python3.10/dist-packages (from matplotlib->mol2vec) (0.12.1)\n",
      "Requirement already satisfied: fonttools>=4.22.0 in /usr/local/lib/python3.10/dist-packages (from matplotlib->mol2vec) (4.43.1)\n",
      "Requirement already satisfied: kiwisolver>=1.0.1 in /usr/local/lib/python3.10/dist-packages (from matplotlib->mol2vec) (1.4.5)\n",
      "Requirement already satisfied: packaging>=20.0 in /usr/local/lib/python3.10/dist-packages (from matplotlib->mol2vec) (23.1)\n",
      "Requirement already satisfied: pillow>=6.2.0 in /usr/local/lib/python3.10/dist-packages (from matplotlib->mol2vec) (9.2.0)\n",
      "Requirement already satisfied: pyparsing>=2.3.1 in /usr/local/lib/python3.10/dist-packages (from matplotlib->mol2vec) (3.1.1)\n",
      "Requirement already satisfied: python-dateutil>=2.7 in /usr/local/lib/python3.10/dist-packages (from matplotlib->mol2vec) (2.8.2)\n",
      "Requirement already satisfied: pytz>=2020.1 in /usr/local/lib/python3.10/dist-packages (from pandas->mol2vec) (2023.3)\n",
      "Requirement already satisfied: parso<0.9.0,>=0.8.3 in /usr/local/lib/python3.10/dist-packages (from jedi>=0.16->IPython->mol2vec) (0.8.3)\n",
      "Requirement already satisfied: ptyprocess>=0.5 in /usr/local/lib/python3.10/dist-packages (from pexpect>4.3->IPython->mol2vec) (0.7.0)\n",
      "Requirement already satisfied: wcwidth in /usr/local/lib/python3.10/dist-packages (from prompt-toolkit!=3.0.37,<3.1.0,>=3.0.30->IPython->mol2vec) (0.2.8)\n",
      "Requirement already satisfied: six>=1.5 in /usr/local/lib/python3.10/dist-packages (from python-dateutil>=2.7->matplotlib->mol2vec) (1.16.0)\n",
      "Requirement already satisfied: executing>=1.2.0 in /usr/local/lib/python3.10/dist-packages (from stack-data->IPython->mol2vec) (2.0.0)\n",
      "Requirement already satisfied: asttokens>=2.1.0 in /usr/local/lib/python3.10/dist-packages (from stack-data->IPython->mol2vec) (2.4.0)\n",
      "Requirement already satisfied: pure-eval in /usr/local/lib/python3.10/dist-packages (from stack-data->IPython->mol2vec) (0.2.2)\n",
      "Downloading mol2vec-0.2.2-py3-none-any.whl (15 kB)\n",
      "Downloading seaborn-0.13.2-py3-none-any.whl (294 kB)\n",
      "\u001b[2K   \u001b[90m━━━━━━━━━━━━━━━━━━━━━━━━━━━━━━━━━━━━━━━━\u001b[0m \u001b[32m294.9/294.9 kB\u001b[0m \u001b[31m8.0 MB/s\u001b[0m eta \u001b[36m0:00:00\u001b[0ma \u001b[36m0:00:01\u001b[0m\n",
      "\u001b[?25hInstalling collected packages: seaborn, mol2vec\n",
      "Successfully installed mol2vec-0.2.2 seaborn-0.13.2\n",
      "\n",
      "\u001b[1m[\u001b[0m\u001b[34;49mnotice\u001b[0m\u001b[1;39;49m]\u001b[0m\u001b[39;49m A new release of pip is available: \u001b[0m\u001b[31;49m23.2.1\u001b[0m\u001b[39;49m -> \u001b[0m\u001b[32;49m24.3.1\u001b[0m\n",
      "\u001b[1m[\u001b[0m\u001b[34;49mnotice\u001b[0m\u001b[1;39;49m]\u001b[0m\u001b[39;49m To update, run: \u001b[0m\u001b[32;49mpython -m pip install --upgrade pip\u001b[0m\n"
     ]
    }
   ],
   "source": [
    "!pip install rdkit\n",
    "!pip install gensim\n",
    "!pip install mol2vec"
   ]
  },
  {
   "cell_type": "markdown",
   "metadata": {},
   "source": [
    "## 1.2 Load data\n",
    "The dataset is cleaned and filtered the the family of interest."
   ]
  },
  {
   "cell_type": "code",
   "execution_count": 2,
   "metadata": {},
   "outputs": [
    {
     "ename": "ModuleNotFoundError",
     "evalue": "No module named 'rdkit'",
     "output_type": "error",
     "traceback": [
      "\u001b[0;31m---------------------------------------------------------------------------\u001b[0m",
      "\u001b[0;31mModuleNotFoundError\u001b[0m                       Traceback (most recent call last)",
      "Cell \u001b[0;32mIn[2], line 10\u001b[0m\n\u001b[1;32m      7\u001b[0m \u001b[38;5;28;01mfrom\u001b[39;00m \u001b[38;5;21;01msrc\u001b[39;00m\u001b[38;5;21;01m.\u001b[39;00m\u001b[38;5;21;01mscripts\u001b[39;00m\u001b[38;5;21;01m.\u001b[39;00m\u001b[38;5;21;01mload_and_save\u001b[39;00m \u001b[38;5;28;01mimport\u001b[39;00m load_data\n\u001b[1;32m      9\u001b[0m \u001b[38;5;66;03m# Ligand analysis \u001b[39;00m\n\u001b[0;32m---> 10\u001b[0m \u001b[38;5;28;01mfrom\u001b[39;00m \u001b[38;5;21;01mrdkit\u001b[39;00m \u001b[38;5;28;01mimport\u001b[39;00m Chem\n\u001b[1;32m     11\u001b[0m \u001b[38;5;28;01mfrom\u001b[39;00m \u001b[38;5;21;01mrdkit\u001b[39;00m\u001b[38;5;21;01m.\u001b[39;00m\u001b[38;5;21;01mChem\u001b[39;00m \u001b[38;5;28;01mimport\u001b[39;00m Descriptors, Fragments\n",
      "\u001b[0;31mModuleNotFoundError\u001b[0m: No module named 'rdkit'"
     ]
    }
   ],
   "source": [
    "import numpy as np\n",
    "import time\n",
    "import pandas as pd\n",
    "import matplotlib.pyplot as plt\n",
    "#import seaborn as sns\n",
    "\n",
    "from src.scripts.load_and_save import load_data\n",
    "\n",
    "# Ligand analysis \n",
    "from rdkit import Chem\n",
    "from rdkit.Chem import Descriptors, Fragments"
   ]
  },
  {
   "cell_type": "code",
   "execution_count": 2,
   "metadata": {},
   "outputs": [
    {
     "name": "stderr",
     "output_type": "stream",
     "text": [
      "/mloscratch/homes/mdupont/other/ada/ada-2024-project-laambada/src/scripts/load_and_save.py:16: DtypeWarning: Columns (17,20,21,45,46,47) have mixed types. Specify dtype option on import or set low_memory=False.\n",
      "  df = pd.read_csv(zip_file_path, compression='zip')\n"
     ]
    },
    {
     "data": {
      "text/html": [
       "<div>\n",
       "<style scoped>\n",
       "    .dataframe tbody tr th:only-of-type {\n",
       "        vertical-align: middle;\n",
       "    }\n",
       "\n",
       "    .dataframe tbody tr th {\n",
       "        vertical-align: top;\n",
       "    }\n",
       "\n",
       "    .dataframe thead th {\n",
       "        text-align: right;\n",
       "    }\n",
       "</style>\n",
       "<table border=\"1\" class=\"dataframe\">\n",
       "  <thead>\n",
       "    <tr style=\"text-align: right;\">\n",
       "      <th></th>\n",
       "      <th>BindingDB Reactant_set_id</th>\n",
       "      <th>Ligand SMILES</th>\n",
       "      <th>Ligand InChI</th>\n",
       "      <th>Ligand InChI Key</th>\n",
       "      <th>BindingDB MonomerID</th>\n",
       "      <th>BindingDB Ligand Name</th>\n",
       "      <th>Target Name</th>\n",
       "      <th>Target Source Organism According to Curator or DataSource</th>\n",
       "      <th>Ki (nM)</th>\n",
       "      <th>IC50 (nM)</th>\n",
       "      <th>...</th>\n",
       "      <th>Ligand MW</th>\n",
       "      <th>logP</th>\n",
       "      <th>Charge</th>\n",
       "      <th>Aliphatic OH</th>\n",
       "      <th>Aromatic NH</th>\n",
       "      <th>Ester</th>\n",
       "      <th>Ether</th>\n",
       "      <th>Amide</th>\n",
       "      <th>Ketone</th>\n",
       "      <th>Benzene Ring</th>\n",
       "    </tr>\n",
       "  </thead>\n",
       "  <tbody>\n",
       "    <tr>\n",
       "      <th>0</th>\n",
       "      <td>2880</td>\n",
       "      <td>Cn1ncc2c(cccc12)-c1cccn2nc(Nc3ccc4CCN(CCc4c3)C...</td>\n",
       "      <td>InChI=1S/C29H31N7O2/c1-29(2,3)38-28(37)35-15-1...</td>\n",
       "      <td>MAZKPYXDQCNDAZ-UHFFFAOYSA-N</td>\n",
       "      <td>2013</td>\n",
       "      <td>US8501936, 298::US8501936, 300</td>\n",
       "      <td>Tyrosine-protein kinase JAK2</td>\n",
       "      <td>Homo sapiens</td>\n",
       "      <td>0.24</td>\n",
       "      <td>NaN</td>\n",
       "      <td>...</td>\n",
       "      <td>509.614</td>\n",
       "      <td>5.3623</td>\n",
       "      <td>0</td>\n",
       "      <td>0</td>\n",
       "      <td>0</td>\n",
       "      <td>0</td>\n",
       "      <td>1</td>\n",
       "      <td>1</td>\n",
       "      <td>0</td>\n",
       "      <td>2</td>\n",
       "    </tr>\n",
       "    <tr>\n",
       "      <th>1</th>\n",
       "      <td>2953</td>\n",
       "      <td>Cn1ncc2c(cccc12)-c1cccn2nc(Nc3ccc4CCN(CCc4c3)C...</td>\n",
       "      <td>InChI=1S/C29H31N7O2/c1-29(2,3)38-28(37)35-15-1...</td>\n",
       "      <td>MAZKPYXDQCNDAZ-UHFFFAOYSA-N</td>\n",
       "      <td>2013</td>\n",
       "      <td>US8501936, 298::US8501936, 300</td>\n",
       "      <td>Tyrosine-protein kinase JAK3</td>\n",
       "      <td>Homo sapiens</td>\n",
       "      <td>0.25</td>\n",
       "      <td>NaN</td>\n",
       "      <td>...</td>\n",
       "      <td>509.614</td>\n",
       "      <td>5.3623</td>\n",
       "      <td>0</td>\n",
       "      <td>0</td>\n",
       "      <td>0</td>\n",
       "      <td>0</td>\n",
       "      <td>1</td>\n",
       "      <td>1</td>\n",
       "      <td>0</td>\n",
       "      <td>2</td>\n",
       "    </tr>\n",
       "    <tr>\n",
       "      <th>2</th>\n",
       "      <td>3039</td>\n",
       "      <td>Cn1ncc2c(cccc12)-c1cccn2nc(Nc3ccc4CCN(CCc4c3)C...</td>\n",
       "      <td>InChI=1S/C29H31N7O2/c1-29(2,3)38-28(37)35-15-1...</td>\n",
       "      <td>MAZKPYXDQCNDAZ-UHFFFAOYSA-N</td>\n",
       "      <td>2013</td>\n",
       "      <td>US8501936, 298::US8501936, 300</td>\n",
       "      <td>Tyrosine-protein kinase JAK2</td>\n",
       "      <td>Homo sapiens</td>\n",
       "      <td>0.41</td>\n",
       "      <td>NaN</td>\n",
       "      <td>...</td>\n",
       "      <td>509.614</td>\n",
       "      <td>5.3623</td>\n",
       "      <td>0</td>\n",
       "      <td>0</td>\n",
       "      <td>0</td>\n",
       "      <td>0</td>\n",
       "      <td>1</td>\n",
       "      <td>1</td>\n",
       "      <td>0</td>\n",
       "      <td>2</td>\n",
       "    </tr>\n",
       "    <tr>\n",
       "      <th>3</th>\n",
       "      <td>3041</td>\n",
       "      <td>CS(=O)(=O)c1ccc(cc1)C(=C)n1nc(NC(=O)Nc2ccc(cc2...</td>\n",
       "      <td>InChI=1S/C24H27N7O3S/c1-4-22-27-23(29-31(22)17...</td>\n",
       "      <td>IMNDRGLFDWUUKR-UHFFFAOYSA-N</td>\n",
       "      <td>2061</td>\n",
       "      <td>US8501936, 90</td>\n",
       "      <td>Tyrosine-protein kinase JAK2</td>\n",
       "      <td>Homo sapiens</td>\n",
       "      <td>0.80</td>\n",
       "      <td>NaN</td>\n",
       "      <td>...</td>\n",
       "      <td>493.593</td>\n",
       "      <td>2.8972</td>\n",
       "      <td>0</td>\n",
       "      <td>0</td>\n",
       "      <td>0</td>\n",
       "      <td>0</td>\n",
       "      <td>0</td>\n",
       "      <td>2</td>\n",
       "      <td>0</td>\n",
       "      <td>2</td>\n",
       "    </tr>\n",
       "    <tr>\n",
       "      <th>4</th>\n",
       "      <td>3072</td>\n",
       "      <td>CS(=O)(=O)c1ccc(cc1)C(=C)n1nc(NC(=O)Nc2ccc(cc2...</td>\n",
       "      <td>InChI=1S/C24H27N7O3S/c1-4-22-27-23(29-31(22)17...</td>\n",
       "      <td>IMNDRGLFDWUUKR-UHFFFAOYSA-N</td>\n",
       "      <td>2061</td>\n",
       "      <td>US8501936, 90</td>\n",
       "      <td>Tyrosine-protein kinase JAK3</td>\n",
       "      <td>Homo sapiens</td>\n",
       "      <td>0.99</td>\n",
       "      <td>NaN</td>\n",
       "      <td>...</td>\n",
       "      <td>493.593</td>\n",
       "      <td>2.8972</td>\n",
       "      <td>0</td>\n",
       "      <td>0</td>\n",
       "      <td>0</td>\n",
       "      <td>0</td>\n",
       "      <td>0</td>\n",
       "      <td>2</td>\n",
       "      <td>0</td>\n",
       "      <td>2</td>\n",
       "    </tr>\n",
       "  </tbody>\n",
       "</table>\n",
       "<p>5 rows × 61 columns</p>\n",
       "</div>"
      ],
      "text/plain": [
       "   BindingDB Reactant_set_id  \\\n",
       "0                       2880   \n",
       "1                       2953   \n",
       "2                       3039   \n",
       "3                       3041   \n",
       "4                       3072   \n",
       "\n",
       "                                       Ligand SMILES  \\\n",
       "0  Cn1ncc2c(cccc12)-c1cccn2nc(Nc3ccc4CCN(CCc4c3)C...   \n",
       "1  Cn1ncc2c(cccc12)-c1cccn2nc(Nc3ccc4CCN(CCc4c3)C...   \n",
       "2  Cn1ncc2c(cccc12)-c1cccn2nc(Nc3ccc4CCN(CCc4c3)C...   \n",
       "3  CS(=O)(=O)c1ccc(cc1)C(=C)n1nc(NC(=O)Nc2ccc(cc2...   \n",
       "4  CS(=O)(=O)c1ccc(cc1)C(=C)n1nc(NC(=O)Nc2ccc(cc2...   \n",
       "\n",
       "                                        Ligand InChI  \\\n",
       "0  InChI=1S/C29H31N7O2/c1-29(2,3)38-28(37)35-15-1...   \n",
       "1  InChI=1S/C29H31N7O2/c1-29(2,3)38-28(37)35-15-1...   \n",
       "2  InChI=1S/C29H31N7O2/c1-29(2,3)38-28(37)35-15-1...   \n",
       "3  InChI=1S/C24H27N7O3S/c1-4-22-27-23(29-31(22)17...   \n",
       "4  InChI=1S/C24H27N7O3S/c1-4-22-27-23(29-31(22)17...   \n",
       "\n",
       "              Ligand InChI Key  BindingDB MonomerID  \\\n",
       "0  MAZKPYXDQCNDAZ-UHFFFAOYSA-N                 2013   \n",
       "1  MAZKPYXDQCNDAZ-UHFFFAOYSA-N                 2013   \n",
       "2  MAZKPYXDQCNDAZ-UHFFFAOYSA-N                 2013   \n",
       "3  IMNDRGLFDWUUKR-UHFFFAOYSA-N                 2061   \n",
       "4  IMNDRGLFDWUUKR-UHFFFAOYSA-N                 2061   \n",
       "\n",
       "            BindingDB Ligand Name                   Target Name  \\\n",
       "0  US8501936, 298::US8501936, 300  Tyrosine-protein kinase JAK2   \n",
       "1  US8501936, 298::US8501936, 300  Tyrosine-protein kinase JAK3   \n",
       "2  US8501936, 298::US8501936, 300  Tyrosine-protein kinase JAK2   \n",
       "3                   US8501936, 90  Tyrosine-protein kinase JAK2   \n",
       "4                   US8501936, 90  Tyrosine-protein kinase JAK3   \n",
       "\n",
       "  Target Source Organism According to Curator or DataSource  Ki (nM)  \\\n",
       "0                                       Homo sapiens            0.24   \n",
       "1                                       Homo sapiens            0.25   \n",
       "2                                       Homo sapiens            0.41   \n",
       "3                                       Homo sapiens            0.80   \n",
       "4                                       Homo sapiens            0.99   \n",
       "\n",
       "   IC50 (nM)  ...  Ligand MW    logP  Charge  Aliphatic OH  Aromatic NH  \\\n",
       "0        NaN  ...    509.614  5.3623       0             0            0   \n",
       "1        NaN  ...    509.614  5.3623       0             0            0   \n",
       "2        NaN  ...    509.614  5.3623       0             0            0   \n",
       "3        NaN  ...    493.593  2.8972       0             0            0   \n",
       "4        NaN  ...    493.593  2.8972       0             0            0   \n",
       "\n",
       "   Ester Ether Amide Ketone  Benzene Ring  \n",
       "0      0     1     1      0             2  \n",
       "1      0     1     1      0             2  \n",
       "2      0     1     1      0             2  \n",
       "3      0     0     2      0             2  \n",
       "4      0     0     2      0             2  \n",
       "\n",
       "[5 rows x 61 columns]"
      ]
     },
     "execution_count": 2,
     "metadata": {},
     "output_type": "execute_result"
    }
   ],
   "source": [
    "df_clean = load_data()\n",
    "df_clean.head()"
   ]
  },
  {
   "cell_type": "markdown",
   "metadata": {},
   "source": [
    "# 2. Add features"
   ]
  },
  {
   "cell_type": "code",
   "execution_count": 3,
   "metadata": {},
   "outputs": [],
   "source": [
    "properties = ['Ligand MW', 'logP']\t\n",
    "metrics = ['pKi', 'pIC50']\n",
    "\n",
    "n_properties = len(properties)\n",
    "n_metrics = len(metrics)"
   ]
  },
  {
   "cell_type": "code",
   "execution_count": null,
   "metadata": {},
   "outputs": [],
   "source": [
    "'''from src.utils.exploration_and_clean import clean_metrics\n",
    "\n",
    "try:\n",
    "    df_clean['IC50 (nM)'] = clean_metrics(df_clean['IC50 (nM)'])\n",
    "except:\n",
    "    pass\n",
    "\n",
    "df_clean['pIC50'] = np.where(\n",
    "    df_clean['IC50 (nM)'] > 0,  # Only apply log10 to positive values\n",
    "    -np.log10(df_clean['IC50 (nM)'] * 1e-9),  # Transform to molar and take -log10\n",
    "    np.nan  # Assign NaN for zero or negative values\n",
    ")\n",
    "df_clean['pKi'] = np.where(\n",
    "    df_clean['Ki (nM)'] > 0,  # Only apply log10 to positive values\n",
    "    -np.log10(df_clean['Ki (nM)'] * 1e-9),  # Transform to molar and take -log10\n",
    "    np.nan  # Assign NaN for zero or negative values\n",
    ")'''"
   ]
  },
  {
   "cell_type": "code",
   "execution_count": 5,
   "metadata": {},
   "outputs": [],
   "source": [
    "df = df_clean[:2000]"
   ]
  },
  {
   "cell_type": "markdown",
   "metadata": {},
   "source": [
    "# 3. Characterization via embeddings"
   ]
  },
  {
   "cell_type": "code",
   "execution_count": 3,
   "metadata": {},
   "outputs": [],
   "source": [
    "df_Mol2Vec = load_data(f'src/data/embeddings_Mol2Vec.csv.zip')\n",
    "df_Mol2Vec.set_index('Ligand SMILES', inplace=True)"
   ]
  },
  {
   "cell_type": "markdown",
   "metadata": {},
   "source": [
    "## 1. Characterization of all the ligands of the family"
   ]
  },
  {
   "cell_type": "markdown",
   "metadata": {},
   "source": [
    "### a. RDKit Descriptors"
   ]
  },
  {
   "cell_type": "code",
   "execution_count": 25,
   "metadata": {},
   "outputs": [],
   "source": [
    "# Import required libraries\n",
    "from sklearn.preprocessing import StandardScaler\n",
    "from sklearn.decomposition import PCA\n",
    "from sklearn.manifold import TSNE\n",
    "#import seaborn as sns\n",
    "from tqdm import tqdm"
   ]
  },
  {
   "cell_type": "code",
   "execution_count": 26,
   "metadata": {},
   "outputs": [],
   "source": [
    "import pandas as pd\n",
    "import numpy as np\n",
    "from src.scripts.load_and_save import load_data"
   ]
  },
  {
   "cell_type": "code",
   "execution_count": 29,
   "metadata": {},
   "outputs": [],
   "source": [
    "# Step 2: Perform PCA\n",
    "# Standardize the features\n",
    "\n",
    "def pca_embeddings(df, name):\n",
    "    scaler = StandardScaler()\n",
    "    scaled_descriptors = scaler.fit_transform(df)\n",
    "\n",
    "    # Apply PCA\n",
    "    pca = PCA(n_components=3)\n",
    "    pca_result = pca.fit_transform(scaled_descriptors)\n",
    "    pca_df = pd.DataFrame(pca_result, columns=['PC1', 'PC2', 'PC3'])\n",
    "    pca_df['Ligand SMILES'] = df.index\n",
    "    pca_df.set_index(['Ligand SMILES'], inplace=True)\n",
    "    pca_df.to_csv(f'src/data/PCA_{name}.csv.zip', \n",
    "                                  compression='zip',\n",
    "                                  encoding='utf-8',\n",
    "                                  index=True)\n",
    "    return pca_df, pca_result\n",
    "df_Mol2Vec, pca_result = pca_embeddings(df_Mol2Vec, 'Mol2Vec')"
   ]
  },
  {
   "cell_type": "code",
   "execution_count": 16,
   "metadata": {},
   "outputs": [],
   "source": [
    "pca_embeddings(df_Mol2Vec, 'Mol2Vec').to_csv(f'src/data/PCA_Mol2Vec.csv.zip', \n",
    "                                  compression='zip',\n",
    "                                  encoding='utf-8',\n",
    "                                  index=True)"
   ]
  },
  {
   "cell_type": "code",
   "execution_count": null,
   "metadata": {},
   "outputs": [],
   "source": [
    "df_RDKIT_1 = load_data('src/data/embeddings_RDKIT_descriptors_0_40000.csv.zip')\n",
    "df_RDKIT_1.set_index('Ligand SMILES', inplace=True)\n",
    "\n",
    "df_RDKIT_2 = load_data('src/data/embeddings_RDKIT_descriptors_40000_86769.csv.zip')\n",
    "df_RDKIT_2.set_index('Ligand SMILES', inplace=True)\n",
    "\n",
    "pd.concat([df_RDKIT_1, df_RDKIT_2]).to_csv(f'src/data/embeddings_RDKIT_descriptors.csv.zip', \n",
    "                                  compression='zip',\n",
    "                                  encoding='utf-8',\n",
    "                                  index=True)\n",
    "\n"
   ]
  },
  {
   "cell_type": "code",
   "execution_count": 29,
   "metadata": {},
   "outputs": [],
   "source": [
    "df_RDKIT_1 = load_data('src/data/embeddings_Morgan_Fingerprint_0_40000.csv.zip')\n",
    "df_RDKIT_1.set_index('Ligand SMILES', inplace=True)\n",
    "\n",
    "df_RDKIT_2 = load_data('src/data/embeddings_Morgan_Fingerprint_40000_86769.csv.zip')\n",
    "df_RDKIT_2.set_index('Ligand SMILES', inplace=True)\n",
    "\n",
    "pd.concat([df_RDKIT_1, df_RDKIT_2]).to_csv(f'src/data/embeddings_Morgan_Fingerprint.csv.zip', \n",
    "                                  compression='zip',\n",
    "                                  encoding='utf-8',\n",
    "                                  index=True)\n"
   ]
  },
  {
   "cell_type": "code",
   "execution_count": 42,
   "metadata": {},
   "outputs": [
    {
     "name": "stdout",
     "output_type": "stream",
     "text": [
      "0\n",
      "0\n",
      "0\n",
      "0\n",
      "0\n",
      "0\n",
      "0\n",
      "0\n",
      "0\n",
      "0\n",
      "0\n",
      "1\n",
      "1\n",
      "1\n",
      "1\n",
      "0\n",
      "0\n",
      "0\n",
      "2\n",
      "2\n",
      "2\n",
      "2\n",
      "2\n",
      "2\n",
      "2\n",
      "2\n",
      "0\n",
      "0\n",
      "0\n",
      "0\n",
      "0\n",
      "0\n",
      "0\n",
      "0\n",
      "0\n",
      "0\n",
      "0\n",
      "0\n",
      "0\n",
      "0\n",
      "0\n",
      "0\n",
      "0\n",
      "0\n",
      "0\n",
      "0\n",
      "0\n",
      "0\n",
      "0\n",
      "0\n",
      "0\n",
      "0\n",
      "0\n",
      "0\n",
      "0\n",
      "0\n",
      "0\n",
      "0\n",
      "0\n",
      "0\n",
      "0\n",
      "0\n",
      "0\n",
      "0\n",
      "0\n",
      "0\n",
      "0\n",
      "0\n",
      "0\n",
      "0\n",
      "0\n",
      "0\n",
      "0\n",
      "0\n",
      "0\n",
      "0\n",
      "0\n",
      "0\n",
      "0\n",
      "0\n",
      "0\n",
      "0\n",
      "0\n",
      "0\n",
      "0\n",
      "0\n",
      "0\n",
      "0\n",
      "0\n",
      "0\n",
      "0\n",
      "0\n",
      "0\n",
      "0\n",
      "0\n",
      "0\n",
      "0\n",
      "0\n",
      "0\n",
      "0\n",
      "0\n",
      "0\n",
      "0\n",
      "0\n",
      "0\n",
      "0\n",
      "0\n",
      "0\n",
      "0\n",
      "0\n",
      "0\n",
      "0\n",
      "0\n",
      "0\n",
      "0\n",
      "0\n",
      "0\n",
      "0\n",
      "0\n",
      "0\n",
      "0\n",
      "0\n",
      "0\n",
      "0\n",
      "0\n"
     ]
    }
   ],
   "source": [
    "for col in df_RDKIT:\n",
    "    print(df_RDKIT[col].isna().sum())"
   ]
  },
  {
   "cell_type": "code",
   "execution_count": null,
   "metadata": {},
   "outputs": [],
   "source": []
  },
  {
   "cell_type": "code",
   "execution_count": 31,
   "metadata": {},
   "outputs": [
    {
     "data": {
      "text/plain": [
       "(30249, 3)"
      ]
     },
     "execution_count": 31,
     "metadata": {},
     "output_type": "execute_result"
    }
   ],
   "source": [
    "pca_result.shape"
   ]
  },
  {
   "cell_type": "markdown",
   "metadata": {},
   "source": [
    "#### Save the PCA embeddings"
   ]
  },
  {
   "cell_type": "code",
   "execution_count": 17,
   "metadata": {},
   "outputs": [
    {
     "data": {
      "text/html": [
       "<div>\n",
       "<style scoped>\n",
       "    .dataframe tbody tr th:only-of-type {\n",
       "        vertical-align: middle;\n",
       "    }\n",
       "\n",
       "    .dataframe tbody tr th {\n",
       "        vertical-align: top;\n",
       "    }\n",
       "\n",
       "    .dataframe thead th {\n",
       "        text-align: right;\n",
       "    }\n",
       "</style>\n",
       "<table border=\"1\" class=\"dataframe\">\n",
       "  <thead>\n",
       "    <tr style=\"text-align: right;\">\n",
       "      <th></th>\n",
       "      <th>PC1</th>\n",
       "      <th>PC2</th>\n",
       "      <th>PC3</th>\n",
       "    </tr>\n",
       "    <tr>\n",
       "      <th>Ligand SMILES</th>\n",
       "      <th></th>\n",
       "      <th></th>\n",
       "      <th></th>\n",
       "    </tr>\n",
       "  </thead>\n",
       "  <tbody>\n",
       "    <tr>\n",
       "      <th>Cn1ncc2c(cccc12)-c1cccn2nc(Nc3ccc4CCN(CCc4c3)C(=O)OC(C)(C)C)nc12</th>\n",
       "      <td>-3.067853</td>\n",
       "      <td>0.960062</td>\n",
       "      <td>7.768844</td>\n",
       "    </tr>\n",
       "    <tr>\n",
       "      <th>Cn1ncc2c(cccc12)-c1cccn2nc(Nc3ccc4CCN(CCc4c3)C(=O)OC(C)(C)C)nc12</th>\n",
       "      <td>-2.513283</td>\n",
       "      <td>3.441097</td>\n",
       "      <td>8.980723</td>\n",
       "    </tr>\n",
       "    <tr>\n",
       "      <th>Cn1ncc2c(cccc12)-c1cccn2nc(Nc3ccc4CCN(CCc4c3)C(=O)OC(C)(C)C)nc12</th>\n",
       "      <td>13.563571</td>\n",
       "      <td>-1.073759</td>\n",
       "      <td>0.305663</td>\n",
       "    </tr>\n",
       "    <tr>\n",
       "      <th>CS(=O)(=O)c1ccc(cc1)C(=C)n1nc(NC(=O)Nc2ccc(cc2)N2CCNCC2)nc1C=C</th>\n",
       "      <td>12.954264</td>\n",
       "      <td>-0.991739</td>\n",
       "      <td>-0.070006</td>\n",
       "    </tr>\n",
       "    <tr>\n",
       "      <th>CS(=O)(=O)c1ccc(cc1)C(=C)n1nc(NC(=O)Nc2ccc(cc2)N2CCNCC2)nc1C=C</th>\n",
       "      <td>9.283322</td>\n",
       "      <td>-0.070400</td>\n",
       "      <td>-0.079901</td>\n",
       "    </tr>\n",
       "    <tr>\n",
       "      <th>Cn1c2nc[nH]c2c(=O)n(C)c1=O</th>\n",
       "      <td>-3.807554</td>\n",
       "      <td>13.011799</td>\n",
       "      <td>-2.661130</td>\n",
       "    </tr>\n",
       "    <tr>\n",
       "      <th>Cn1cnc2n(C)c(=O)n(C)c(=O)c12</th>\n",
       "      <td>-3.807554</td>\n",
       "      <td>13.011799</td>\n",
       "      <td>-2.661130</td>\n",
       "    </tr>\n",
       "    <tr>\n",
       "      <th>CC(=O)CCCCn1c(=O)n(C)c2ncn(C)c2c1=O</th>\n",
       "      <td>5.129887</td>\n",
       "      <td>-0.932013</td>\n",
       "      <td>-5.884175</td>\n",
       "    </tr>\n",
       "    <tr>\n",
       "      <th>OC(c1cnc(s1)[C@@H](Cc1ccc[n+]([O-])c1)c1ccc(OC(F)F)c(OC2CC2)c1)(C(F)(F)F)C(F)(F)F</th>\n",
       "      <td>8.399279</td>\n",
       "      <td>-0.819157</td>\n",
       "      <td>0.085476</td>\n",
       "    </tr>\n",
       "    <tr>\n",
       "      <th>OC(c1cnc(s1)[C@H](Cc1ccc[n+]([O-])c1)c1ccc(OC(F)F)c(OC2CC2)c1)(C(F)(F)F)C(F)(F)F</th>\n",
       "      <td>7.746786</td>\n",
       "      <td>-1.117394</td>\n",
       "      <td>1.719840</td>\n",
       "    </tr>\n",
       "    <tr>\n",
       "      <th>COc1ccc(cc1OC1CCCC1)C1CNC(=O)C1</th>\n",
       "      <td>-1.320875</td>\n",
       "      <td>-3.802337</td>\n",
       "      <td>-2.354269</td>\n",
       "    </tr>\n",
       "    <tr>\n",
       "      <th>CC1CC(=O)NN=C1c1ccc(cc1)-n1ccnc1</th>\n",
       "      <td>-6.031783</td>\n",
       "      <td>-3.678124</td>\n",
       "      <td>-0.855021</td>\n",
       "    </tr>\n",
       "    <tr>\n",
       "      <th>CCCOc1ccccc1-c1nc2nn[nH]c2c(=O)[nH]1</th>\n",
       "      <td>-7.585210</td>\n",
       "      <td>-3.973741</td>\n",
       "      <td>-0.859888</td>\n",
       "    </tr>\n",
       "    <tr>\n",
       "      <th>CCNc1ncn(Cc2ccc(OC)c(OC3CCCC3)c2)c2nc(nc12)C(C)C</th>\n",
       "      <td>-7.541913</td>\n",
       "      <td>-4.035590</td>\n",
       "      <td>-0.962024</td>\n",
       "    </tr>\n",
       "    <tr>\n",
       "      <th>COc1ccc(Cn2cnc(N)c3nc(nc23)C(C)(C)OCc2ccccc2)cc1OC1CCCC1</th>\n",
       "      <td>-7.698965</td>\n",
       "      <td>-3.954367</td>\n",
       "      <td>-0.917672</td>\n",
       "    </tr>\n",
       "    <tr>\n",
       "      <th>COc1ccccc1COC(C)(C)c1nc2c(N)ncn(Cc3ccc(OC)c(OC4CCCC4)c3)c2n1</th>\n",
       "      <td>-6.617441</td>\n",
       "      <td>-3.224936</td>\n",
       "      <td>-0.732747</td>\n",
       "    </tr>\n",
       "    <tr>\n",
       "      <th>COc1cccc(COC(C)(C)c2nc3c(N)ncn(Cc4ccc(OC)c(OC5CCCC5)c4)c3n2)c1</th>\n",
       "      <td>-7.084677</td>\n",
       "      <td>-2.751201</td>\n",
       "      <td>-0.822582</td>\n",
       "    </tr>\n",
       "  </tbody>\n",
       "</table>\n",
       "</div>"
      ],
      "text/plain": [
       "                                                          PC1        PC2  \\\n",
       "Ligand SMILES                                                              \n",
       "Cn1ncc2c(cccc12)-c1cccn2nc(Nc3ccc4CCN(CCc4c3)C(...  -3.067853   0.960062   \n",
       "Cn1ncc2c(cccc12)-c1cccn2nc(Nc3ccc4CCN(CCc4c3)C(...  -2.513283   3.441097   \n",
       "Cn1ncc2c(cccc12)-c1cccn2nc(Nc3ccc4CCN(CCc4c3)C(...  13.563571  -1.073759   \n",
       "CS(=O)(=O)c1ccc(cc1)C(=C)n1nc(NC(=O)Nc2ccc(cc2)...  12.954264  -0.991739   \n",
       "CS(=O)(=O)c1ccc(cc1)C(=C)n1nc(NC(=O)Nc2ccc(cc2)...   9.283322  -0.070400   \n",
       "Cn1c2nc[nH]c2c(=O)n(C)c1=O                          -3.807554  13.011799   \n",
       "Cn1cnc2n(C)c(=O)n(C)c(=O)c12                        -3.807554  13.011799   \n",
       "CC(=O)CCCCn1c(=O)n(C)c2ncn(C)c2c1=O                  5.129887  -0.932013   \n",
       "OC(c1cnc(s1)[C@@H](Cc1ccc[n+]([O-])c1)c1ccc(OC(...   8.399279  -0.819157   \n",
       "OC(c1cnc(s1)[C@H](Cc1ccc[n+]([O-])c1)c1ccc(OC(F...   7.746786  -1.117394   \n",
       "COc1ccc(cc1OC1CCCC1)C1CNC(=O)C1                     -1.320875  -3.802337   \n",
       "CC1CC(=O)NN=C1c1ccc(cc1)-n1ccnc1                    -6.031783  -3.678124   \n",
       "CCCOc1ccccc1-c1nc2nn[nH]c2c(=O)[nH]1                -7.585210  -3.973741   \n",
       "CCNc1ncn(Cc2ccc(OC)c(OC3CCCC3)c2)c2nc(nc12)C(C)C    -7.541913  -4.035590   \n",
       "COc1ccc(Cn2cnc(N)c3nc(nc23)C(C)(C)OCc2ccccc2)cc...  -7.698965  -3.954367   \n",
       "COc1ccccc1COC(C)(C)c1nc2c(N)ncn(Cc3ccc(OC)c(OC4...  -6.617441  -3.224936   \n",
       "COc1cccc(COC(C)(C)c2nc3c(N)ncn(Cc4ccc(OC)c(OC5C...  -7.084677  -2.751201   \n",
       "\n",
       "                                                         PC3  \n",
       "Ligand SMILES                                                 \n",
       "Cn1ncc2c(cccc12)-c1cccn2nc(Nc3ccc4CCN(CCc4c3)C(...  7.768844  \n",
       "Cn1ncc2c(cccc12)-c1cccn2nc(Nc3ccc4CCN(CCc4c3)C(...  8.980723  \n",
       "Cn1ncc2c(cccc12)-c1cccn2nc(Nc3ccc4CCN(CCc4c3)C(...  0.305663  \n",
       "CS(=O)(=O)c1ccc(cc1)C(=C)n1nc(NC(=O)Nc2ccc(cc2)... -0.070006  \n",
       "CS(=O)(=O)c1ccc(cc1)C(=C)n1nc(NC(=O)Nc2ccc(cc2)... -0.079901  \n",
       "Cn1c2nc[nH]c2c(=O)n(C)c1=O                         -2.661130  \n",
       "Cn1cnc2n(C)c(=O)n(C)c(=O)c12                       -2.661130  \n",
       "CC(=O)CCCCn1c(=O)n(C)c2ncn(C)c2c1=O                -5.884175  \n",
       "OC(c1cnc(s1)[C@@H](Cc1ccc[n+]([O-])c1)c1ccc(OC(...  0.085476  \n",
       "OC(c1cnc(s1)[C@H](Cc1ccc[n+]([O-])c1)c1ccc(OC(F...  1.719840  \n",
       "COc1ccc(cc1OC1CCCC1)C1CNC(=O)C1                    -2.354269  \n",
       "CC1CC(=O)NN=C1c1ccc(cc1)-n1ccnc1                   -0.855021  \n",
       "CCCOc1ccccc1-c1nc2nn[nH]c2c(=O)[nH]1               -0.859888  \n",
       "CCNc1ncn(Cc2ccc(OC)c(OC3CCCC3)c2)c2nc(nc12)C(C)C   -0.962024  \n",
       "COc1ccc(Cn2cnc(N)c3nc(nc23)C(C)(C)OCc2ccccc2)cc... -0.917672  \n",
       "COc1ccccc1COC(C)(C)c1nc2c(N)ncn(Cc3ccc(OC)c(OC4... -0.732747  \n",
       "COc1cccc(COC(C)(C)c2nc3c(N)ncn(Cc4ccc(OC)c(OC5C... -0.822582  "
      ]
     },
     "execution_count": 17,
     "metadata": {},
     "output_type": "execute_result"
    }
   ],
   "source": [
    "pca_df = pd.DataFrame(pca_result, columns=['PC1', 'PC2', 'PC3'])\n",
    "pca_df['Ligand SMILES'] = df['Ligand SMILES']\n",
    "pca_df.set_index(['Ligand SMILES'], inplace=True)\n",
    "pca_df"
   ]
  },
  {
   "cell_type": "code",
   "execution_count": 21,
   "metadata": {},
   "outputs": [
    {
     "data": {
      "text/html": [
       "<div>\n",
       "<style scoped>\n",
       "    .dataframe tbody tr th:only-of-type {\n",
       "        vertical-align: middle;\n",
       "    }\n",
       "\n",
       "    .dataframe tbody tr th {\n",
       "        vertical-align: top;\n",
       "    }\n",
       "\n",
       "    .dataframe thead th {\n",
       "        text-align: right;\n",
       "    }\n",
       "</style>\n",
       "<table border=\"1\" class=\"dataframe\">\n",
       "  <thead>\n",
       "    <tr style=\"text-align: right;\">\n",
       "      <th></th>\n",
       "      <th>Ligand SMILES</th>\n",
       "      <th>PC1</th>\n",
       "      <th>PC2</th>\n",
       "      <th>PC3</th>\n",
       "    </tr>\n",
       "  </thead>\n",
       "  <tbody>\n",
       "    <tr>\n",
       "      <th>0</th>\n",
       "      <td>Cn1ncc2c(cccc12)-c1cccn2nc(Nc3ccc4CCN(CCc4c3)C...</td>\n",
       "      <td>-3.900988</td>\n",
       "      <td>-2.151169</td>\n",
       "      <td>-0.629261</td>\n",
       "    </tr>\n",
       "    <tr>\n",
       "      <th>1</th>\n",
       "      <td>CS(=O)(=O)c1ccc(cc1)C(=C)n1nc(NC(=O)Nc2ccc(cc2...</td>\n",
       "      <td>-4.529785</td>\n",
       "      <td>1.978218</td>\n",
       "      <td>3.415271</td>\n",
       "    </tr>\n",
       "    <tr>\n",
       "      <th>2</th>\n",
       "      <td>Cn1c2nc[nH]c2c(=O)n(C)c1=O</td>\n",
       "      <td>-2.506667</td>\n",
       "      <td>3.458014</td>\n",
       "      <td>-4.166742</td>\n",
       "    </tr>\n",
       "    <tr>\n",
       "      <th>3</th>\n",
       "      <td>Cn1cnc2n(C)c(=O)n(C)c(=O)c12</td>\n",
       "      <td>-1.042616</td>\n",
       "      <td>0.252102</td>\n",
       "      <td>-7.489405</td>\n",
       "    </tr>\n",
       "    <tr>\n",
       "      <th>4</th>\n",
       "      <td>CC(=O)CCCCn1c(=O)n(C)c2ncn(C)c2c1=O</td>\n",
       "      <td>-0.831969</td>\n",
       "      <td>14.350407</td>\n",
       "      <td>-2.596931</td>\n",
       "    </tr>\n",
       "  </tbody>\n",
       "</table>\n",
       "</div>"
      ],
      "text/plain": [
       "                                       Ligand SMILES       PC1        PC2  \\\n",
       "0  Cn1ncc2c(cccc12)-c1cccn2nc(Nc3ccc4CCN(CCc4c3)C... -3.900988  -2.151169   \n",
       "1  CS(=O)(=O)c1ccc(cc1)C(=C)n1nc(NC(=O)Nc2ccc(cc2... -4.529785   1.978218   \n",
       "2                         Cn1c2nc[nH]c2c(=O)n(C)c1=O -2.506667   3.458014   \n",
       "3                       Cn1cnc2n(C)c(=O)n(C)c(=O)c12 -1.042616   0.252102   \n",
       "4                CC(=O)CCCCn1c(=O)n(C)c2ncn(C)c2c1=O -0.831969  14.350407   \n",
       "\n",
       "        PC3  \n",
       "0 -0.629261  \n",
       "1  3.415271  \n",
       "2 -4.166742  \n",
       "3 -7.489405  \n",
       "4 -2.596931  "
      ]
     },
     "execution_count": 21,
     "metadata": {},
     "output_type": "execute_result"
    }
   ],
   "source": [
    "#pca_df.to_csv('src/data/RDKIT/ligand_descriptors.csv.zip', \n",
    "'''compression='zip',\n",
    "    encoding='utf-8',\n",
    "    index=True)'''\n",
    "\n",
    "pca_df_loaded = load_data('src/data/PCA_Mol2Vec.csv.zip')\n",
    "pca_df_loaded.head()"
   ]
  },
  {
   "cell_type": "code",
   "execution_count": 22,
   "metadata": {},
   "outputs": [
    {
     "name": "stdout",
     "output_type": "stream",
     "text": [
      "[t-SNE] Computing 10 nearest neighbors...\n",
      "[t-SNE] Indexed 50 samples in 0.001s...\n",
      "[t-SNE] Computed neighbors for 50 samples in 0.056s...\n",
      "[t-SNE] Computed conditional probabilities for sample 50 / 50\n",
      "[t-SNE] Mean sigma: 2.256114\n",
      "[t-SNE] KL divergence after 250 iterations with early exaggeration: 95.534912\n",
      "[t-SNE] KL divergence after 251 iterations: 179769313486231570814527423731704356798070567525844996598917476803157260780028538760589558632766878171540458953514382464234321326889464182768467546703537516986049910576551282076245490090389328944075868508455133942304583236903222948165808559332123348274797826204144723168738177180919299881250404026184124858368.000000\n"
     ]
    }
   ],
   "source": [
    "# Step 3: Perform t-SNE\n",
    "\n",
    "scaler = StandardScaler()\n",
    "scaled_descriptors = scaler.fit_transform(df_Mol2Vec)\n",
    "tsne = TSNE(n_components=3, random_state=42, verbose=True, n_iter=250, n_jobs=12, perplexity =3)\n",
    "tsne_result = tsne.fit_transform(scaled_descriptors[:50])\n"
   ]
  },
  {
   "cell_type": "code",
   "execution_count": null,
   "metadata": {},
   "outputs": [
    {
     "name": "stderr",
     "output_type": "stream",
     "text": [
      "100%|██████████| 3/3 [00:00<00:00, 11.31it/s]\n"
     ]
    }
   ],
   "source": [
    "from src.utils.retrieve_family import retrieve_family\n",
    "\n",
    "uniprot_ids = df_subset[\"UniProt (SwissProt) Entry Name of Target Chain\"].unique()\n",
    "family_dict = await retrieve_family(uniprot_ids)\n"
   ]
  },
  {
   "cell_type": "code",
   "execution_count": 35,
   "metadata": {},
   "outputs": [
    {
     "ename": "NameError",
     "evalue": "name 'df' is not defined",
     "output_type": "error",
     "traceback": [
      "\u001b[0;31m---------------------------------------------------------------------------\u001b[0m",
      "\u001b[0;31mNameError\u001b[0m                                 Traceback (most recent call last)",
      "Cell \u001b[0;32mIn[35], line 6\u001b[0m\n\u001b[1;32m      1\u001b[0m fig, (ax1, ax2) \u001b[38;5;241m=\u001b[39m plt\u001b[38;5;241m.\u001b[39msubplots(\u001b[38;5;241m1\u001b[39m, \u001b[38;5;241m2\u001b[39m, figsize\u001b[38;5;241m=\u001b[39m(\u001b[38;5;241m15\u001b[39m, \u001b[38;5;241m5\u001b[39m))\n\u001b[1;32m      3\u001b[0m \u001b[38;5;66;03m#print(f'PCA explained variance ratio: {pca.explained_variance_ratio_}')\u001b[39;00m\n\u001b[1;32m      4\u001b[0m \u001b[38;5;66;03m# Plot PCA results, color by target name\u001b[39;00m\n\u001b[1;32m      5\u001b[0m \u001b[38;5;66;03m# Assign each target name a colour (integer)\u001b[39;00m\n\u001b[0;32m----> 6\u001b[0m colour_dict \u001b[38;5;241m=\u001b[39m {name: i \u001b[38;5;28;01mfor\u001b[39;00m i, name \u001b[38;5;129;01min\u001b[39;00m \u001b[38;5;28menumerate\u001b[39m(\u001b[43mdf\u001b[49m[\u001b[38;5;124m'\u001b[39m\u001b[38;5;124mTarget Name\u001b[39m\u001b[38;5;124m'\u001b[39m]\u001b[38;5;241m.\u001b[39munique())}\n\u001b[1;32m      7\u001b[0m scatter1 \u001b[38;5;241m=\u001b[39m ax1\u001b[38;5;241m.\u001b[39mscatter(pca_result[:, \u001b[38;5;241m0\u001b[39m], pca_result[:, \u001b[38;5;241m1\u001b[39m], alpha\u001b[38;5;241m=\u001b[39m\u001b[38;5;241m0.5\u001b[39m, c\u001b[38;5;241m=\u001b[39mdf[\u001b[38;5;124m'\u001b[39m\u001b[38;5;124mTarget Name\u001b[39m\u001b[38;5;124m'\u001b[39m]\u001b[38;5;241m.\u001b[39mmap(colour_dict), cmap\u001b[38;5;241m=\u001b[39m\u001b[38;5;124m'\u001b[39m\u001b[38;5;124mtab20\u001b[39m\u001b[38;5;124m'\u001b[39m)\n\u001b[1;32m      8\u001b[0m ax1\u001b[38;5;241m.\u001b[39mset_title(\u001b[38;5;124m'\u001b[39m\u001b[38;5;124mPCA of Molecular Descriptors\u001b[39m\u001b[38;5;124m'\u001b[39m)\n",
      "\u001b[0;31mNameError\u001b[0m: name 'df' is not defined"
     ]
    },
    {
     "data": {
      "image/png": "[encoded data removed]",
      "text/plain": [
       "<Figure size 1500x500 with 2 Axes>"
      ]
     },
     "metadata": {},
     "output_type": "display_data"
    }
   ],
   "source": [
    "\n",
    "\n",
    "fig, (ax1, ax2) = plt.subplots(1, 2, figsize=(15, 5))\n",
    "\n",
    "#print(f'PCA explained variance ratio: {pca.explained_variance_ratio_}')\n",
    "# Plot PCA results, color by target name\n",
    "# Assign each target name a colour (integer)\n",
    "colour_dict = {name: i for i, name in enumerate(df['Target Name'].unique())}\n",
    "scatter1 = ax1.scatter(pca_result[:, 0], pca_result[:, 1], alpha=0.5, c=df['Target Name'].map(colour_dict), cmap='tab20')\n",
    "ax1.set_title('PCA of Molecular Descriptors')\n",
    "ax1.set_xlabel('PC1')\n",
    "ax1.set_ylabel('PC2')\n",
    "ax1.legend(handles=scatter1.legend_elements()[0], labels=family_dict.keys(), title='Target Family')\n",
    "ax1.grid()\n",
    "ax1.axis('equal')\n",
    "\n",
    "# Plot t-SNE results\n",
    "scatter2 = ax2.scatter(tsne_result[:, 0], tsne_result[:, 1], alpha=0.5, c=df['Target Name'].map(colour_dict), cmap='tab20')\n",
    "ax2.set_title('t-SNE of Molecular Descriptors')\n",
    "ax2.set_xlabel('t-SNE dimension 1')\n",
    "ax2.set_ylabel('t-SNE dimension 2')\n",
    "ax1.grid()\n",
    "plt.tight_layout()\n",
    "plt.show()\n",
    "\n",
    "# Additional analysis: Feature importance in PCA\n",
    "'''feature_importance = pd.DataFrame(\n",
    "    pca.components_.T,\n",
    "    columns=['PC1', 'PC2'],\n",
    "    index=descriptor_df.columns\n",
    ")\n",
    "'''\n",
    "'''plt.figure(figsize=(10, 6))\n",
    "sns.heatmap(feature_importance, annot=True, cmap='RdBu', center=0)\n",
    "plt.title('PCA Feature Importance Heatmap')\n",
    "plt.tight_layout()\n",
    "plt.show()'''"
   ]
  },
  {
   "cell_type": "markdown",
   "metadata": {},
   "source": [
    "##### a.1. Evaluation of the PCA and t-SNE clusters"
   ]
  },
  {
   "cell_type": "code",
   "execution_count": 27,
   "metadata": {},
   "outputs": [],
   "source": [
    "# Perform K-means clustering\n",
    "from sklearn.cluster import KMeans\n",
    "from sklearn.metrics import silhouette_score, silhouette_samples\n",
    "from scipy.stats import mode"
   ]
  },
  {
   "cell_type": "code",
   "execution_count": 25,
   "metadata": {},
   "outputs": [],
   "source": [
    "pca_data = np.array(list(zip(pca_result[:, 0], pca_result[:, 1])))\n",
    "tsne_data = np.array(list(zip(tsne_result[:, 0], tsne_result[:, 1])))"
   ]
  },
  {
   "cell_type": "code",
   "execution_count": 36,
   "metadata": {},
   "outputs": [
    {
     "ename": "NameError",
     "evalue": "name 'pca_data' is not defined",
     "output_type": "error",
     "traceback": [
      "\u001b[0;31m---------------------------------------------------------------------------\u001b[0m",
      "\u001b[0;31mNameError\u001b[0m                                 Traceback (most recent call last)",
      "Cell \u001b[0;32mIn[36], line 3\u001b[0m\n\u001b[1;32m      1\u001b[0m \u001b[38;5;66;03m## PCA\u001b[39;00m\n\u001b[1;32m      2\u001b[0m pca_kmeans \u001b[38;5;241m=\u001b[39m KMeans(n_clusters\u001b[38;5;241m=\u001b[39m\u001b[38;5;241m3\u001b[39m, random_state\u001b[38;5;241m=\u001b[39m\u001b[38;5;241m0\u001b[39m)\u001b[38;5;66;03m#TODO : best number of clusters based on the silhouette\u001b[39;00m\n\u001b[0;32m----> 3\u001b[0m pca_kmeans\u001b[38;5;241m.\u001b[39mfit(\u001b[43mpca_data\u001b[49m)\n\u001b[1;32m      5\u001b[0m \u001b[38;5;66;03m# Get the cluster labels\u001b[39;00m\n\u001b[1;32m      6\u001b[0m pca_labels \u001b[38;5;241m=\u001b[39m pca_kmeans\u001b[38;5;241m.\u001b[39mlabels_\n",
      "\u001b[0;31mNameError\u001b[0m: name 'pca_data' is not defined"
     ]
    }
   ],
   "source": [
    "## PCA\n",
    "pca_kmeans = KMeans(n_clusters=3, random_state=0)#TODO : best number of clusters based on the silhouette\n",
    "pca_kmeans.fit(pca_data)\n",
    "\n",
    "# Get the cluster labels\n",
    "pca_labels = pca_kmeans.labels_\n",
    "pca_centers = pca_kmeans.cluster_centers_\n",
    "\n",
    "#Visualize the clustering results\n",
    "plt.scatter(pca_data[:, 0], pca_data[:, 1], c=pca_labels, cmap='viridis')\n",
    "plt.scatter(pca_centers[:, 0], pca_centers[:, 1], c='red', marker='x')\n",
    "plt.title('K-means Clustering on PCA')\n",
    "plt.xlabel('Feature 1')\n",
    "plt.ylabel('Feature 2')\n",
    "plt.show()"
   ]
  },
  {
   "cell_type": "code",
   "execution_count": 37,
   "metadata": {},
   "outputs": [
    {
     "ename": "NameError",
     "evalue": "name 'tsne_data' is not defined",
     "output_type": "error",
     "traceback": [
      "\u001b[0;31m---------------------------------------------------------------------------\u001b[0m",
      "\u001b[0;31mNameError\u001b[0m                                 Traceback (most recent call last)",
      "Cell \u001b[0;32mIn[37], line 3\u001b[0m\n\u001b[1;32m      1\u001b[0m \u001b[38;5;66;03m## tsne\u001b[39;00m\n\u001b[1;32m      2\u001b[0m tsne_kmeans \u001b[38;5;241m=\u001b[39m KMeans(n_clusters\u001b[38;5;241m=\u001b[39m\u001b[38;5;241m3\u001b[39m, random_state\u001b[38;5;241m=\u001b[39m\u001b[38;5;241m0\u001b[39m)\u001b[38;5;66;03m#TODO : best number of clusters based on the silhouette\u001b[39;00m\n\u001b[0;32m----> 3\u001b[0m tsne_kmeans\u001b[38;5;241m.\u001b[39mfit(\u001b[43mtsne_data\u001b[49m)\n\u001b[1;32m      5\u001b[0m \u001b[38;5;66;03m# Get the cluster labels\u001b[39;00m\n\u001b[1;32m      6\u001b[0m tsne_labels \u001b[38;5;241m=\u001b[39m tsne_kmeans\u001b[38;5;241m.\u001b[39mlabels_\n",
      "\u001b[0;31mNameError\u001b[0m: name 'tsne_data' is not defined"
     ]
    }
   ],
   "source": [
    "## tsne\n",
    "tsne_kmeans = KMeans(n_clusters=3, random_state=0)#TODO : best number of clusters based on the silhouette\n",
    "tsne_kmeans.fit(tsne_data)\n",
    "\n",
    "# Get the cluster labels\n",
    "tsne_labels = tsne_kmeans.labels_\n",
    "tsne_centers = tsne_kmeans.cluster_centers_\n",
    "\n",
    "#Visualize the clustering results\n",
    "plt.scatter(tsne_data[:, 0], tsne_data[:, 1], c=tsne_labels, cmap='viridis')\n",
    "plt.scatter(tsne_centers[:, 0], tsne_centers[:, 1], c='red', marker='x')\n",
    "plt.title('K-means Clustering tsne')\n",
    "plt.xlabel('Feature 1')\n",
    "plt.ylabel('Feature 2')\n",
    "plt.show()"
   ]
  },
  {
   "cell_type": "code",
   "execution_count": 28,
   "metadata": {},
   "outputs": [
    {
     "name": "stdout",
     "output_type": "stream",
     "text": [
      "Silhouette Score pca: 0.49698499598255197\n",
      "Silhouette Score pca: 0.3537749648094177\n"
     ]
    }
   ],
   "source": [
    "# silhouette of the found clusters\n",
    "pca_silhouette_avg = silhouette_score(pca_data, pca_labels)\n",
    "print(f'Silhouette Score pca: {pca_silhouette_avg}')\n",
    "\n",
    "tsne_silhouette_avg = silhouette_score(tsne_data, tsne_labels)\n",
    "print(f'Silhouette Score pca: {tsne_silhouette_avg}')\n"
   ]
  },
  {
   "cell_type": "code",
   "execution_count": 29,
   "metadata": {},
   "outputs": [
    {
     "name": "stdout",
     "output_type": "stream",
     "text": [
      "For PCA\n",
      "Cluster 0: Average Silhouette Score = 0.4511368379023438\n",
      "Cluster 1: Average Silhouette Score = 0.4429566542895881\n",
      "Cluster 2: Average Silhouette Score = 0.588983511621145\n"
     ]
    }
   ],
   "source": [
    "# average silhouette score for each cluster PCA\n",
    "# Compute the silhouette scores for each sample\n",
    "pca_silhouette_vals = silhouette_samples(pca_data, pca_labels)\n",
    "\n",
    "# Calculate the average silhouette score for each cluster\n",
    "pca_cluster_silhouette_avg = {}\n",
    "for cluster in np.unique(pca_labels):\n",
    "    pca_cluster_silhouette_avg[cluster] = np.mean(pca_silhouette_vals[pca_labels == cluster])\n",
    "\n",
    "# Print the average silhouette score for each cluster\n",
    "print('For PCA')\n",
    "for cluster, silhouette_avg in pca_cluster_silhouette_avg.items():\n",
    "    print(f'Cluster {cluster}: Average Silhouette Score = {silhouette_avg}')\n"
   ]
  },
  {
   "cell_type": "code",
   "execution_count": 30,
   "metadata": {},
   "outputs": [
    {
     "name": "stdout",
     "output_type": "stream",
     "text": [
      "For t-SNE\n",
      "Cluster 0: Average Silhouette Score = 0.3392579257488251\n",
      "Cluster 1: Average Silhouette Score = 0.33595460653305054\n",
      "Cluster 2: Average Silhouette Score = 0.3836471140384674\n"
     ]
    }
   ],
   "source": [
    "# average silhouette score for each cluster for t-sne\n",
    "# Compute the silhouette scores for each sample\n",
    "tsne_silhouette_vals = silhouette_samples(tsne_data, tsne_labels)\n",
    "\n",
    "# Calculate the average silhouette score for each cluster\n",
    "tsne_cluster_silhouette_avg = {}\n",
    "for cluster in np.unique(pca_labels):\n",
    "    tsne_cluster_silhouette_avg[cluster] = np.mean(tsne_silhouette_vals[pca_labels == cluster])\n",
    "\n",
    "# Print the average silhouette score for each cluster\n",
    "print('For t-SNE')\n",
    "for cluster, silhouette_avg in tsne_cluster_silhouette_avg.items():\n",
    "    print(f'Cluster {cluster}: Average Silhouette Score = {silhouette_avg}')\n"
   ]
  },
  {
   "cell_type": "code",
   "execution_count": 31,
   "metadata": {},
   "outputs": [],
   "source": [
    "def calculate_purity(cluster_labels, true_labels):\n",
    "    clusters = np.unique(cluster_labels)\n",
    "    majority_sum = 0\n",
    "    for cluster in clusters:\n",
    "        true_labels_in_cluster = true_labels[cluster_labels == cluster]\n",
    "        majority_label = np.unique(true_labels_in_cluster, return_counts=True)\n",
    "        majority_sum += np.sum(true_labels_in_cluster == majority_label)\n",
    "    purity = majority_sum / len(true_labels)\n",
    "    return purity"
   ]
  },
  {
   "cell_type": "code",
   "execution_count": 32,
   "metadata": {},
   "outputs": [
    {
     "name": "stdout",
     "output_type": "stream",
     "text": [
      "Purity PCA: 0.0\n",
      "Purity tsne: 0.0\n"
     ]
    }
   ],
   "source": [
    "# purity of the clusters based on ground truth labels\n",
    "true_labels = df['Target Name']\n",
    "\n",
    "pca_purity = calculate_purity(pca_labels, true_labels)\n",
    "print(f'Purity PCA: {pca_purity}')\n",
    "\n",
    "tsne_purity = calculate_purity(tsne_labels, true_labels)\n",
    "print(f'Purity tsne: {tsne_purity}')"
   ]
  },
  {
   "cell_type": "markdown",
   "metadata": {},
   "source": [
    "#### b. Mol2vec "
   ]
  },
  {
   "cell_type": "markdown",
   "metadata": {},
   "source": [
    "To detect more global and subtile (but less interpretable) differences we use here a pretrained Mol2vec available here : https://github.com/samoturk/mol2vec/tree/master/examples/models \n",
    "\n",
    "\n",
    "This model  was trained on 20 million compounds downloaded from ZINC using:\n",
    "- radius 1\n",
    "- UNK to replace all identifiers that appear less than 4 times\n",
    "- skip-gram and window size of 10 \n",
    "- resulting in 300 dimensional embeddings\n",
    "\n",
    "Mol2Vec is inspired by Word2vec and it creates embeddings based on the structural and chemical information of the molecules using a substructure approach. "
   ]
  },
  {
   "cell_type": "code",
   "execution_count": 10,
   "metadata": {},
   "outputs": [
    {
     "ename": "ImportError",
     "evalue": "libXrender.so.1: cannot open shared object file: No such file or directory",
     "output_type": "error",
     "traceback": [
      "\u001b[0;31m---------------------------------------------------------------------------\u001b[0m",
      "\u001b[0;31mImportError\u001b[0m                               Traceback (most recent call last)",
      "Cell \u001b[0;32mIn[10], line 3\u001b[0m\n\u001b[1;32m      1\u001b[0m \u001b[38;5;28;01mimport\u001b[39;00m \u001b[38;5;21;01mos\u001b[39;00m\n\u001b[1;32m      2\u001b[0m \u001b[38;5;28;01mfrom\u001b[39;00m \u001b[38;5;21;01mgensim\u001b[39;00m\u001b[38;5;21;01m.\u001b[39;00m\u001b[38;5;21;01mmodels\u001b[39;00m \u001b[38;5;28;01mimport\u001b[39;00m Word2Vec\n\u001b[0;32m----> 3\u001b[0m \u001b[38;5;28;01mfrom\u001b[39;00m \u001b[38;5;21;01mmol2vec\u001b[39;00m\u001b[38;5;21;01m.\u001b[39;00m\u001b[38;5;21;01mfeatures\u001b[39;00m \u001b[38;5;28;01mimport\u001b[39;00m mol2alt_sentence\n",
      "File \u001b[0;32m~/.local/lib/python3.10/site-packages/mol2vec/features.py:13\u001b[0m\n\u001b[1;32m     11\u001b[0m \u001b[38;5;28;01mfrom\u001b[39;00m \u001b[38;5;21;01mrdkit\u001b[39;00m \u001b[38;5;28;01mimport\u001b[39;00m Chem\n\u001b[1;32m     12\u001b[0m \u001b[38;5;28;01mfrom\u001b[39;00m \u001b[38;5;21;01mrdkit\u001b[39;00m\u001b[38;5;21;01m.\u001b[39;00m\u001b[38;5;21;01mChem\u001b[39;00m \u001b[38;5;28;01mimport\u001b[39;00m AllChem\n\u001b[0;32m---> 13\u001b[0m \u001b[38;5;28;01mfrom\u001b[39;00m \u001b[38;5;21;01mrdkit\u001b[39;00m\u001b[38;5;21;01m.\u001b[39;00m\u001b[38;5;21;01mChem\u001b[39;00m \u001b[38;5;28;01mimport\u001b[39;00m PandasTools\n\u001b[1;32m     14\u001b[0m \u001b[38;5;28;01mfrom\u001b[39;00m \u001b[38;5;21;01mgensim\u001b[39;00m\u001b[38;5;21;01m.\u001b[39;00m\u001b[38;5;21;01mmodels\u001b[39;00m \u001b[38;5;28;01mimport\u001b[39;00m word2vec\n\u001b[1;32m     15\u001b[0m \u001b[38;5;28;01mimport\u001b[39;00m \u001b[38;5;21;01mtimeit\u001b[39;00m\n",
      "File \u001b[0;32m~/.local/lib/python3.10/site-packages/rdkit/Chem/PandasTools.py:134\u001b[0m\n\u001b[1;32m    132\u001b[0m \u001b[38;5;28;01mimport\u001b[39;00m \u001b[38;5;21;01mrdkit\u001b[39;00m\n\u001b[1;32m    133\u001b[0m \u001b[38;5;28;01mfrom\u001b[39;00m \u001b[38;5;21;01mrdkit\u001b[39;00m \u001b[38;5;28;01mimport\u001b[39;00m Chem, DataStructs\n\u001b[0;32m--> 134\u001b[0m \u001b[38;5;28;01mfrom\u001b[39;00m \u001b[38;5;21;01mrdkit\u001b[39;00m\u001b[38;5;21;01m.\u001b[39;00m\u001b[38;5;21;01mChem\u001b[39;00m \u001b[38;5;28;01mimport\u001b[39;00m AllChem, Draw, SDWriter, rdchem\n\u001b[1;32m    135\u001b[0m \u001b[38;5;28;01mfrom\u001b[39;00m \u001b[38;5;21;01mrdkit\u001b[39;00m\u001b[38;5;21;01m.\u001b[39;00m\u001b[38;5;21;01mChem\u001b[39;00m\u001b[38;5;21;01m.\u001b[39;00m\u001b[38;5;21;01mScaffolds\u001b[39;00m \u001b[38;5;28;01mimport\u001b[39;00m MurckoScaffold\n\u001b[1;32m    137\u001b[0m InteractiveRenderer \u001b[38;5;241m=\u001b[39m \u001b[38;5;28;01mNone\u001b[39;00m\n",
      "File \u001b[0;32m~/.local/lib/python3.10/site-packages/rdkit/Chem/Draw/__init__.py:21\u001b[0m\n\u001b[1;32m     19\u001b[0m \u001b[38;5;28;01mfrom\u001b[39;00m \u001b[38;5;21;01mrdkit\u001b[39;00m \u001b[38;5;28;01mimport\u001b[39;00m rdBase\n\u001b[1;32m     20\u001b[0m \u001b[38;5;28;01mfrom\u001b[39;00m \u001b[38;5;21;01mrdkit\u001b[39;00m\u001b[38;5;21;01m.\u001b[39;00m\u001b[38;5;21;01mChem\u001b[39;00m \u001b[38;5;28;01mimport\u001b[39;00m rdDepictor\n\u001b[0;32m---> 21\u001b[0m \u001b[38;5;28;01mfrom\u001b[39;00m \u001b[38;5;21;01mrdkit\u001b[39;00m\u001b[38;5;21;01m.\u001b[39;00m\u001b[38;5;21;01mChem\u001b[39;00m\u001b[38;5;21;01m.\u001b[39;00m\u001b[38;5;21;01mDraw\u001b[39;00m \u001b[38;5;28;01mimport\u001b[39;00m rdMolDraw2D\n\u001b[1;32m     22\u001b[0m \u001b[38;5;28;01mfrom\u001b[39;00m \u001b[38;5;21;01mrdkit\u001b[39;00m\u001b[38;5;21;01m.\u001b[39;00m\u001b[38;5;21;01mChem\u001b[39;00m\u001b[38;5;21;01m.\u001b[39;00m\u001b[38;5;21;01mDraw\u001b[39;00m\u001b[38;5;21;01m.\u001b[39;00m\u001b[38;5;21;01mMolDrawing\u001b[39;00m \u001b[38;5;28;01mimport\u001b[39;00m DrawingOptions\n\u001b[1;32m     23\u001b[0m \u001b[38;5;28;01mfrom\u001b[39;00m \u001b[38;5;21;01mrdkit\u001b[39;00m\u001b[38;5;21;01m.\u001b[39;00m\u001b[38;5;21;01mChem\u001b[39;00m\u001b[38;5;21;01m.\u001b[39;00m\u001b[38;5;21;01mDraw\u001b[39;00m\u001b[38;5;21;01m.\u001b[39;00m\u001b[38;5;21;01mMolDrawing\u001b[39;00m \u001b[38;5;28;01mimport\u001b[39;00m MolDrawing\n",
      "\u001b[0;31mImportError\u001b[0m: libXrender.so.1: cannot open shared object file: No such file or directory"
     ]
    }
   ],
   "source": [
    "import os\n",
    "from gensim.models import Word2Vec\n",
    "from mol2vec.features import mol2alt_sentence"
   ]
  },
  {
   "cell_type": "code",
   "execution_count": null,
   "metadata": {},
   "outputs": [],
   "source": [
    "def get_mol2vec_descriptors(mol, model) : \n",
    "    \"\"\" Get the mol2vec descriptors for a molecule \"\"\"\n",
    "    identifier = mol2alt_sentence(mol, 1)\n",
    "    embeddings = [model.wv[token] for token in identifier if token in model.wv]\n",
    "    val = np.mean(embeddings, axis=0)\n",
    "    return val\n",
    "     "
   ]
  },
  {
   "cell_type": "code",
   "execution_count": null,
   "metadata": {},
   "outputs": [
    {
     "name": "stdout",
     "output_type": "stream",
     "text": [
      "number of unique identifiers 21003\n"
     ]
    },
    {
     "name": "stderr",
     "output_type": "stream",
     "text": [
      "  0%|          | 0/21 [00:00<?, ?it/s][17:08:04] DEPRECATION WARNING: please use MorganGenerator\n",
      "[17:08:04] DEPRECATION WARNING: please use MorganGenerator\n",
      "[17:08:04] DEPRECATION WARNING: please use MorganGenerator\n",
      "[17:08:04] DEPRECATION WARNING: please use MorganGenerator\n",
      "[17:08:04] DEPRECATION WARNING: please use MorganGenerator\n",
      "[17:08:04] DEPRECATION WARNING: please use MorganGenerator\n",
      "[17:08:04] DEPRECATION WARNING: please use MorganGenerator\n",
      "[17:08:04] DEPRECATION WARNING: please use MorganGenerator\n",
      "[17:08:04] DEPRECATION WARNING: please use MorganGenerator\n",
      "[17:08:04] DEPRECATION WARNING: please use MorganGenerator\n",
      "[17:08:04] DEPRECATION WARNING: please use MorganGenerator\n",
      "[17:08:04] DEPRECATION WARNING: please use MorganGenerator\n",
      "[17:08:04] DEPRECATION WARNING: please use MorganGenerator\n",
      "[17:08:04] DEPRECATION WARNING: please use MorganGenerator\n",
      "[17:08:04] DEPRECATION WARNING: please use MorganGenerator\n",
      "[17:08:04] DEPRECATION WARNING: please use MorganGenerator\n",
      "[17:08:04] DEPRECATION WARNING: please use MorganGenerator\n",
      "[17:08:04] DEPRECATION WARNING: please use MorganGenerator\n",
      "[17:08:04] DEPRECATION WARNING: please use MorganGenerator\n",
      "[17:08:04] DEPRECATION WARNING: please use MorganGenerator\n",
      "[17:08:04] DEPRECATION WARNING: please use MorganGenerator\n",
      "100%|██████████| 21/21 [00:00<00:00, 237.09it/s]"
     ]
    },
    {
     "name": "stdout",
     "output_type": "stream",
     "text": [
      "Mean execution time: 0.00421777225676037 seconds\n",
      "Standard deviation: 0.012885149519600507 seconds\n",
      "Estimation for the full dataset: 0 minutes\n"
     ]
    },
    {
     "name": "stderr",
     "output_type": "stream",
     "text": [
      "\n"
     ]
    }
   ],
   "source": [
    "pretrained_model_path = os.path.join(os.getcwd(), 'model_300dim.pkl') \n",
    "model = Word2Vec.load(pretrained_model_path)\n",
    "print('number of unique identifiers', len(model.wv.key_to_index))\n",
    "\n",
    "execution_times = []\n",
    "\n",
    "mol2vec_embeddings = []\n",
    "for mol in tqdm(df_subset['RDKIT Molecules'].dropna()):\n",
    "    start_time = time.time()\n",
    "    mol2vec_embeddings.append(get_mol2vec_descriptors(mol, model))\n",
    "    end_time = time.time()\n",
    "    execution_times.append(end_time - start_time)\n",
    "\n",
    "# Calculer les statistiques\n",
    "mean_time = np.mean(execution_times)\n",
    "std_time = np.std(execution_times)\n",
    "\n",
    "print(f\"Mean execution time: {mean_time} seconds\")\n",
    "print(f\"Standard deviation: {std_time} seconds\")\n",
    "print(f\"Estimation for the full dataset: {round(len(df_bindingDB)*mean_time/60)} minutes\")\n",
    "\n",
    "# Padding to ensure same size\n",
    "mol2vec_descriptors_df = pd.DataFrame(mol2vec_embeddings)"
   ]
  },
  {
   "cell_type": "code",
   "execution_count": null,
   "metadata": {},
   "outputs": [],
   "source": [
    "\n",
    "# Step 2: Perform PCA\n",
    "# Standardize the features\n",
    "scaler = StandardScaler()\n",
    "scaled_descriptors = scaler.fit_transform(mol2vec_descriptors_df)\n",
    "\n",
    "# Apply PCA\n",
    "pca = PCA(n_components=2)\n",
    "pca_result = pca.fit_transform(scaled_descriptors)"
   ]
  },
  {
   "cell_type": "code",
   "execution_count": null,
   "metadata": {},
   "outputs": [
    {
     "name": "stdout",
     "output_type": "stream",
     "text": [
      "[t-SNE] Computing 10 nearest neighbors...\n",
      "[t-SNE] Indexed 21 samples in 0.000s...\n",
      "[t-SNE] Computed neighbors for 21 samples in 0.016s...\n",
      "[t-SNE] Computed conditional probabilities for sample 21 / 21\n",
      "[t-SNE] Mean sigma: 6.786056\n",
      "[t-SNE] KL divergence after 250 iterations with early exaggeration: 67.393387\n",
      "[t-SNE] KL divergence after 251 iterations: 179769313486231570814527423731704356798070567525844996598917476803157260780028538760589558632766878171540458953514382464234321326889464182768467546703537516986049910576551282076245490090389328944075868508455133942304583236903222948165808559332123348274797826204144723168738177180919299881250404026184124858368.000000\n"
     ]
    },
    {
     "name": "stderr",
     "output_type": "stream",
     "text": [
      "c:\\Users\\Laura\\anaconda3\\envs\\ADA\\lib\\site-packages\\sklearn\\manifold\\_t_sne.py:1162: FutureWarning: 'n_iter' was renamed to 'max_iter' in version 1.5 and will be removed in 1.7.\n",
      "  warnings.warn(\n"
     ]
    }
   ],
   "source": [
    "# Step 3: Perform t-SNE\n",
    "tsne = TSNE(n_components=2, random_state=42, verbose=True, n_iter=250, n_jobs=12, perplexity =3)\n",
    "tsne_result = tsne.fit_transform(scaled_descriptors)\n"
   ]
  },
  {
   "cell_type": "code",
   "execution_count": 8,
   "metadata": {},
   "outputs": [
    {
     "ename": "NameError",
     "evalue": "name 'plt' is not defined",
     "output_type": "error",
     "traceback": [
      "\u001b[0;31m---------------------------------------------------------------------------\u001b[0m",
      "\u001b[0;31mNameError\u001b[0m                                 Traceback (most recent call last)",
      "Cell \u001b[0;32mIn[8], line 1\u001b[0m\n\u001b[0;32m----> 1\u001b[0m fig, (ax1, ax2) \u001b[38;5;241m=\u001b[39m \u001b[43mplt\u001b[49m\u001b[38;5;241m.\u001b[39msubplots(\u001b[38;5;241m1\u001b[39m, \u001b[38;5;241m2\u001b[39m, figsize\u001b[38;5;241m=\u001b[39m(\u001b[38;5;241m15\u001b[39m, \u001b[38;5;241m5\u001b[39m))\n\u001b[1;32m      3\u001b[0m \u001b[38;5;28mprint\u001b[39m(\u001b[38;5;124mf\u001b[39m\u001b[38;5;124m'\u001b[39m\u001b[38;5;124mPCA explained variance ratio: \u001b[39m\u001b[38;5;132;01m{\u001b[39;00mpca\u001b[38;5;241m.\u001b[39mexplained_variance_ratio_\u001b[38;5;132;01m}\u001b[39;00m\u001b[38;5;124m'\u001b[39m)\n\u001b[1;32m      4\u001b[0m \u001b[38;5;66;03m# Plot PCA results, color by target name\u001b[39;00m\n\u001b[1;32m      5\u001b[0m \u001b[38;5;66;03m# Assign each target name a colour (integer)\u001b[39;00m\n",
      "\u001b[0;31mNameError\u001b[0m: name 'plt' is not defined"
     ]
    }
   ],
   "source": [
    "fig, (ax1, ax2) = plt.subplots(1, 2, figsize=(15, 5))\n",
    "\n",
    "print(f'PCA explained variance ratio: {pca.explained_variance_ratio_}')\n",
    "# Plot PCA results, color by target name\n",
    "# Assign each target name a colour (integer)\n",
    "colour_dict = {name: i for i, name in enumerate(df_subset['Target Name'].unique())}\n",
    "scatter1 = ax1.scatter(pca_result[:, 0], pca_result[:, 1], alpha=0.5, c=df_subset['Target Name'].map(colour_dict), cmap='tab20')\n",
    "ax1.set_title('PCA of Molecular Descriptors')\n",
    "ax1.set_xlabel('PC1')\n",
    "ax1.set_ylabel('PC2')\n",
    "ax1.legend(handles=scatter1.legend_elements()[0], labels=family_dict.keys(), title='Target Family')\n",
    "ax1.grid()\n",
    "ax1.axis('equal')\n",
    "\n",
    "# Plot t-SNE results\n",
    "scatter2 = ax2.scatter(tsne_result[:, 0], tsne_result[:, 1], alpha=0.5, c=df_subset['Target Name'].map(colour_dict), cmap='tab20')\n",
    "ax2.set_title('t-SNE of Molecular Descriptors')\n",
    "ax2.set_xlabel('t-SNE dimension 1')\n",
    "ax2.set_ylabel('t-SNE dimension 2')\n",
    "ax1.grid()\n",
    "plt.tight_layout()\n",
    "plt.show()\n",
    "\n",
    "# Additional analysis: Feature importance in PCA\n",
    "feature_importance = pd.DataFrame(\n",
    "    pca.components_.T,\n",
    "    columns=['PC1', 'PC2'],\n",
    "    index=mol2vec_descriptors_df.columns\n",
    ")\n"
   ]
  },
  {
   "cell_type": "code",
   "execution_count": null,
   "metadata": {},
   "outputs": [],
   "source": []
  },
  {
   "cell_type": "markdown",
   "metadata": {},
   "source": [
    "##### c. Morgan Fingerprints (ECFP) "
   ]
  },
  {
   "cell_type": "markdown",
   "metadata": {},
   "source": [
    "Morgan fingerprint captures the local environment around each atom up to a specified radius. "
   ]
  },
  {
   "cell_type": "code",
   "execution_count": 11,
   "metadata": {},
   "outputs": [],
   "source": [
    "from rdkit.Chem import AllChem"
   ]
  },
  {
   "cell_type": "code",
   "execution_count": 12,
   "metadata": {},
   "outputs": [],
   "source": [
    "def get_ecfp_descriptors(mol, radius=2, nBits=1024) : \n",
    "    val = AllChem.GetMorganFingerprintAsBitVect(mol, radius, nBits)\n",
    "    return val"
   ]
  },
  {
   "cell_type": "code",
   "execution_count": null,
   "metadata": {},
   "outputs": [],
   "source": [
    "from rdkit.Chem.rdFingerprintGenerator import GetMorganGenerator\n",
    "\n",
    "morgan_generator = GetMorganGenerator(radius=2, fpSize=1024)\n",
    "\n",
    "def get_ecfp_descriptors(mol, radius=2, nBits=1024):\n",
    "    # Use the global generator for efficiency\n",
    "    val = morgan_generator.GetFingerprint(mol)\n",
    "    return val\n",
    "\n",
    "ecfp_rad2 = [morgan_generator.GetFingerprint(mol) for mol in molecules_series]\n",
    "ecfp_embeddings = [get_ecfp_descriptors(mol) for mol in molecules_series[:1000]]"
   ]
  },
  {
   "cell_type": "code",
   "execution_count": null,
   "metadata": {},
   "outputs": [
    {
     "data": {
      "text/plain": [
       "1000"
      ]
     },
     "execution_count": 39,
     "metadata": {},
     "output_type": "execute_result"
    }
   ],
   "source": [
    "ecfp_embeddings[0]\n",
    "ecfp_descriptors_list = [list(fp) for fp in ecfp_embeddings]\n",
    "len(ecfp_descriptors_list)"
   ]
  },
  {
   "cell_type": "code",
   "execution_count": 42,
   "metadata": {},
   "outputs": [
    {
     "data": {
      "text/plain": [
       "1024"
      ]
     },
     "execution_count": 42,
     "metadata": {},
     "output_type": "execute_result"
    }
   ],
   "source": [
    "ecfp_descriptors_df = pd.DataFrame(ecfp_descriptors_list)\n",
    "len(ecfp_descriptors_list[0])"
   ]
  },
  {
   "cell_type": "code",
   "execution_count": 51,
   "metadata": {},
   "outputs": [
    {
     "data": {
      "text/plain": [
       "nan"
      ]
     },
     "execution_count": 51,
     "metadata": {},
     "output_type": "execute_result"
    }
   ],
   "source": [
    "np.nan"
   ]
  },
  {
   "cell_type": "code",
   "execution_count": 10,
   "metadata": {},
   "outputs": [],
   "source": [
    "ecfp_descriptors_df = descriptor_df_loaded"
   ]
  },
  {
   "cell_type": "code",
   "execution_count": 11,
   "metadata": {},
   "outputs": [
    {
     "ename": "NameError",
     "evalue": "name 'molecules_series' is not defined",
     "output_type": "error",
     "traceback": [
      "\u001b[0;31m---------------------------------------------------------------------------\u001b[0m",
      "\u001b[0;31mNameError\u001b[0m                                 Traceback (most recent call last)",
      "Cell \u001b[0;32mIn[11], line 2\u001b[0m\n\u001b[1;32m      1\u001b[0m \u001b[38;5;66;03m# Generate Morgan Fingerprints (ECFP) with radius=2 and 1024 bits (ECFP4)\u001b[39;00m\n\u001b[0;32m----> 2\u001b[0m ecfp_rad2 \u001b[38;5;241m=\u001b[39m [AllChem\u001b[38;5;241m.\u001b[39mGetMorganFingerprintAsBitVect(mol, radius\u001b[38;5;241m=\u001b[39m\u001b[38;5;241m2\u001b[39m, nBits\u001b[38;5;241m=\u001b[39m\u001b[38;5;241m1024\u001b[39m) \u001b[38;5;28;01mfor\u001b[39;00m mol \u001b[38;5;129;01min\u001b[39;00m \u001b[43mmolecules_series\u001b[49m]\n\u001b[1;32m      3\u001b[0m df[\u001b[38;5;124m'\u001b[39m\u001b[38;5;124mecfp_rad2\u001b[39m\u001b[38;5;124m'\u001b[39m] \u001b[38;5;241m=\u001b[39m ecfp_rad2\n\u001b[1;32m      5\u001b[0m execution_times \u001b[38;5;241m=\u001b[39m []\n",
      "\u001b[0;31mNameError\u001b[0m: name 'molecules_series' is not defined"
     ]
    }
   ],
   "source": [
    "# Generate Morgan Fingerprints (ECFP) with radius=2 and 1024 bits (ECFP4)\n",
    "ecfp_rad2 = [AllChem.GetMorganFingerprintAsBitVect(mol, radius=2, nBits=1024) for mol in molecules_series]\n",
    "df['ecfp_rad2'] = ecfp_rad2\n",
    "\n",
    "execution_times = []\n",
    "ecfp_embeddings = []\n",
    "print(f'Start {len(df)} samples')\n",
    "for mol in tqdm(molecules_series[:100].dropna()):\n",
    "    if len(execution_times) % 50 == 0:\n",
    "        print(f'{len(execution_times)} steps')\n",
    "    start_time = time.time()\n",
    "    ecfp_embeddings.append(get_ecfp_descriptors(mol))\n",
    "    end_time = time.time()\n",
    "    execution_times.append(end_time - start_time)\n",
    "\n",
    "# Calculer les statistiques\n",
    "mean_time = np.mean(execution_times)\n",
    "std_time = np.std(execution_times)\n",
    "\n",
    "print(f\"Mean execution time: {mean_time} seconds\")\n",
    "print(f\"Standard deviation: {std_time} seconds\")\n",
    "#print(f\"Estimation for the full dataset: {round(len(df_bindingDB)*mean_time/60)} minutes\")\n",
    "\n",
    "# Padding to ensure same size\n",
    "#Convert ExplicitBitVect to list\n",
    "ecfp_descriptors_list = [list(fp) for fp in ecfp_embeddings]\n",
    "\n",
    "ecfp_descriptors_df = pd.DataFrame(ecfp_descriptors_list)"
   ]
  },
  {
   "cell_type": "code",
   "execution_count": 47,
   "metadata": {},
   "outputs": [],
   "source": [
    "# Step 2: Perform PCA\n",
    "# Standardize the features\n",
    "scaler = StandardScaler()\n",
    "scaled_descriptors = scaler.fit_transform(ecfp_descriptors_list)\n",
    "\n",
    "# Apply PCA\n",
    "pca = PCA(n_components=2)\n",
    "pca_result = pca.fit_transform(scaled_descriptors)"
   ]
  },
  {
   "cell_type": "code",
   "execution_count": 44,
   "metadata": {},
   "outputs": [
    {
     "name": "stdout",
     "output_type": "stream",
     "text": [
      "[t-SNE] Computing 10 nearest neighbors...\n",
      "[t-SNE] Indexed 1000 samples in 0.006s...\n",
      "[t-SNE] Computed neighbors for 1000 samples in 0.142s...\n",
      "[t-SNE] Computed conditional probabilities for sample 1000 / 1000\n",
      "[t-SNE] Mean sigma: 5.426874\n"
     ]
    },
    {
     "ename": "KeyboardInterrupt",
     "evalue": "",
     "output_type": "error",
     "traceback": [
      "\u001b[0;31m---------------------------------------------------------------------------\u001b[0m",
      "\u001b[0;31mKeyboardInterrupt\u001b[0m                         Traceback (most recent call last)",
      "Cell \u001b[0;32mIn[44], line 3\u001b[0m\n\u001b[1;32m      1\u001b[0m \u001b[38;5;66;03m# Step 3: Perform t-SNE\u001b[39;00m\n\u001b[1;32m      2\u001b[0m tsne \u001b[38;5;241m=\u001b[39m TSNE(n_components\u001b[38;5;241m=\u001b[39m\u001b[38;5;241m2\u001b[39m, random_state\u001b[38;5;241m=\u001b[39m\u001b[38;5;241m42\u001b[39m, verbose\u001b[38;5;241m=\u001b[39m\u001b[38;5;28;01mTrue\u001b[39;00m, n_iter\u001b[38;5;241m=\u001b[39m\u001b[38;5;241m250\u001b[39m, n_jobs\u001b[38;5;241m=\u001b[39m\u001b[38;5;241m12\u001b[39m, perplexity \u001b[38;5;241m=\u001b[39m\u001b[38;5;241m3\u001b[39m)\n\u001b[0;32m----> 3\u001b[0m tsne_result \u001b[38;5;241m=\u001b[39m \u001b[43mtsne\u001b[49m\u001b[38;5;241;43m.\u001b[39;49m\u001b[43mfit_transform\u001b[49m\u001b[43m(\u001b[49m\u001b[43mscaled_descriptors\u001b[49m\u001b[43m)\u001b[49m\n",
      "File \u001b[0;32m/usr/local/lib/python3.10/dist-packages/sklearn/manifold/_t_sne.py:1117\u001b[0m, in \u001b[0;36mTSNE.fit_transform\u001b[0;34m(self, X, y)\u001b[0m\n\u001b[1;32m   1115\u001b[0m \u001b[38;5;28mself\u001b[39m\u001b[38;5;241m.\u001b[39m_validate_params()\n\u001b[1;32m   1116\u001b[0m \u001b[38;5;28mself\u001b[39m\u001b[38;5;241m.\u001b[39m_check_params_vs_input(X)\n\u001b[0;32m-> 1117\u001b[0m embedding \u001b[38;5;241m=\u001b[39m \u001b[38;5;28;43mself\u001b[39;49m\u001b[38;5;241;43m.\u001b[39;49m\u001b[43m_fit\u001b[49m\u001b[43m(\u001b[49m\u001b[43mX\u001b[49m\u001b[43m)\u001b[49m\n\u001b[1;32m   1118\u001b[0m \u001b[38;5;28mself\u001b[39m\u001b[38;5;241m.\u001b[39membedding_ \u001b[38;5;241m=\u001b[39m embedding\n\u001b[1;32m   1119\u001b[0m \u001b[38;5;28;01mreturn\u001b[39;00m \u001b[38;5;28mself\u001b[39m\u001b[38;5;241m.\u001b[39membedding_\n",
      "File \u001b[0;32m/usr/local/lib/python3.10/dist-packages/sklearn/manifold/_t_sne.py:1010\u001b[0m, in \u001b[0;36mTSNE._fit\u001b[0;34m(self, X, skip_num_points)\u001b[0m\n\u001b[1;32m   1004\u001b[0m \u001b[38;5;66;03m# Degrees of freedom of the Student's t-distribution. The suggestion\u001b[39;00m\n\u001b[1;32m   1005\u001b[0m \u001b[38;5;66;03m# degrees_of_freedom = n_components - 1 comes from\u001b[39;00m\n\u001b[1;32m   1006\u001b[0m \u001b[38;5;66;03m# \"Learning a Parametric Embedding by Preserving Local Structure\"\u001b[39;00m\n\u001b[1;32m   1007\u001b[0m \u001b[38;5;66;03m# Laurens van der Maaten, 2009.\u001b[39;00m\n\u001b[1;32m   1008\u001b[0m degrees_of_freedom \u001b[38;5;241m=\u001b[39m \u001b[38;5;28mmax\u001b[39m(\u001b[38;5;28mself\u001b[39m\u001b[38;5;241m.\u001b[39mn_components \u001b[38;5;241m-\u001b[39m \u001b[38;5;241m1\u001b[39m, \u001b[38;5;241m1\u001b[39m)\n\u001b[0;32m-> 1010\u001b[0m \u001b[38;5;28;01mreturn\u001b[39;00m \u001b[38;5;28;43mself\u001b[39;49m\u001b[38;5;241;43m.\u001b[39;49m\u001b[43m_tsne\u001b[49m\u001b[43m(\u001b[49m\n\u001b[1;32m   1011\u001b[0m \u001b[43m    \u001b[49m\u001b[43mP\u001b[49m\u001b[43m,\u001b[49m\n\u001b[1;32m   1012\u001b[0m \u001b[43m    \u001b[49m\u001b[43mdegrees_of_freedom\u001b[49m\u001b[43m,\u001b[49m\n\u001b[1;32m   1013\u001b[0m \u001b[43m    \u001b[49m\u001b[43mn_samples\u001b[49m\u001b[43m,\u001b[49m\n\u001b[1;32m   1014\u001b[0m \u001b[43m    \u001b[49m\u001b[43mX_embedded\u001b[49m\u001b[38;5;241;43m=\u001b[39;49m\u001b[43mX_embedded\u001b[49m\u001b[43m,\u001b[49m\n\u001b[1;32m   1015\u001b[0m \u001b[43m    \u001b[49m\u001b[43mneighbors\u001b[49m\u001b[38;5;241;43m=\u001b[39;49m\u001b[43mneighbors_nn\u001b[49m\u001b[43m,\u001b[49m\n\u001b[1;32m   1016\u001b[0m \u001b[43m    \u001b[49m\u001b[43mskip_num_points\u001b[49m\u001b[38;5;241;43m=\u001b[39;49m\u001b[43mskip_num_points\u001b[49m\u001b[43m,\u001b[49m\n\u001b[1;32m   1017\u001b[0m \u001b[43m\u001b[49m\u001b[43m)\u001b[49m\n",
      "File \u001b[0;32m/usr/local/lib/python3.10/dist-packages/sklearn/manifold/_t_sne.py:1062\u001b[0m, in \u001b[0;36mTSNE._tsne\u001b[0;34m(self, P, degrees_of_freedom, n_samples, X_embedded, neighbors, skip_num_points)\u001b[0m\n\u001b[1;32m   1059\u001b[0m \u001b[38;5;66;03m# Learning schedule (part 1): do 250 iteration with lower momentum but\u001b[39;00m\n\u001b[1;32m   1060\u001b[0m \u001b[38;5;66;03m# higher learning rate controlled via the early exaggeration parameter\u001b[39;00m\n\u001b[1;32m   1061\u001b[0m P \u001b[38;5;241m*\u001b[39m\u001b[38;5;241m=\u001b[39m \u001b[38;5;28mself\u001b[39m\u001b[38;5;241m.\u001b[39mearly_exaggeration\n\u001b[0;32m-> 1062\u001b[0m params, kl_divergence, it \u001b[38;5;241m=\u001b[39m \u001b[43m_gradient_descent\u001b[49m\u001b[43m(\u001b[49m\u001b[43mobj_func\u001b[49m\u001b[43m,\u001b[49m\u001b[43m \u001b[49m\u001b[43mparams\u001b[49m\u001b[43m,\u001b[49m\u001b[43m \u001b[49m\u001b[38;5;241;43m*\u001b[39;49m\u001b[38;5;241;43m*\u001b[39;49m\u001b[43mopt_args\u001b[49m\u001b[43m)\u001b[49m\n\u001b[1;32m   1063\u001b[0m \u001b[38;5;28;01mif\u001b[39;00m \u001b[38;5;28mself\u001b[39m\u001b[38;5;241m.\u001b[39mverbose:\n\u001b[1;32m   1064\u001b[0m     \u001b[38;5;28mprint\u001b[39m(\n\u001b[1;32m   1065\u001b[0m         \u001b[38;5;124m\"\u001b[39m\u001b[38;5;124m[t-SNE] KL divergence after \u001b[39m\u001b[38;5;132;01m%d\u001b[39;00m\u001b[38;5;124m iterations with early exaggeration: \u001b[39m\u001b[38;5;132;01m%f\u001b[39;00m\u001b[38;5;124m\"\u001b[39m\n\u001b[1;32m   1066\u001b[0m         \u001b[38;5;241m%\u001b[39m (it \u001b[38;5;241m+\u001b[39m \u001b[38;5;241m1\u001b[39m, kl_divergence)\n\u001b[1;32m   1067\u001b[0m     )\n",
      "File \u001b[0;32m/usr/local/lib/python3.10/dist-packages/sklearn/manifold/_t_sne.py:399\u001b[0m, in \u001b[0;36m_gradient_descent\u001b[0;34m(objective, p0, it, n_iter, n_iter_check, n_iter_without_progress, momentum, learning_rate, min_gain, min_grad_norm, verbose, args, kwargs)\u001b[0m\n\u001b[1;32m    396\u001b[0m \u001b[38;5;66;03m# only compute the error when needed\u001b[39;00m\n\u001b[1;32m    397\u001b[0m kwargs[\u001b[38;5;124m\"\u001b[39m\u001b[38;5;124mcompute_error\u001b[39m\u001b[38;5;124m\"\u001b[39m] \u001b[38;5;241m=\u001b[39m check_convergence \u001b[38;5;129;01mor\u001b[39;00m i \u001b[38;5;241m==\u001b[39m n_iter \u001b[38;5;241m-\u001b[39m \u001b[38;5;241m1\u001b[39m\n\u001b[0;32m--> 399\u001b[0m error, grad \u001b[38;5;241m=\u001b[39m \u001b[43mobjective\u001b[49m\u001b[43m(\u001b[49m\u001b[43mp\u001b[49m\u001b[43m,\u001b[49m\u001b[43m \u001b[49m\u001b[38;5;241;43m*\u001b[39;49m\u001b[43margs\u001b[49m\u001b[43m,\u001b[49m\u001b[43m \u001b[49m\u001b[38;5;241;43m*\u001b[39;49m\u001b[38;5;241;43m*\u001b[39;49m\u001b[43mkwargs\u001b[49m\u001b[43m)\u001b[49m\n\u001b[1;32m    401\u001b[0m inc \u001b[38;5;241m=\u001b[39m update \u001b[38;5;241m*\u001b[39m grad \u001b[38;5;241m<\u001b[39m \u001b[38;5;241m0.0\u001b[39m\n\u001b[1;32m    402\u001b[0m dec \u001b[38;5;241m=\u001b[39m np\u001b[38;5;241m.\u001b[39minvert(inc)\n",
      "File \u001b[0;32m/usr/local/lib/python3.10/dist-packages/sklearn/manifold/_t_sne.py:280\u001b[0m, in \u001b[0;36m_kl_divergence_bh\u001b[0;34m(params, P, degrees_of_freedom, n_samples, n_components, angle, skip_num_points, verbose, compute_error, num_threads)\u001b[0m\n\u001b[1;32m    277\u001b[0m indptr \u001b[38;5;241m=\u001b[39m P\u001b[38;5;241m.\u001b[39mindptr\u001b[38;5;241m.\u001b[39mastype(np\u001b[38;5;241m.\u001b[39mint64, copy\u001b[38;5;241m=\u001b[39m\u001b[38;5;28;01mFalse\u001b[39;00m)\n\u001b[1;32m    279\u001b[0m grad \u001b[38;5;241m=\u001b[39m np\u001b[38;5;241m.\u001b[39mzeros(X_embedded\u001b[38;5;241m.\u001b[39mshape, dtype\u001b[38;5;241m=\u001b[39mnp\u001b[38;5;241m.\u001b[39mfloat32)\n\u001b[0;32m--> 280\u001b[0m error \u001b[38;5;241m=\u001b[39m \u001b[43m_barnes_hut_tsne\u001b[49m\u001b[38;5;241;43m.\u001b[39;49m\u001b[43mgradient\u001b[49m\u001b[43m(\u001b[49m\n\u001b[1;32m    281\u001b[0m \u001b[43m    \u001b[49m\u001b[43mval_P\u001b[49m\u001b[43m,\u001b[49m\n\u001b[1;32m    282\u001b[0m \u001b[43m    \u001b[49m\u001b[43mX_embedded\u001b[49m\u001b[43m,\u001b[49m\n\u001b[1;32m    283\u001b[0m \u001b[43m    \u001b[49m\u001b[43mneighbors\u001b[49m\u001b[43m,\u001b[49m\n\u001b[1;32m    284\u001b[0m \u001b[43m    \u001b[49m\u001b[43mindptr\u001b[49m\u001b[43m,\u001b[49m\n\u001b[1;32m    285\u001b[0m \u001b[43m    \u001b[49m\u001b[43mgrad\u001b[49m\u001b[43m,\u001b[49m\n\u001b[1;32m    286\u001b[0m \u001b[43m    \u001b[49m\u001b[43mangle\u001b[49m\u001b[43m,\u001b[49m\n\u001b[1;32m    287\u001b[0m \u001b[43m    \u001b[49m\u001b[43mn_components\u001b[49m\u001b[43m,\u001b[49m\n\u001b[1;32m    288\u001b[0m \u001b[43m    \u001b[49m\u001b[43mverbose\u001b[49m\u001b[43m,\u001b[49m\n\u001b[1;32m    289\u001b[0m \u001b[43m    \u001b[49m\u001b[43mdof\u001b[49m\u001b[38;5;241;43m=\u001b[39;49m\u001b[43mdegrees_of_freedom\u001b[49m\u001b[43m,\u001b[49m\n\u001b[1;32m    290\u001b[0m \u001b[43m    \u001b[49m\u001b[43mcompute_error\u001b[49m\u001b[38;5;241;43m=\u001b[39;49m\u001b[43mcompute_error\u001b[49m\u001b[43m,\u001b[49m\n\u001b[1;32m    291\u001b[0m \u001b[43m    \u001b[49m\u001b[43mnum_threads\u001b[49m\u001b[38;5;241;43m=\u001b[39;49m\u001b[43mnum_threads\u001b[49m\u001b[43m,\u001b[49m\n\u001b[1;32m    292\u001b[0m \u001b[43m\u001b[49m\u001b[43m)\u001b[49m\n\u001b[1;32m    293\u001b[0m c \u001b[38;5;241m=\u001b[39m \u001b[38;5;241m2.0\u001b[39m \u001b[38;5;241m*\u001b[39m (degrees_of_freedom \u001b[38;5;241m+\u001b[39m \u001b[38;5;241m1.0\u001b[39m) \u001b[38;5;241m/\u001b[39m degrees_of_freedom\n\u001b[1;32m    294\u001b[0m grad \u001b[38;5;241m=\u001b[39m grad\u001b[38;5;241m.\u001b[39mravel()\n",
      "\u001b[0;31mKeyboardInterrupt\u001b[0m: "
     ]
    }
   ],
   "source": [
    "# Step 3: Perform t-SNE\n",
    "tsne = TSNE(n_components=2, random_state=42, verbose=True, n_iter=250, n_jobs=12, perplexity =3)\n",
    "tsne_result = tsne.fit_transform(scaled_descriptors)"
   ]
  },
  {
   "cell_type": "code",
   "execution_count": null,
   "metadata": {},
   "outputs": [],
   "source": [
    "i"
   ]
  },
  {
   "cell_type": "code",
   "execution_count": 13,
   "metadata": {},
   "outputs": [],
   "source": [
    "import matplotlib.pyplot as plt"
   ]
  },
  {
   "cell_type": "code",
   "execution_count": 15,
   "metadata": {},
   "outputs": [
    {
     "name": "stdout",
     "output_type": "stream",
     "text": [
      "PCA explained variance ratio: [0.0217251  0.01801867 0.01743953]\n"
     ]
    },
    {
     "name": "stderr",
     "output_type": "stream",
     "text": [
      "/tmp/ipykernel_72311/527694389.py:7: UserWarning: No data for colormapping provided via 'c'. Parameters 'cmap' will be ignored\n",
      "  scatter1 = ax1.scatter(pca_result[:, 0], pca_result[:, 1], alpha=0.5,  cmap='tab20') #c=df['Target Name'].map(colour_dict),\n"
     ]
    },
    {
     "ename": "NameError",
     "evalue": "name 'tsne_result' is not defined",
     "output_type": "error",
     "traceback": [
      "\u001b[0;31m---------------------------------------------------------------------------\u001b[0m",
      "\u001b[0;31mNameError\u001b[0m                                 Traceback (most recent call last)",
      "Cell \u001b[0;32mIn[15], line 16\u001b[0m\n\u001b[1;32m     13\u001b[0m ax1\u001b[38;5;241m.\u001b[39maxis(\u001b[38;5;124m'\u001b[39m\u001b[38;5;124mequal\u001b[39m\u001b[38;5;124m'\u001b[39m)\n\u001b[1;32m     15\u001b[0m \u001b[38;5;66;03m# Plot t-SNE results\u001b[39;00m\n\u001b[0;32m---> 16\u001b[0m scatter2 \u001b[38;5;241m=\u001b[39m ax2\u001b[38;5;241m.\u001b[39mscatter(\u001b[43mtsne_result\u001b[49m[:, \u001b[38;5;241m0\u001b[39m], tsne_result[:, \u001b[38;5;241m1\u001b[39m], alpha\u001b[38;5;241m=\u001b[39m\u001b[38;5;241m0.5\u001b[39m,cmap\u001b[38;5;241m=\u001b[39m\u001b[38;5;124m'\u001b[39m\u001b[38;5;124mtab20\u001b[39m\u001b[38;5;124m'\u001b[39m) \u001b[38;5;66;03m# c=df['Target Name'].map(colour_dict), \u001b[39;00m\n\u001b[1;32m     17\u001b[0m ax2\u001b[38;5;241m.\u001b[39mset_title(\u001b[38;5;124m'\u001b[39m\u001b[38;5;124mt-SNE of Molecular Descriptors\u001b[39m\u001b[38;5;124m'\u001b[39m)\n\u001b[1;32m     18\u001b[0m ax2\u001b[38;5;241m.\u001b[39mset_xlabel(\u001b[38;5;124m'\u001b[39m\u001b[38;5;124mt-SNE dimension 1\u001b[39m\u001b[38;5;124m'\u001b[39m)\n",
      "\u001b[0;31mNameError\u001b[0m: name 'tsne_result' is not defined"
     ]
    },
    {
     "data": {
      "image/png": "[encoded data removed]",
      "text/plain": [
       "<Figure size 1500x500 with 2 Axes>"
      ]
     },
     "metadata": {},
     "output_type": "display_data"
    }
   ],
   "source": [
    "fig, (ax1, ax2) = plt.subplots(1, 2, figsize=(15, 5))\n",
    "\n",
    "print(f'PCA explained variance ratio: {pca.explained_variance_ratio_}')\n",
    "# Plot PCA results, color by target name\n",
    "# Assign each target name a colour (integer)\n",
    "#colour_dict = {name: i for i, name in enumerate(df['Target Name'].unique())}\n",
    "scatter1 = ax1.scatter(pca_result[:, 0], pca_result[:, 1], alpha=0.5,  cmap='tab20') #c=df['Target Name'].map(colour_dict),\n",
    "ax1.set_title('PCA of Molecular Descriptors')\n",
    "ax1.set_xlabel('PC1')\n",
    "ax1.set_ylabel('PC2')\n",
    "#ax1.legend(handles=scatter1.legend_elements()[0], labels=family_dict.keys()) #, title='Target Family'\n",
    "ax1.grid()\n",
    "ax1.axis('equal')\n",
    "\n",
    "# Plot t-SNE results\n",
    "scatter2 = ax2.scatter(tsne_result[:, 0], tsne_result[:, 1], alpha=0.5,cmap='tab20') # c=df['Target Name'].map(colour_dict), \n",
    "ax2.set_title('t-SNE of Molecular Descriptors')\n",
    "ax2.set_xlabel('t-SNE dimension 1')\n",
    "ax2.set_ylabel('t-SNE dimension 2')\n",
    "ax1.grid()\n",
    "plt.tight_layout()\n",
    "plt.show()\n",
    "\n",
    "# Additional analysis: Feature importance in PCA\n",
    "feature_importance = pd.DataFrame(\n",
    "    pca.components_.T,\n",
    "    columns=['PC1', 'PC2'],\n",
    "    index=ecfp_descriptors_df.columns\n",
    ")\n"
   ]
  },
  {
   "cell_type": "code",
   "execution_count": 36,
   "metadata": {},
   "outputs": [
    {
     "data": {
      "text/plain": [
       "array([[-10.56972757,  18.05098568],\n",
       "       [ -6.91781748,  -3.62641374],\n",
       "       [ -2.28584566,  -3.9461446 ],\n",
       "       [ -2.09395243,  -3.42566731],\n",
       "       [ -2.54502674,  -3.65499134],\n",
       "       [ 14.16221461,   4.32319855],\n",
       "       [ 14.16221461,   4.32319855],\n",
       "       [  0.76056684,  -3.29038502],\n",
       "       [ -2.74487358,  -4.14494649],\n",
       "       [ -1.9277526 ,  -4.60883428]])"
      ]
     },
     "execution_count": 36,
     "metadata": {},
     "output_type": "execute_result"
    }
   ],
   "source": [
    "pca_result"
   ]
  },
  {
   "cell_type": "code",
   "execution_count": null,
   "metadata": {},
   "outputs": [
    {
     "data": {
      "text/plain": [
       "'from plotly.subplots import make_subplots\\nimport plotly.graph_objects as go\\nimport plotly.express as px\\n'"
      ]
     },
     "metadata": {},
     "output_type": "display_data"
    }
   ],
   "source": [
    "import numpy as np\n",
    "import time\n",
    "import pandas as pd\n",
    "import matplotlib.pyplot as plt\n",
    "#import seaborn as sns\n",
    "\n",
    "from src.scripts.load_and_save import load_data\n",
    "from src.utils.exploration_and_clean import explore_column, quick_check_column, clean_metrics\n",
    "\n",
    "'''from plotly.subplots import make_subplots\n",
    "import plotly.graph_objects as go\n",
    "import plotly.express as px\n",
    "'''"
   ]
  },
  {
   "cell_type": "code",
   "execution_count": null,
   "metadata": {},
   "outputs": [],
   "source": [
    "def get_mol2vec_descriptors(mol, model) : \n",
    "    \"\"\" Get the mol2vec descriptors for a molecule \"\"\"\n",
    "    identifier = mol2alt_sentence(mol, 1)\n",
    "    embeddings = [model.wv[token] for token in identifier if token in model.wv]\n",
    "    val = np.mean(embeddings, axis=0)\n",
    "    return val\n",
    "     "
   ]
  },
  {
   "cell_type": "code",
   "execution_count": null,
   "metadata": {},
   "outputs": [
    {
     "name": "stdout",
     "output_type": "stream",
     "text": [
      "number of unique identifiers 21003\n"
     ]
    },
    {
     "name": "stderr",
     "output_type": "stream",
     "text": [
      "  0%|          | 0/21 [00:00<?, ?it/s][17:08:04] DEPRECATION WARNING: please use MorganGenerator\n",
      "[17:08:04] DEPRECATION WARNING: please use MorganGenerator\n",
      "[17:08:04] DEPRECATION WARNING: please use MorganGenerator\n",
      "[17:08:04] DEPRECATION WARNING: please use MorganGenerator\n",
      "[17:08:04] DEPRECATION WARNING: please use MorganGenerator\n",
      "[17:08:04] DEPRECATION WARNING: please use MorganGenerator\n",
      "[17:08:04] DEPRECATION WARNING: please use MorganGenerator\n",
      "[17:08:04] DEPRECATION WARNING: please use MorganGenerator\n",
      "[17:08:04] DEPRECATION WARNING: please use MorganGenerator\n",
      "[17:08:04] DEPRECATION WARNING: please use MorganGenerator\n",
      "[17:08:04] DEPRECATION WARNING: please use MorganGenerator\n",
      "[17:08:04] DEPRECATION WARNING: please use MorganGenerator\n",
      "[17:08:04] DEPRECATION WARNING: please use MorganGenerator\n",
      "[17:08:04] DEPRECATION WARNING: please use MorganGenerator\n",
      "[17:08:04] DEPRECATION WARNING: please use MorganGenerator\n",
      "[17:08:04] DEPRECATION WARNING: please use MorganGenerator\n",
      "[17:08:04] DEPRECATION WARNING: please use MorganGenerator\n",
      "[17:08:04] DEPRECATION WARNING: please use MorganGenerator\n",
      "[17:08:04] DEPRECATION WARNING: please use MorganGenerator\n",
      "[17:08:04] DEPRECATION WARNING: please use MorganGenerator\n",
      "[17:08:04] DEPRECATION WARNING: please use MorganGenerator\n",
      "100%|██████████| 21/21 [00:00<00:00, 237.09it/s]"
     ]
    },
    {
     "name": "stdout",
     "output_type": "stream",
     "text": [
      "Mean execution time: 0.00421777225676037 seconds\n",
      "Standard deviation: 0.012885149519600507 seconds\n",
      "Estimation for the full dataset: 0 minutes\n"
     ]
    },
    {
     "name": "stderr",
     "output_type": "stream",
     "text": [
      "\n"
     ]
    }
   ],
   "source": [
    "pretrained_model_path = os.path.join(os.getcwd(), 'model_300dim.pkl') \n",
    "model = Word2Vec.load(pretrained_model_path)\n",
    "print('number of unique identifiers', len(model.wv.key_to_index))\n",
    "\n",
    "execution_times = []\n",
    "\n",
    "mol2vec_embeddings = []\n",
    "for mol in tqdm(df_subset['RDKIT Molecules'].dropna()):\n",
    "    start_time = time.time()\n",
    "    mol2vec_embeddings.append(get_mol2vec_descriptors(mol, model))\n",
    "    end_time = time.time()\n",
    "    execution_times.append(end_time - start_time)\n",
    "\n",
    "# Calculer les statistiques\n",
    "mean_time = np.mean(execution_times)\n",
    "std_time = np.std(execution_times)\n",
    "\n",
    "print(f\"Mean execution time: {mean_time} seconds\")\n",
    "print(f\"Standard deviation: {std_time} seconds\")\n",
    "print(f\"Estimation for the full dataset: {round(len(df_bindingDB)*mean_time/60)} minutes\")\n",
    "\n",
    "# Padding to ensure same size\n",
    "mol2vec_descriptors_df = pd.DataFrame(mol2vec_embeddings)"
   ]
  },
  {
   "cell_type": "code",
   "execution_count": null,
   "metadata": {},
   "outputs": [],
   "source": [
    "\n",
    "# Step 2: Perform PCA\n",
    "# Standardize the features\n",
    "scaler = StandardScaler()\n",
    "scaled_descriptors = scaler.fit_transform(mol2vec_descriptors_df)\n",
    "\n",
    "# Apply PCA\n",
    "pca = PCA(n_components=2)\n",
    "pca_result = pca.fit_transform(scaled_descriptors)"
   ]
  },
  {
   "cell_type": "code",
   "execution_count": null,
   "metadata": {},
   "outputs": [
    {
     "name": "stdout",
     "output_type": "stream",
     "text": [
      "[t-SNE] Computing 10 nearest neighbors...\n",
      "[t-SNE] Indexed 21 samples in 0.000s...\n",
      "[t-SNE] Computed neighbors for 21 samples in 0.016s...\n",
      "[t-SNE] Computed conditional probabilities for sample 21 / 21\n",
      "[t-SNE] Mean sigma: 6.786056\n",
      "[t-SNE] KL divergence after 250 iterations with early exaggeration: 67.393387\n",
      "[t-SNE] KL divergence after 251 iterations: 179769313486231570814527423731704356798070567525844996598917476803157260780028538760589558632766878171540458953514382464234321326889464182768467546703537516986049910576551282076245490090389328944075868508455133942304583236903222948165808559332123348274797826204144723168738177180919299881250404026184124858368.000000\n"
     ]
    },
    {
     "name": "stderr",
     "output_type": "stream",
     "text": [
      "c:\\Users\\Laura\\anaconda3\\envs\\ADA\\lib\\site-packages\\sklearn\\manifold\\_t_sne.py:1162: FutureWarning: 'n_iter' was renamed to 'max_iter' in version 1.5 and will be removed in 1.7.\n",
      "  warnings.warn(\n"
     ]
    }
   ],
   "source": [
    "# Step 3: Perform t-SNE\n",
    "tsne = TSNE(n_components=2, random_state=42, verbose=True, n_iter=250, n_jobs=12, perplexity =3)\n",
    "tsne_result = tsne.fit_transform(scaled_descriptors)\n"
   ]
  },
  {
   "cell_type": "code",
   "execution_count": null,
   "metadata": {},
   "outputs": [
    {
     "name": "stdout",
     "output_type": "stream",
     "text": [
      "PCA explained variance ratio: [0.21102089 0.18200676]\n"
     ]
    },
    {
     "name": "stderr",
     "output_type": "stream",
     "text": [
      "C:\\Users\\Laura\\AppData\\Local\\Temp\\ipykernel_9568\\1953359015.py:11: UserWarning: Mismatched number of handles and labels: len(handles) = 1 len(labels) = 7\n",
      "  ax1.legend(handles=scatter1.legend_elements()[0], labels=family_dict.keys(), title='Target Family')\n"
     ]
    },
    {
     "data": {
      "image/png": "[encoded data removed]",
      "text/plain": [
       "<Figure size 1500x500 with 2 Axes>"
      ]
     },
     "metadata": {},
     "output_type": "display_data"
    }
   ],
   "source": [
    "fig, (ax1, ax2) = plt.subplots(1, 2, figsize=(15, 5))\n",
    "\n",
    "print(f'PCA explained variance ratio: {pca.explained_variance_ratio_}')\n",
    "# Plot PCA results, color by target name\n",
    "# Assign each target name a colour (integer)\n",
    "colour_dict = {name: i for i, name in enumerate(df_subset['Target Name'].unique())}\n",
    "scatter1 = ax1.scatter(pca_result[:, 0], pca_result[:, 1], alpha=0.5, c=df_subset['Target Name'].map(colour_dict), cmap='tab20')\n",
    "ax1.set_title('PCA of Molecular Descriptors')\n",
    "ax1.set_xlabel('PC1')\n",
    "ax1.set_ylabel('PC2')\n",
    "ax1.legend(handles=scatter1.legend_elements()[0], labels=family_dict.keys(), title='Target Family')\n",
    "ax1.grid()\n",
    "ax1.axis('equal')\n",
    "\n",
    "# Plot t-SNE results\n",
    "scatter2 = ax2.scatter(tsne_result[:, 0], tsne_result[:, 1], alpha=0.5, c=df_subset['Target Name'].map(colour_dict), cmap='tab20')\n",
    "ax2.set_title('t-SNE of Molecular Descriptors')\n",
    "ax2.set_xlabel('t-SNE dimension 1')\n",
    "ax2.set_ylabel('t-SNE dimension 2')\n",
    "ax1.grid()\n",
    "plt.tight_layout()\n",
    "plt.show()\n",
    "\n",
    "# Additional analysis: Feature importance in PCA\n",
    "feature_importance = pd.DataFrame(\n",
    "    pca.components_.T,\n",
    "    columns=['PC1', 'PC2'],\n",
    "    index=mol2vec_descriptors_df.columns\n",
    ")\n"
   ]
  }
 ],
 "metadata": {
  "kernelspec": {
   "display_name": "Python 3",
   "language": "python",
   "name": "python3"
  },
  "language_info": {
   "codemirror_mode": {
    "name": "ipython",
    "version": 3
   },
   "file_extension": ".py",
   "mimetype": "text/x-python",
   "name": "python",
   "nbconvert_exporter": "python",
   "pygments_lexer": "ipython3",
   "version": "3.10.12"
  }
 },
 "nbformat": 4,
 "nbformat_minor": 2
}
