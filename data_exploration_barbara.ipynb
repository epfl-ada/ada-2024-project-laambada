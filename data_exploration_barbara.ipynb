{
 "cells": [
  {
   "cell_type": "markdown",
   "metadata": {},
   "source": [
    "# DATA EXLORATION"
   ]
  },
  {
   "cell_type": "code",
   "execution_count": 2,
   "metadata": {},
   "outputs": [],
   "source": [
    "import numpy as np\n",
    "import pandas as pd\n",
    "import seaborn as sns\n",
    "import matplotlib.pyplot as plt"
   ]
  },
  {
   "cell_type": "code",
   "execution_count": 3,
   "metadata": {},
   "outputs": [
    {
     "name": "stderr",
     "output_type": "stream",
     "text": [
      "/var/folders/rr/sx7rgrrj3p12hz70crvxqcjc0000gn/T/ipykernel_1818/3904283476.py:2: DtypeWarning: Columns (8,9,10,11,12,13,15,17,20,21,22,23,27,28,32,33,35,36,45,46,47,48,50,51,52,53,54,55,57,58,59,60,62,63,64,65,66,67,69,70,71,72,74,75,76,77,78,79,81,82,83,86,87,88,89,90,91,93,94,95,98,99,100,101,102,103,105,106,107,110,111,112,113,114,115,117,118,119,122,123,124,125,126,127,129,130,131,134,135,136,137,138,139,146,147,148,149,150,151,158,159,160,161,162,163,170,172,173,174,175) have mixed types. Specify dtype option on import or set low_memory=False.\n",
      "  data=pd.read_csv('BindingDB_All.tsv',sep='\\t', on_bad_lines='skip')\n"
     ]
    }
   ],
   "source": [
    "# Load the data\n",
    "data=pd.read_csv('BindingDB_All.tsv',sep='\\t', on_bad_lines='skip')"
   ]
  },
  {
   "cell_type": "markdown",
   "metadata": {},
   "source": [
    "## AFFINITY MEASURE"
   ]
  },
  {
   "cell_type": "code",
   "execution_count": null,
   "metadata": {},
   "outputs": [
    {
     "ename": "NameError",
     "evalue": "name 'data' is not defined",
     "output_type": "error",
     "traceback": [
      "\u001b[0;31m---------------------------------------------------------------------------\u001b[0m",
      "\u001b[0;31mNameError\u001b[0m                                 Traceback (most recent call last)",
      "Cell \u001b[0;32mIn[10], line 1\u001b[0m\n\u001b[0;32m----> 1\u001b[0m affinity \u001b[38;5;241m=\u001b[39m \u001b[43mdata\u001b[49m\u001b[38;5;241m.\u001b[39miloc[:, \u001b[38;5;241m8\u001b[39m:\u001b[38;5;241m16\u001b[39m]\n\u001b[1;32m      2\u001b[0m affinity\u001b[38;5;241m.\u001b[39mcolumns\n",
      "\u001b[0;31mNameError\u001b[0m: name 'data' is not defined"
     ]
    }
   ],
   "source": [
    "affinity = data.iloc[:, 8:16]"
   ]
  },
  {
   "cell_type": "code",
   "execution_count": 71,
   "metadata": {},
   "outputs": [],
   "source": [
    "# To save when it's clean \n",
    "clean_affinity = affinity.copy()"
   ]
  },
  {
   "cell_type": "code",
   "execution_count": 8,
   "metadata": {},
   "outputs": [],
   "source": [
    "# Save the affinity measures, to not have to load the all dataset each time \n",
    "affinity.to_csv('affinity_measure.csv')"
   ]
  },
  {
   "cell_type": "code",
   "execution_count": null,
   "metadata": {},
   "outputs": [
    {
     "data": {
      "text/html": [
       "<div>\n",
       "<style scoped>\n",
       "    .dataframe tbody tr th:only-of-type {\n",
       "        vertical-align: middle;\n",
       "    }\n",
       "\n",
       "    .dataframe tbody tr th {\n",
       "        vertical-align: top;\n",
       "    }\n",
       "\n",
       "    .dataframe thead th {\n",
       "        text-align: right;\n",
       "    }\n",
       "</style>\n",
       "<table border=\"1\" class=\"dataframe\">\n",
       "  <thead>\n",
       "    <tr style=\"text-align: right;\">\n",
       "      <th></th>\n",
       "      <th>Ki (nM)</th>\n",
       "      <th>IC50 (nM)</th>\n",
       "      <th>Kd (nM)</th>\n",
       "      <th>EC50 (nM)</th>\n",
       "      <th>kon (M-1-s-1)</th>\n",
       "      <th>koff (s-1)</th>\n",
       "      <th>pH</th>\n",
       "      <th>Temp (C)</th>\n",
       "    </tr>\n",
       "  </thead>\n",
       "  <tbody>\n",
       "  </tbody>\n",
       "</table>\n",
       "</div>"
      ],
      "text/plain": [
       "Empty DataFrame\n",
       "Columns: [Ki (nM), IC50 (nM), Kd (nM), EC50 (nM), kon (M-1-s-1), koff (s-1), pH, Temp (C)]\n",
       "Index: []"
      ]
     },
     "execution_count": 16,
     "metadata": {},
     "output_type": "execute_result"
    }
   ],
   "source": [
    "# No complete data\n",
    "affinity.dropna()"
   ]
  },
  {
   "cell_type": "markdown",
   "metadata": {},
   "source": [
    "## Individual column"
   ]
  },
  {
   "cell_type": "markdown",
   "metadata": {},
   "source": [
    "### Ki"
   ]
  },
  {
   "cell_type": "markdown",
   "metadata": {},
   "source": [
    "- inhibition constant, concentration of an inhibitor needed to decrease the enzyme's activity to half of its maximum rate when substrate concentration is high.\n",
    "- measures the binding affinity between the enzyme and the inhibitor (lower Ki values indicate stronger inhibition)\n",
    "- Used in Michaelis-Menten kinetics to understand competitive, non-competitive, and uncompetitive inhibition.\n",
    "\n",
    "    - Competitive Inhibition: The inhibitor competes with the substrate for binding to the enzyme's active site. Here, Ki reflects how well the inhibitor can block substrate binding.\n",
    "\n",
    "    - Non-Competitive Inhibition: The inhibitor binds to a different site, not the active site, changing the enzyme's activity without blocking substrate binding. In this case, Ki indicates the efficacy of the inhibitor at reducing the reaction rate."
   ]
  },
  {
   "cell_type": "code",
   "execution_count": 13,
   "metadata": {},
   "outputs": [
    {
     "name": "stdout",
     "output_type": "stream",
     "text": [
      "20.31911679894543\n",
      "591904\n"
     ]
    }
   ],
   "source": [
    "# Percent of not nan value \n",
    "per = 100*affinity['Ki (nM)'].dropna().shape[0]/affinity['Ki (nM)'].shape[0]\n",
    "print(per)\n",
    "\n",
    "# Number \n",
    "nb = affinity['Ki (nM)'].dropna().shape[0]\n",
    "print(nb)"
   ]
  },
  {
   "cell_type": "code",
   "execution_count": 14,
   "metadata": {},
   "outputs": [
    {
     "data": {
      "text/plain": [
       "array([' 0.24', ' 0.25', ' 0.41', ..., '244.0', '346.0', '5100.0'],\n",
       "      dtype=object)"
      ]
     },
     "execution_count": 14,
     "metadata": {},
     "output_type": "execute_result"
    }
   ],
   "source": [
    "ki = affinity['Ki (nM)']\n",
    "# Type of the data \n",
    "ki.unique()"
   ]
  },
  {
   "cell_type": "code",
   "execution_count": 15,
   "metadata": {},
   "outputs": [],
   "source": [
    "# we have string and float, and among the string we have some of them that have blank space, lets uniformize \n",
    "# Remove any character that is not number + the blank space but keep if we have >< signe\n",
    "ki = ki.str.replace(r'[^0-9.\\-<>]', '', regex=True).str.strip()\n",
    "\n",
    "# Convert to numerics \n",
    "ki_uniform = pd.to_numeric(ki, errors= 'coerce') # the <> will be set as nan - see latter if we want to use them "
   ]
  },
  {
   "cell_type": "code",
   "execution_count": 16,
   "metadata": {},
   "outputs": [],
   "source": [
    "# save into clean affinity\n",
    "clean_affinity['Ki (nM)'] = ki_uniform"
   ]
  },
  {
   "cell_type": "code",
   "execution_count": 17,
   "metadata": {},
   "outputs": [
    {
     "data": {
      "text/plain": [
       "17.727391316288138"
      ]
     },
     "execution_count": 17,
     "metadata": {},
     "output_type": "execute_result"
    }
   ],
   "source": [
    "# Final size of usable data (percent of the original dataset)\n",
    "100*ki_uniform.dropna().shape[0]/ki.shape[0]"
   ]
  },
  {
   "cell_type": "code",
   "execution_count": 18,
   "metadata": {},
   "outputs": [
    {
     "name": "stdout",
     "output_type": "stream",
     "text": [
      "Ki (nM)\n",
      "12.000      3441\n",
      "10.000      3422\n",
      "2.000       3407\n",
      "0.550       3243\n",
      "11.000      3187\n",
      "            ... \n",
      "1.923          1\n",
      "1.735          1\n",
      "1.855          1\n",
      "2.285          1\n",
      "9128.000       1\n",
      "Name: count, Length: 21713, dtype: int64\n"
     ]
    },
    {
     "data": {
      "text/plain": [
       "Text(0.5, 1.0, 'Ki count value distribution')"
      ]
     },
     "execution_count": 18,
     "metadata": {},
     "output_type": "execute_result"
    },
    {
     "data": {
      "image/png": "[encoded data removed]",
      "text/plain": [
       "<Figure size 640x480 with 1 Axes>"
      ]
     },
     "metadata": {},
     "output_type": "display_data"
    }
   ],
   "source": [
    "# We have lot of small value and very small of large range of values without na\n",
    "value_count = ki_uniform.dropna().value_counts()\n",
    "print(value_count)\n",
    "\n",
    "value_count.plot(kind='hist', logy=True)\n",
    "plt.title('Ki count value distribution')"
   ]
  },
  {
   "cell_type": "code",
   "execution_count": 19,
   "metadata": {},
   "outputs": [
    {
     "data": {
      "text/plain": [
       "<Axes: ylabel='Frequency'>"
      ]
     },
     "execution_count": 19,
     "metadata": {},
     "output_type": "execute_result"
    },
    {
     "data": {
      "image/png": "[encoded data removed]",
      "text/plain": [
       "<Figure size 640x480 with 1 Axes>"
      ]
     },
     "metadata": {},
     "output_type": "display_data"
    }
   ],
   "source": [
    "ki_uniform.dropna().plot(kind='hist', logy =True)"
   ]
  },
  {
   "cell_type": "code",
   "execution_count": 20,
   "metadata": {},
   "outputs": [
    {
     "data": {
      "text/plain": [
       "<Axes: ylabel='Frequency'>"
      ]
     },
     "execution_count": 20,
     "metadata": {},
     "output_type": "execute_result"
    },
    {
     "data": {
      "image/png": "[encoded data removed]",
      "text/plain": [
       "<Figure size 640x480 with 1 Axes>"
      ]
     },
     "metadata": {},
     "output_type": "display_data"
    }
   ],
   "source": [
    "ki_small = ki_uniform[ki_uniform< 1000]\n",
    "ki_small.dropna().plot(kind = 'hist')"
   ]
  },
  {
   "cell_type": "code",
   "execution_count": 21,
   "metadata": {},
   "outputs": [
    {
     "data": {
      "text/plain": [
       "49460      2.000000e+08\n",
       "176846     2.100000e+08\n",
       "176847     4.400000e+08\n",
       "198926     1.010000e+08\n",
       "198927     1.740000e+08\n",
       "               ...     \n",
       "2691211    7.413102e+08\n",
       "2691227    2.884032e+08\n",
       "2691234    9.908319e+08\n",
       "2741794    1.370000e+08\n",
       "2771541    1.000000e+09\n",
       "Name: Ki (nM), Length: 303, dtype: float64"
      ]
     },
     "execution_count": 21,
     "metadata": {},
     "output_type": "execute_result"
    }
   ],
   "source": [
    "# very very large \n",
    "ki_large = ki_uniform[ki_uniform > 100000000]\n",
    "ki_large\n"
   ]
  },
  {
   "cell_type": "code",
   "execution_count": 22,
   "metadata": {},
   "outputs": [
    {
     "data": {
      "text/plain": [
       "' 99999999999999'"
      ]
     },
     "execution_count": 22,
     "metadata": {},
     "output_type": "execute_result"
    }
   ],
   "source": [
    "# it's right in the original file \n",
    "affinity['Ki (nM)'][2536139]"
   ]
  },
  {
   "cell_type": "markdown",
   "metadata": {},
   "source": [
    "### IC50\n",
    "- half maximal inhibitory concentration,  effectiveness of a substance in inhibiting. \n",
    "- concentration of a substance (such as a drug or inhibitor) that is required to inhibit 50% of a target's activity in a particular assay.\n",
    "- quantitative measure of how effective an inhibitor is.\n",
    "\n",
    "Relationship with Ki : While IC₅₀ is often used in practical applications to assess inhibitor strength, it is not the same as Ki. The IC₅₀ value depends on both the concentration of the inhibitor and the conditions of the assay, such as the concentration of substrate, whereas Ki is more specific to the interaction between the enzyme and the inhibitor. For a competitive inhibitor, the IC₅₀ can be converted to Ki using the Cheng-Prusoff equation if you know the substrate concentration and Km (Michaelis constant)."
   ]
  },
  {
   "cell_type": "code",
   "execution_count": 23,
   "metadata": {},
   "outputs": [
    {
     "name": "stdout",
     "output_type": "stream",
     "text": [
      "66.78421854832065\n",
      "1945451\n"
     ]
    }
   ],
   "source": [
    "# Percent of not nan value \n",
    "per = 100*affinity['IC50 (nM)'].dropna().shape[0]/affinity['IC50 (nM)'].shape[0]\n",
    "print(per)\n",
    "\n",
    "# Number \n",
    "nb = affinity['IC50 (nM)'].dropna().shape[0]\n",
    "print(nb)"
   ]
  },
  {
   "cell_type": "code",
   "execution_count": 24,
   "metadata": {},
   "outputs": [
    {
     "name": "stdout",
     "output_type": "stream",
     "text": [
      "IC50 glimps of the dataset values\n",
      "[nan '>50000' ' 6676.9' ... ' 30750' ' 856450' ' 895090000']\n"
     ]
    },
    {
     "data": {
      "text/plain": [
       "Text(0.5, 1.0, 'ICA50 distribution value counts, (log scale)')"
      ]
     },
     "execution_count": 24,
     "metadata": {},
     "output_type": "execute_result"
    },
    {
     "data": {
      "image/png": "[encoded data removed]",
      "text/plain": [
       "<Figure size 640x480 with 1 Axes>"
      ]
     },
     "metadata": {},
     "output_type": "display_data"
    }
   ],
   "source": [
    "IC50 = affinity['IC50 (nM)']\n",
    "# Type of the data \n",
    "print('IC50 glimps of the dataset values')\n",
    "print(IC50.unique())\n",
    "\n",
    "# replace blank\n",
    "IC50 = IC50.str.replace(r'[^0-9.\\-<>]', '', regex=True).str.strip()\n",
    "\n",
    "# Convert to numerics \n",
    "IC50_uniform = pd.to_numeric(IC50, errors= 'coerce') # the <> will be set as nan - see latter if we want to use them \n",
    "\n",
    "# save into clean affinity\n",
    "clean_affinity['IC50 (nM)'] = IC50_uniform\n",
    "\n",
    "# histo of the count\n",
    "value_count = IC50_uniform.dropna().value_counts()\n",
    "value_count.hist(log=True)\n",
    "plt.title('ICA50 distribution value counts, (log scale)')"
   ]
  },
  {
   "cell_type": "code",
   "execution_count": 25,
   "metadata": {},
   "outputs": [
    {
     "data": {
      "text/plain": [
       "<Axes: ylabel='Frequency'>"
      ]
     },
     "execution_count": 25,
     "metadata": {},
     "output_type": "execute_result"
    },
    {
     "data": {
      "image/png": "[encoded data removed]",
      "text/plain": [
       "<Figure size 640x480 with 1 Axes>"
      ]
     },
     "metadata": {},
     "output_type": "display_data"
    }
   ],
   "source": [
    "# very large and very small \n",
    "IC50_uniform.dropna().plot(kind='hist', logy=True)"
   ]
  },
  {
   "cell_type": "code",
   "execution_count": 26,
   "metadata": {},
   "outputs": [
    {
     "data": {
      "text/plain": [
       "<Axes: ylabel='Frequency'>"
      ]
     },
     "execution_count": 26,
     "metadata": {},
     "output_type": "execute_result"
    },
    {
     "data": {
      "image/png": "[encoded data removed]",
      "text/plain": [
       "<Figure size 640x480 with 1 Axes>"
      ]
     },
     "metadata": {},
     "output_type": "display_data"
    }
   ],
   "source": [
    "IC50_small = IC50_uniform[IC50_uniform< 4000]\n",
    "IC50_small.dropna().plot(kind = 'hist', logy=True)"
   ]
  },
  {
   "cell_type": "code",
   "execution_count": 27,
   "metadata": {},
   "outputs": [
    {
     "data": {
      "text/plain": [
       "53.002567764260014"
      ]
     },
     "execution_count": 27,
     "metadata": {},
     "output_type": "execute_result"
    }
   ],
   "source": [
    "# Final size of usable data (percent of the original dataset)\n",
    "100*IC50_uniform.dropna().shape[0]/IC50.shape[0]"
   ]
  },
  {
   "cell_type": "markdown",
   "metadata": {},
   "source": [
    "### Kd"
   ]
  },
  {
   "cell_type": "code",
   "execution_count": 28,
   "metadata": {},
   "outputs": [
    {
     "name": "stdout",
     "output_type": "stream",
     "text": [
      "3.8044105127289702\n",
      "110824\n"
     ]
    }
   ],
   "source": [
    "# Percent of not nan value \n",
    "per = 100*affinity['Kd (nM)'].dropna().shape[0]/affinity['Kd (nM)'].shape[0]\n",
    "print(per)\n",
    "\n",
    "# Number \n",
    "nb = affinity['Kd (nM)'].dropna().shape[0]\n",
    "print(nb)"
   ]
  },
  {
   "cell_type": "code",
   "execution_count": 29,
   "metadata": {},
   "outputs": [
    {
     "name": "stdout",
     "output_type": "stream",
     "text": [
      "Kd glimps of the dataset values\n",
      "[nan '43000.0' '77000.0' ... ' 59900' ' 109900' ' 148200']\n"
     ]
    },
    {
     "data": {
      "text/plain": [
       "Text(0.5, 1.0, 'Kd distribution value count (logscale)')"
      ]
     },
     "execution_count": 29,
     "metadata": {},
     "output_type": "execute_result"
    },
    {
     "data": {
      "image/png": "[encoded data removed]",
      "text/plain": [
       "<Figure size 640x480 with 1 Axes>"
      ]
     },
     "metadata": {},
     "output_type": "display_data"
    }
   ],
   "source": [
    "kd = affinity['Kd (nM)']\n",
    "# Type of the data \n",
    "print('Kd glimps of the dataset values')\n",
    "print(kd.unique())\n",
    "\n",
    "# replace blank\n",
    "kd = kd.str.replace(r'[^0-9.\\-<>]', '', regex=True).str.strip()\n",
    "\n",
    "# Convert to numerics \n",
    "kd_uniform = pd.to_numeric(kd, errors= 'coerce') # the <> will be set as nan - see latter if we want to use them \n",
    "\n",
    "# save into clean affinity\n",
    "clean_affinity['Kd (nM)'] = kd_uniform\n",
    "\n",
    "# Final size of usable data (percent of the original dataset)\n",
    "100*kd_uniform.dropna().shape[0]/kd.shape[0]\n",
    "\n",
    "# histo of the count\n",
    "value_count = kd_uniform.dropna().value_counts()\n",
    "value_count.hist(log=True)\n",
    "plt.title('Kd distribution value count (logscale)')"
   ]
  },
  {
   "cell_type": "code",
   "execution_count": 30,
   "metadata": {},
   "outputs": [
    {
     "data": {
      "text/plain": [
       "<Axes: ylabel='Frequency'>"
      ]
     },
     "execution_count": 30,
     "metadata": {},
     "output_type": "execute_result"
    },
    {
     "data": {
      "image/png": "[encoded data removed]",
      "text/plain": [
       "<Figure size 640x480 with 1 Axes>"
      ]
     },
     "metadata": {},
     "output_type": "display_data"
    }
   ],
   "source": [
    "kd_uniform.dropna().plot(kind = 'hist', logy = True)"
   ]
  },
  {
   "cell_type": "code",
   "execution_count": 31,
   "metadata": {},
   "outputs": [
    {
     "data": {
      "text/plain": [
       "<Axes: ylabel='Frequency'>"
      ]
     },
     "execution_count": 31,
     "metadata": {},
     "output_type": "execute_result"
    },
    {
     "data": {
      "image/png": "[encoded data removed]",
      "text/plain": [
       "<Figure size 640x480 with 1 Axes>"
      ]
     },
     "metadata": {},
     "output_type": "display_data"
    }
   ],
   "source": [
    "kd_small = kd_uniform[kd_uniform< 10000]\n",
    "kd_small.dropna().plot(kind = 'hist', logy=True)"
   ]
  },
  {
   "cell_type": "code",
   "execution_count": 32,
   "metadata": {},
   "outputs": [
    {
     "data": {
      "text/plain": [
       "2.298526625106418"
      ]
     },
     "execution_count": 32,
     "metadata": {},
     "output_type": "execute_result"
    }
   ],
   "source": [
    "# Final size of usable data (percent of the original dataset)\n",
    "100*kd_uniform.dropna().shape[0]/kd.shape[0]"
   ]
  },
  {
   "cell_type": "markdown",
   "metadata": {},
   "source": [
    "### EC50"
   ]
  },
  {
   "cell_type": "code",
   "execution_count": 33,
   "metadata": {},
   "outputs": [
    {
     "name": "stdout",
     "output_type": "stream",
     "text": [
      "9.19252739406256\n",
      "267782\n"
     ]
    }
   ],
   "source": [
    "# Percent of not nan value \n",
    "per = 100*affinity['EC50 (nM)'].dropna().shape[0]/affinity['EC50 (nM)'].shape[0]\n",
    "print(per)\n",
    "\n",
    "# Number \n",
    "nb = affinity['EC50 (nM)'].dropna().shape[0]\n",
    "print(nb)"
   ]
  },
  {
   "cell_type": "code",
   "execution_count": 34,
   "metadata": {},
   "outputs": [
    {
     "name": "stdout",
     "output_type": "stream",
     "text": [
      "EC50 glimps of the dataset values\n",
      "[nan '70.0' '80.0' ... ' 50000000' ' 15190000' '<2.5']\n"
     ]
    },
    {
     "data": {
      "text/plain": [
       "Text(0.5, 1.0, 'EC50 (nM) distribution value count (logscale)')"
      ]
     },
     "execution_count": 34,
     "metadata": {},
     "output_type": "execute_result"
    },
    {
     "data": {
      "image/png": "[encoded data removed]",
      "text/plain": [
       "<Figure size 640x480 with 1 Axes>"
      ]
     },
     "metadata": {},
     "output_type": "display_data"
    }
   ],
   "source": [
    "EC50 = affinity['EC50 (nM)']\n",
    "# Type of the data \n",
    "print('EC50 glimps of the dataset values')\n",
    "print(EC50.unique())\n",
    "\n",
    "# replace blank\n",
    "EC50 = EC50.str.replace(r'[^0-9.\\-<>]', '', regex=True).str.strip()\n",
    "\n",
    "# Convert to numerics \n",
    "EC50_uniform = pd.to_numeric(EC50, errors= 'coerce') # the <> will be set as nan - see latter if we want to use them \n",
    "\n",
    "# save into clean affinity\n",
    "clean_affinity['EC50 (nM)'] = EC50_uniform\n",
    "\n",
    "# Final size of usable data (percent of the original dataset)\n",
    "100*EC50_uniform.dropna().shape[0]/EC50.shape[0]\n",
    "\n",
    "# histo of the count\n",
    "value_count = EC50_uniform.dropna().value_counts()\n",
    "value_count.hist(log=True)\n",
    "plt.title('EC50 (nM) distribution value count (logscale)')"
   ]
  },
  {
   "cell_type": "code",
   "execution_count": 35,
   "metadata": {},
   "outputs": [
    {
     "data": {
      "text/plain": [
       "<Axes: ylabel='Frequency'>"
      ]
     },
     "execution_count": 35,
     "metadata": {},
     "output_type": "execute_result"
    },
    {
     "data": {
      "image/png": "[encoded data removed]",
      "text/plain": [
       "<Figure size 640x480 with 1 Axes>"
      ]
     },
     "metadata": {},
     "output_type": "display_data"
    }
   ],
   "source": [
    "EC50_uniform.dropna().plot(kind='hist', logy=True)"
   ]
  },
  {
   "cell_type": "code",
   "execution_count": 36,
   "metadata": {},
   "outputs": [
    {
     "data": {
      "text/plain": [
       "<Axes: ylabel='Frequency'>"
      ]
     },
     "execution_count": 36,
     "metadata": {},
     "output_type": "execute_result"
    },
    {
     "data": {
      "image/png": "[encoded data removed]",
      "text/plain": [
       "<Figure size 640x480 with 1 Axes>"
      ]
     },
     "metadata": {},
     "output_type": "display_data"
    }
   ],
   "source": [
    "EC50_small = EC50_uniform[EC50_uniform< 10000]\n",
    "EC50_small.dropna().plot(kind = 'hist', logy=True)"
   ]
  },
  {
   "cell_type": "code",
   "execution_count": 37,
   "metadata": {},
   "outputs": [
    {
     "data": {
      "text/plain": [
       "7.1804026034657955"
      ]
     },
     "execution_count": 37,
     "metadata": {},
     "output_type": "execute_result"
    }
   ],
   "source": [
    "# Final size of usable data (percent of the original dataset)\n",
    "100*EC50_uniform.dropna().shape[0]/EC50.shape[0]"
   ]
  },
  {
   "cell_type": "markdown",
   "metadata": {},
   "source": [
    "### kon"
   ]
  },
  {
   "cell_type": "code",
   "execution_count": 38,
   "metadata": {},
   "outputs": [
    {
     "name": "stdout",
     "output_type": "stream",
     "text": [
      "0.034534369593277124\n",
      "1006\n"
     ]
    }
   ],
   "source": [
    "# Percent of not nan value \n",
    "per = 100*affinity['kon (M-1-s-1)'].dropna().shape[0]/affinity['kon (M-1-s-1)'].shape[0]\n",
    "print(per)\n",
    "\n",
    "# Number \n",
    "nb = affinity['kon (M-1-s-1)'].dropna().shape[0]\n",
    "print(nb)"
   ]
  },
  {
   "cell_type": "code",
   "execution_count": 39,
   "metadata": {},
   "outputs": [
    {
     "name": "stdout",
     "output_type": "stream",
     "text": [
      "kon (M-1-s-1)\n",
      "1400000.0    12\n",
      "1800000.0    11\n",
      "3000000.0    10\n",
      "1100000.0     8\n",
      "1300000.0     8\n",
      "             ..\n",
      "670000.0      1\n",
      "8500000.0     1\n",
      "2260000.0     1\n",
      "4680000.0     1\n",
      "160000.0      1\n",
      "Name: count, Length: 191, dtype: int64\n"
     ]
    },
    {
     "data": {
      "text/plain": [
       "Text(0.5, 1.0, 'kon (M-1-s-1) distribution')"
      ]
     },
     "execution_count": 39,
     "metadata": {},
     "output_type": "execute_result"
    },
    {
     "data": {
      "image/png": "[encoded data removed]",
      "text/plain": [
       "<Figure size 640x480 with 1 Axes>"
      ]
     },
     "metadata": {},
     "output_type": "display_data"
    }
   ],
   "source": [
    "kon = affinity['kon (M-1-s-1)']\n",
    "# Type of the data \n",
    "#print('kon glimps of the dataset values')\n",
    "#print(kon.unique())\n",
    "\n",
    "# replace blank\n",
    "kon = kon.str.replace(r'[^0-9.\\-<>]', '', regex=True).str.strip()\n",
    "\n",
    "# Convert to numerics \n",
    "kon_uniform = pd.to_numeric(kon, errors= 'coerce') # the <> will be set as nan - see latter if we want to use them \n",
    "\n",
    "# save into clean affinity\n",
    "clean_affinity['kon (M-1-s-1)'] = kon_uniform\n",
    "\n",
    "# Final size of usable data (percent of the original dataset)\n",
    "100*kon_uniform.dropna().shape[0]/kon.shape[0]\n",
    "\n",
    "# histo of the count\n",
    "value_count = kon_uniform.dropna().value_counts()\n",
    "print(value_count)\n",
    "kon_uniform.dropna().plot(kind=\"hist\")\n",
    "plt.title('kon (M-1-s-1) distribution')\n"
   ]
  },
  {
   "cell_type": "code",
   "execution_count": 40,
   "metadata": {},
   "outputs": [
    {
     "data": {
      "text/plain": [
       "<Axes: ylabel='Frequency'>"
      ]
     },
     "execution_count": 40,
     "metadata": {},
     "output_type": "execute_result"
    },
    {
     "data": {
      "image/png": "[encoded data removed]",
      "text/plain": [
       "<Figure size 640x480 with 1 Axes>"
      ]
     },
     "metadata": {},
     "output_type": "display_data"
    }
   ],
   "source": [
    "kon_small = kon_uniform[kon_uniform< 60]\n",
    "kon_small.dropna().plot(kind = 'hist', logy=True)"
   ]
  },
  {
   "cell_type": "code",
   "execution_count": 41,
   "metadata": {},
   "outputs": [
    {
     "data": {
      "text/plain": [
       "0.011294043336171148"
      ]
     },
     "execution_count": 41,
     "metadata": {},
     "output_type": "execute_result"
    }
   ],
   "source": [
    "# Final size of usable data (percent of the original dataset)\n",
    "100*kon_uniform.dropna().shape[0]/kon.shape[0]"
   ]
  },
  {
   "cell_type": "markdown",
   "metadata": {},
   "source": [
    "### koff"
   ]
  },
  {
   "cell_type": "code",
   "execution_count": 42,
   "metadata": {},
   "outputs": [
    {
     "name": "stdout",
     "output_type": "stream",
     "text": [
      "0.03384780160931535\n",
      "986\n"
     ]
    }
   ],
   "source": [
    "# Percent of not nan value \n",
    "per = 100*affinity['koff (s-1)'].dropna().shape[0]/affinity['koff (s-1)'].shape[0]\n",
    "print(per)\n",
    "\n",
    "# Number \n",
    "nb = affinity['koff (s-1)'].dropna().shape[0]\n",
    "print(nb)"
   ]
  },
  {
   "cell_type": "code",
   "execution_count": 43,
   "metadata": {},
   "outputs": [
    {
     "data": {
      "text/plain": [
       "Text(0.5, 1.0, 'koff (s-1) distribution value count (logscale)')"
      ]
     },
     "execution_count": 43,
     "metadata": {},
     "output_type": "execute_result"
    },
    {
     "data": {
      "image/png": "[encoded data removed]",
      "text/plain": [
       "<Figure size 640x480 with 1 Axes>"
      ]
     },
     "metadata": {},
     "output_type": "display_data"
    }
   ],
   "source": [
    "koff = affinity['koff (s-1)']\n",
    "# Type of the data \n",
    "#print('kon glimps of the dataset values')\n",
    "#print(koff.unique())\n",
    "\n",
    "# replace blank\n",
    "koff = koff.str.replace(r'[^0-9.\\-<>]', '', regex=True).str.strip()\n",
    "\n",
    "# Convert to numerics \n",
    "koff_uniform = pd.to_numeric(koff, errors= 'coerce') # the <> will be set as nan - see latter if we want to use them \n",
    "\n",
    "# save into clean affinity\n",
    "clean_affinity['koff (s-1)'] = koff_uniform\n",
    "\n",
    "# Final size of usable data (percent of the original dataset)\n",
    "100*koff_uniform.dropna().shape[0]/koff.shape[0]\n",
    "\n",
    "# histo of the count\n",
    "value_count = koff_uniform.dropna().value_counts()\n",
    "value_count.hist(log=True)\n",
    "plt.title('koff (s-1) distribution value count (logscale)')\n"
   ]
  },
  {
   "cell_type": "code",
   "execution_count": 44,
   "metadata": {},
   "outputs": [
    {
     "data": {
      "text/plain": [
       "<Axes: ylabel='Frequency'>"
      ]
     },
     "execution_count": 44,
     "metadata": {},
     "output_type": "execute_result"
    },
    {
     "data": {
      "image/png": "[encoded data removed]",
      "text/plain": [
       "<Figure size 640x480 with 1 Axes>"
      ]
     },
     "metadata": {},
     "output_type": "display_data"
    }
   ],
   "source": [
    "koff_uniform.dropna().plot(kind = 'hist', logy=True)"
   ]
  },
  {
   "cell_type": "code",
   "execution_count": 45,
   "metadata": {},
   "outputs": [
    {
     "data": {
      "text/plain": [
       "<Axes: ylabel='Frequency'>"
      ]
     },
     "execution_count": 45,
     "metadata": {},
     "output_type": "execute_result"
    },
    {
     "data": {
      "image/png": "[encoded data removed]",
      "text/plain": [
       "<Figure size 640x480 with 1 Axes>"
      ]
     },
     "metadata": {},
     "output_type": "display_data"
    }
   ],
   "source": [
    "koff_small = koff_uniform[koff_uniform< 70]\n",
    "koff_small.dropna().plot(kind= 'hist', log=True)"
   ]
  },
  {
   "cell_type": "code",
   "execution_count": 46,
   "metadata": {},
   "outputs": [
    {
     "data": {
      "text/plain": [
       "0.005355230274901821"
      ]
     },
     "execution_count": 46,
     "metadata": {},
     "output_type": "execute_result"
    }
   ],
   "source": [
    "# Final size of usable data (percent of the original dataset)\n",
    "100*koff_uniform.dropna().shape[0]/koff.shape[0]"
   ]
  },
  {
   "cell_type": "markdown",
   "metadata": {},
   "source": [
    "### pH and Temp"
   ]
  },
  {
   "cell_type": "code",
   "execution_count": 47,
   "metadata": {},
   "outputs": [
    {
     "name": "stdout",
     "output_type": "stream",
     "text": [
      "7.389565539779749\n",
      "215261\n"
     ]
    }
   ],
   "source": [
    "pH= affinity['pH']\n",
    "# Percent of not nan value \n",
    "per = 100*pH.dropna().shape[0]/pH.shape[0]\n",
    "print(per)\n",
    "\n",
    "# Number \n",
    "nb = pH.dropna().shape[0]\n",
    "print(nb)"
   ]
  },
  {
   "cell_type": "code",
   "execution_count": 48,
   "metadata": {},
   "outputs": [
    {
     "data": {
      "text/plain": [
       "array([ 5.5 ,  4.7 ,   nan,  6.  ,  7.4 ,  7.5 ,  5.2 ,  5.  ,  6.2 ,\n",
       "        6.4 ,  6.5 ,  6.25,  8.2 ,  7.7 ,  7.8 ,  7.2 ,  7.3 ,  8.  ,\n",
       "        8.3 ,  7.9 ,  8.5 ,  7.  ,  5.6 ,  7.6 ,  8.4 ,  4.5 ,  6.8 ,\n",
       "        6.3 ,  6.1 ,  7.72,  8.04,  7.45,  7.02,  6.7 ,  8.06,  7.67,\n",
       "        7.39,  4.8 ,  4.6 ,  8.1 ,  6.6 ,  4.  ,  2.  ,  7.1 ,  5.9 ,\n",
       "        9.  ,  6.9 ,  9.5 ,  8.6 ,  3.1 ,  5.8 ,  4.25,  3.7 ,  7.35,\n",
       "        5.52,  3.5 ,  5.75,  6.85, 10.  ,  9.2 ,  3.  , 10.5 ,  8.05,\n",
       "       10.6 ,  2.2 ,  8.8 ,  9.6 ,  5.01,  4.2 ,  4.4 ,  2.5 ,  7.43,\n",
       "        9.8 ,  5.4 ,  7.25,  7.15,  5.1 ,  7.55,  6.55,  3.2 ,  3.3 ,\n",
       "        1.9 ,  8.25,  5.3 ,  4.9 , 10.4 ,  8.7 ,  7.37])"
      ]
     },
     "execution_count": 48,
     "metadata": {},
     "output_type": "execute_result"
    }
   ],
   "source": [
    "pH.unique()\n"
   ]
  },
  {
   "cell_type": "code",
   "execution_count": 49,
   "metadata": {},
   "outputs": [
    {
     "data": {
      "text/plain": [
       "Text(0.5, 1.0, 'pH distribution in logscale')"
      ]
     },
     "execution_count": 49,
     "metadata": {},
     "output_type": "execute_result"
    },
    {
     "data": {
      "image/png": "[encoded data removed]",
      "text/plain": [
       "<Figure size 640x480 with 1 Axes>"
      ]
     },
     "metadata": {},
     "output_type": "display_data"
    }
   ],
   "source": [
    "pH.dropna().hist(log=True)\n",
    "plt.title('pH distribution in logscale')"
   ]
  },
  {
   "cell_type": "code",
   "execution_count": 50,
   "metadata": {},
   "outputs": [
    {
     "name": "stdout",
     "output_type": "stream",
     "text": [
      "6.896747040891989\n",
      "200905\n"
     ]
    }
   ],
   "source": [
    "Temp = affinity['Temp (C)']\n",
    "\n",
    "# Percent of not nan value \n",
    "per = 100*Temp.dropna().shape[0]/Temp.shape[0]\n",
    "print(per)\n",
    "\n",
    "# Number \n",
    "nb = Temp.dropna().shape[0]\n",
    "print(nb)"
   ]
  },
  {
   "cell_type": "code",
   "execution_count": 51,
   "metadata": {},
   "outputs": [
    {
     "data": {
      "text/plain": [
       "array(['37.00 C', '25.00 C', nan, '30.00 C', '22.00 C', '4.00 C',\n",
       "       '28.00 C', '23.00 C', '20.00 C', '21.00 C', '35.00 C', '38.00 C',\n",
       "       '27.00 C', '24.00 C', '40.00 C', '32.00 C', '0.00 C', '55.00 C',\n",
       "       '26.00 C', '36.00 C', '22.50 C', '15.00 C', '34.00 C', '10.00 C',\n",
       "       '16.00 C', '7.70 C', '2.70 C', '3.60 C', '3.50 C', '-70.00 C',\n",
       "       '5.00 C', '18.00 C', '25.50 C', '7.50 C', '80.00 C', '-80.00 C',\n",
       "       '50.00 C', '310.15 C', '293.15 C', '1663.90 C', '1390.75 C',\n",
       "       '1117.60 C', '844.45 C', '571.30 C', '298.15 C', '834.45 C',\n",
       "       '303.15 C', '60.00 C', '42.00 C', '14.00 C', '-248.15 C', '2.00 C',\n",
       "       '11.00 C', '1.00 C', '31.00 C', '43.00 C', '65.00 C', '48.00 C',\n",
       "       '70.00 C'], dtype=object)"
      ]
     },
     "execution_count": 51,
     "metadata": {},
     "output_type": "execute_result"
    }
   ],
   "source": [
    "Temp.unique()"
   ]
  },
  {
   "cell_type": "code",
   "execution_count": 52,
   "metadata": {},
   "outputs": [],
   "source": [
    "Temp = Temp.str.replace(r'[^0-9.]', '', regex=True).str.strip()\n",
    "Temp = pd.to_numeric(Temp, errors= 'coerce')\n",
    "\n",
    "# save into clean affinity\n",
    "clean_affinity['Temp (C)'] = Temp\n"
   ]
  },
  {
   "cell_type": "code",
   "execution_count": 53,
   "metadata": {},
   "outputs": [
    {
     "data": {
      "text/plain": [
       "<Axes: >"
      ]
     },
     "execution_count": 53,
     "metadata": {},
     "output_type": "execute_result"
    },
    {
     "data": {
      "image/png": "[encoded data removed]",
      "text/plain": [
       "<Figure size 640x480 with 1 Axes>"
      ]
     },
     "metadata": {},
     "output_type": "display_data"
    }
   ],
   "source": [
    "Temp.dropna().hist(log=True)"
   ]
  },
  {
   "cell_type": "markdown",
   "metadata": {},
   "source": [
    "## Shared information\n",
    "Check if some index have more than 1 affinity measure / temp or pH"
   ]
  },
  {
   "cell_type": "code",
   "execution_count": 76,
   "metadata": {},
   "outputs": [],
   "source": [
    "commun_pairs= pd.DataFrame(index = affinity.columns, columns=affinity.columns)"
   ]
  },
  {
   "cell_type": "code",
   "execution_count": 77,
   "metadata": {},
   "outputs": [
    {
     "data": {
      "text/html": [
       "<div>\n",
       "<style scoped>\n",
       "    .dataframe tbody tr th:only-of-type {\n",
       "        vertical-align: middle;\n",
       "    }\n",
       "\n",
       "    .dataframe tbody tr th {\n",
       "        vertical-align: top;\n",
       "    }\n",
       "\n",
       "    .dataframe thead th {\n",
       "        text-align: right;\n",
       "    }\n",
       "</style>\n",
       "<table border=\"1\" class=\"dataframe\">\n",
       "  <thead>\n",
       "    <tr style=\"text-align: right;\">\n",
       "      <th></th>\n",
       "      <th>Ki (nM)</th>\n",
       "      <th>IC50 (nM)</th>\n",
       "      <th>Kd (nM)</th>\n",
       "      <th>EC50 (nM)</th>\n",
       "      <th>kon (M-1-s-1)</th>\n",
       "      <th>koff (s-1)</th>\n",
       "      <th>pH</th>\n",
       "      <th>Temp (C)</th>\n",
       "    </tr>\n",
       "  </thead>\n",
       "  <tbody>\n",
       "    <tr>\n",
       "      <th>Ki (nM)</th>\n",
       "      <td>NaN</td>\n",
       "      <td>NaN</td>\n",
       "      <td>NaN</td>\n",
       "      <td>NaN</td>\n",
       "      <td>NaN</td>\n",
       "      <td>NaN</td>\n",
       "      <td>NaN</td>\n",
       "      <td>NaN</td>\n",
       "    </tr>\n",
       "    <tr>\n",
       "      <th>IC50 (nM)</th>\n",
       "      <td>NaN</td>\n",
       "      <td>NaN</td>\n",
       "      <td>NaN</td>\n",
       "      <td>NaN</td>\n",
       "      <td>NaN</td>\n",
       "      <td>NaN</td>\n",
       "      <td>NaN</td>\n",
       "      <td>NaN</td>\n",
       "    </tr>\n",
       "    <tr>\n",
       "      <th>Kd (nM)</th>\n",
       "      <td>NaN</td>\n",
       "      <td>NaN</td>\n",
       "      <td>NaN</td>\n",
       "      <td>NaN</td>\n",
       "      <td>NaN</td>\n",
       "      <td>NaN</td>\n",
       "      <td>NaN</td>\n",
       "      <td>NaN</td>\n",
       "    </tr>\n",
       "    <tr>\n",
       "      <th>EC50 (nM)</th>\n",
       "      <td>NaN</td>\n",
       "      <td>NaN</td>\n",
       "      <td>NaN</td>\n",
       "      <td>NaN</td>\n",
       "      <td>NaN</td>\n",
       "      <td>NaN</td>\n",
       "      <td>NaN</td>\n",
       "      <td>NaN</td>\n",
       "    </tr>\n",
       "    <tr>\n",
       "      <th>kon (M-1-s-1)</th>\n",
       "      <td>NaN</td>\n",
       "      <td>NaN</td>\n",
       "      <td>NaN</td>\n",
       "      <td>NaN</td>\n",
       "      <td>NaN</td>\n",
       "      <td>NaN</td>\n",
       "      <td>NaN</td>\n",
       "      <td>NaN</td>\n",
       "    </tr>\n",
       "    <tr>\n",
       "      <th>koff (s-1)</th>\n",
       "      <td>NaN</td>\n",
       "      <td>NaN</td>\n",
       "      <td>NaN</td>\n",
       "      <td>NaN</td>\n",
       "      <td>NaN</td>\n",
       "      <td>NaN</td>\n",
       "      <td>NaN</td>\n",
       "      <td>NaN</td>\n",
       "    </tr>\n",
       "    <tr>\n",
       "      <th>pH</th>\n",
       "      <td>NaN</td>\n",
       "      <td>NaN</td>\n",
       "      <td>NaN</td>\n",
       "      <td>NaN</td>\n",
       "      <td>NaN</td>\n",
       "      <td>NaN</td>\n",
       "      <td>NaN</td>\n",
       "      <td>NaN</td>\n",
       "    </tr>\n",
       "    <tr>\n",
       "      <th>Temp (C)</th>\n",
       "      <td>NaN</td>\n",
       "      <td>NaN</td>\n",
       "      <td>NaN</td>\n",
       "      <td>NaN</td>\n",
       "      <td>NaN</td>\n",
       "      <td>NaN</td>\n",
       "      <td>NaN</td>\n",
       "      <td>NaN</td>\n",
       "    </tr>\n",
       "  </tbody>\n",
       "</table>\n",
       "</div>"
      ],
      "text/plain": [
       "              Ki (nM) IC50 (nM) Kd (nM) EC50 (nM) kon (M-1-s-1) koff (s-1)  \\\n",
       "Ki (nM)           NaN       NaN     NaN       NaN           NaN        NaN   \n",
       "IC50 (nM)         NaN       NaN     NaN       NaN           NaN        NaN   \n",
       "Kd (nM)           NaN       NaN     NaN       NaN           NaN        NaN   \n",
       "EC50 (nM)         NaN       NaN     NaN       NaN           NaN        NaN   \n",
       "kon (M-1-s-1)     NaN       NaN     NaN       NaN           NaN        NaN   \n",
       "koff (s-1)        NaN       NaN     NaN       NaN           NaN        NaN   \n",
       "pH                NaN       NaN     NaN       NaN           NaN        NaN   \n",
       "Temp (C)          NaN       NaN     NaN       NaN           NaN        NaN   \n",
       "\n",
       "                pH Temp (C)  \n",
       "Ki (nM)        NaN      NaN  \n",
       "IC50 (nM)      NaN      NaN  \n",
       "Kd (nM)        NaN      NaN  \n",
       "EC50 (nM)      NaN      NaN  \n",
       "kon (M-1-s-1)  NaN      NaN  \n",
       "koff (s-1)     NaN      NaN  \n",
       "pH             NaN      NaN  \n",
       "Temp (C)       NaN      NaN  "
      ]
     },
     "execution_count": 77,
     "metadata": {},
     "output_type": "execute_result"
    }
   ],
   "source": [
    "commun_pairs"
   ]
  },
  {
   "cell_type": "code",
   "execution_count": 78,
   "metadata": {},
   "outputs": [
    {
     "data": {
      "text/html": [
       "<div>\n",
       "<style scoped>\n",
       "    .dataframe tbody tr th:only-of-type {\n",
       "        vertical-align: middle;\n",
       "    }\n",
       "\n",
       "    .dataframe tbody tr th {\n",
       "        vertical-align: top;\n",
       "    }\n",
       "\n",
       "    .dataframe thead th {\n",
       "        text-align: right;\n",
       "    }\n",
       "</style>\n",
       "<table border=\"1\" class=\"dataframe\">\n",
       "  <thead>\n",
       "    <tr style=\"text-align: right;\">\n",
       "      <th></th>\n",
       "      <th>Ki (nM)</th>\n",
       "      <th>IC50 (nM)</th>\n",
       "      <th>Kd (nM)</th>\n",
       "      <th>EC50 (nM)</th>\n",
       "      <th>kon (M-1-s-1)</th>\n",
       "      <th>koff (s-1)</th>\n",
       "      <th>pH</th>\n",
       "      <th>Temp (C)</th>\n",
       "    </tr>\n",
       "  </thead>\n",
       "  <tbody>\n",
       "    <tr>\n",
       "      <th>Ki (nM)</th>\n",
       "      <td>NaN</td>\n",
       "      <td>3177</td>\n",
       "      <td>70</td>\n",
       "      <td>970</td>\n",
       "      <td>256</td>\n",
       "      <td>171</td>\n",
       "      <td>38284</td>\n",
       "      <td>33162</td>\n",
       "    </tr>\n",
       "    <tr>\n",
       "      <th>IC50 (nM)</th>\n",
       "      <td>NaN</td>\n",
       "      <td>NaN</td>\n",
       "      <td>218</td>\n",
       "      <td>1532</td>\n",
       "      <td>0</td>\n",
       "      <td>0</td>\n",
       "      <td>167821</td>\n",
       "      <td>152783</td>\n",
       "    </tr>\n",
       "    <tr>\n",
       "      <th>Kd (nM)</th>\n",
       "      <td>NaN</td>\n",
       "      <td>NaN</td>\n",
       "      <td>NaN</td>\n",
       "      <td>11</td>\n",
       "      <td>76</td>\n",
       "      <td>51</td>\n",
       "      <td>4031</td>\n",
       "      <td>2430</td>\n",
       "    </tr>\n",
       "    <tr>\n",
       "      <th>EC50 (nM)</th>\n",
       "      <td>NaN</td>\n",
       "      <td>NaN</td>\n",
       "      <td>NaN</td>\n",
       "      <td>NaN</td>\n",
       "      <td>0</td>\n",
       "      <td>0</td>\n",
       "      <td>7765</td>\n",
       "      <td>15157</td>\n",
       "    </tr>\n",
       "    <tr>\n",
       "      <th>kon (M-1-s-1)</th>\n",
       "      <td>NaN</td>\n",
       "      <td>NaN</td>\n",
       "      <td>NaN</td>\n",
       "      <td>NaN</td>\n",
       "      <td>NaN</td>\n",
       "      <td>246</td>\n",
       "      <td>60</td>\n",
       "      <td>31</td>\n",
       "    </tr>\n",
       "    <tr>\n",
       "      <th>koff (s-1)</th>\n",
       "      <td>NaN</td>\n",
       "      <td>NaN</td>\n",
       "      <td>NaN</td>\n",
       "      <td>NaN</td>\n",
       "      <td>NaN</td>\n",
       "      <td>NaN</td>\n",
       "      <td>72</td>\n",
       "      <td>45</td>\n",
       "    </tr>\n",
       "    <tr>\n",
       "      <th>pH</th>\n",
       "      <td>NaN</td>\n",
       "      <td>NaN</td>\n",
       "      <td>NaN</td>\n",
       "      <td>NaN</td>\n",
       "      <td>NaN</td>\n",
       "      <td>NaN</td>\n",
       "      <td>NaN</td>\n",
       "      <td>129990</td>\n",
       "    </tr>\n",
       "    <tr>\n",
       "      <th>Temp (C)</th>\n",
       "      <td>NaN</td>\n",
       "      <td>NaN</td>\n",
       "      <td>NaN</td>\n",
       "      <td>NaN</td>\n",
       "      <td>NaN</td>\n",
       "      <td>NaN</td>\n",
       "      <td>NaN</td>\n",
       "      <td>NaN</td>\n",
       "    </tr>\n",
       "  </tbody>\n",
       "</table>\n",
       "</div>"
      ],
      "text/plain": [
       "              Ki (nM) IC50 (nM) Kd (nM) EC50 (nM) kon (M-1-s-1) koff (s-1)  \\\n",
       "Ki (nM)           NaN      3177      70       970           256        171   \n",
       "IC50 (nM)         NaN       NaN     218      1532             0          0   \n",
       "Kd (nM)           NaN       NaN     NaN        11            76         51   \n",
       "EC50 (nM)         NaN       NaN     NaN       NaN             0          0   \n",
       "kon (M-1-s-1)     NaN       NaN     NaN       NaN           NaN        246   \n",
       "koff (s-1)        NaN       NaN     NaN       NaN           NaN        NaN   \n",
       "pH                NaN       NaN     NaN       NaN           NaN        NaN   \n",
       "Temp (C)          NaN       NaN     NaN       NaN           NaN        NaN   \n",
       "\n",
       "                   pH Temp (C)  \n",
       "Ki (nM)         38284    33162  \n",
       "IC50 (nM)      167821   152783  \n",
       "Kd (nM)          4031     2430  \n",
       "EC50 (nM)        7765    15157  \n",
       "kon (M-1-s-1)      60       31  \n",
       "koff (s-1)         72       45  \n",
       "pH                NaN   129990  \n",
       "Temp (C)          NaN      NaN  "
      ]
     },
     "execution_count": 78,
     "metadata": {},
     "output_type": "execute_result"
    }
   ],
   "source": [
    "# Pairs data \n",
    "from itertools import combinations\n",
    "\n",
    "for i, j in combinations(clean_affinity.columns, 2) : \n",
    "    commun_pairs.at[i, j]= clean_affinity[[i, j]].dropna().shape[0]\n",
    "\n",
    "commun_pairs"
   ]
  },
  {
   "cell_type": "code",
   "execution_count": 57,
   "metadata": {},
   "outputs": [],
   "source": [
    "# trio data \n",
    "trio = pd.DataFrame()\n",
    "\n",
    "for i, j, k in combinations(clean_affinity.columns, 3) : \n",
    "    nb = clean_affinity[[i, j, k]].dropna().shape[0]\n",
    "    \n",
    "    if nb != 0 : \n",
    "        df = pd.DataFrame([[i, j, k, nb]])\n",
    "        \n",
    "        trio = pd.concat([trio, df])\n",
    "        \n",
    "trio.columns = [1, 2, 3, 'number']"
   ]
  },
  {
   "cell_type": "code",
   "execution_count": 58,
   "metadata": {},
   "outputs": [
    {
     "data": {
      "text/html": [
       "<div>\n",
       "<style scoped>\n",
       "    .dataframe tbody tr th:only-of-type {\n",
       "        vertical-align: middle;\n",
       "    }\n",
       "\n",
       "    .dataframe tbody tr th {\n",
       "        vertical-align: top;\n",
       "    }\n",
       "\n",
       "    .dataframe thead th {\n",
       "        text-align: right;\n",
       "    }\n",
       "</style>\n",
       "<table border=\"1\" class=\"dataframe\">\n",
       "  <thead>\n",
       "    <tr style=\"text-align: right;\">\n",
       "      <th></th>\n",
       "      <th>1</th>\n",
       "      <th>2</th>\n",
       "      <th>3</th>\n",
       "      <th>number</th>\n",
       "    </tr>\n",
       "  </thead>\n",
       "  <tbody>\n",
       "    <tr>\n",
       "      <th>0</th>\n",
       "      <td>Unnamed: 0</td>\n",
       "      <td>Ki (nM)</td>\n",
       "      <td>pH</td>\n",
       "      <td>35680</td>\n",
       "    </tr>\n",
       "    <tr>\n",
       "      <th>0</th>\n",
       "      <td>Unnamed: 0</td>\n",
       "      <td>Ki (nM)</td>\n",
       "      <td>Temp (C)</td>\n",
       "      <td>30922</td>\n",
       "    </tr>\n",
       "    <tr>\n",
       "      <th>0</th>\n",
       "      <td>Unnamed: 0</td>\n",
       "      <td>IC50 (nM)</td>\n",
       "      <td>pH</td>\n",
       "      <td>142522</td>\n",
       "    </tr>\n",
       "    <tr>\n",
       "      <th>0</th>\n",
       "      <td>Unnamed: 0</td>\n",
       "      <td>IC50 (nM)</td>\n",
       "      <td>Temp (C)</td>\n",
       "      <td>129535</td>\n",
       "    </tr>\n",
       "    <tr>\n",
       "      <th>0</th>\n",
       "      <td>Unnamed: 0</td>\n",
       "      <td>EC50 (nM)</td>\n",
       "      <td>Temp (C)</td>\n",
       "      <td>12262</td>\n",
       "    </tr>\n",
       "    <tr>\n",
       "      <th>0</th>\n",
       "      <td>Unnamed: 0</td>\n",
       "      <td>pH</td>\n",
       "      <td>Temp (C)</td>\n",
       "      <td>129990</td>\n",
       "    </tr>\n",
       "    <tr>\n",
       "      <th>0</th>\n",
       "      <td>Ki (nM)</td>\n",
       "      <td>pH</td>\n",
       "      <td>Temp (C)</td>\n",
       "      <td>22243</td>\n",
       "    </tr>\n",
       "    <tr>\n",
       "      <th>0</th>\n",
       "      <td>IC50 (nM)</td>\n",
       "      <td>pH</td>\n",
       "      <td>Temp (C)</td>\n",
       "      <td>84655</td>\n",
       "    </tr>\n",
       "  </tbody>\n",
       "</table>\n",
       "</div>"
      ],
      "text/plain": [
       "            1          2         3  number\n",
       "0  Unnamed: 0    Ki (nM)        pH   35680\n",
       "0  Unnamed: 0    Ki (nM)  Temp (C)   30922\n",
       "0  Unnamed: 0  IC50 (nM)        pH  142522\n",
       "0  Unnamed: 0  IC50 (nM)  Temp (C)  129535\n",
       "0  Unnamed: 0  EC50 (nM)  Temp (C)   12262\n",
       "0  Unnamed: 0         pH  Temp (C)  129990\n",
       "0     Ki (nM)         pH  Temp (C)   22243\n",
       "0   IC50 (nM)         pH  Temp (C)   84655"
      ]
     },
     "execution_count": 58,
     "metadata": {},
     "output_type": "execute_result"
    }
   ],
   "source": [
    "trio[trio['number'] > 10000]"
   ]
  },
  {
   "cell_type": "code",
   "execution_count": 59,
   "metadata": {},
   "outputs": [
    {
     "data": {
      "text/plain": [
       "3009"
      ]
     },
     "execution_count": 59,
     "metadata": {},
     "output_type": "execute_result"
    }
   ],
   "source": [
    "# look if Ki and ICA50 have commun \n",
    "commun_pairs.at['Ki (nM)', 'IC50 (nM)']"
   ]
  },
  {
   "cell_type": "code",
   "execution_count": 60,
   "metadata": {},
   "outputs": [
    {
     "data": {
      "text/plain": [
       "1015"
      ]
     },
     "execution_count": 60,
     "metadata": {},
     "output_type": "execute_result"
    }
   ],
   "source": [
    "# with temp and pH\n",
    "clean_affinity[['Ki (nM)', 'IC50 (nM)', 'Temp (C)', 'pH']].dropna().shape[0]"
   ]
  },
  {
   "cell_type": "code",
   "execution_count": 61,
   "metadata": {},
   "outputs": [
    {
     "data": {
      "text/plain": [
       "1496"
      ]
     },
     "execution_count": 61,
     "metadata": {},
     "output_type": "execute_result"
    }
   ],
   "source": [
    "# with temp only \n",
    "clean_affinity[['Ki (nM)', 'IC50 (nM)', 'Temp (C)']].dropna().shape[0]"
   ]
  },
  {
   "cell_type": "code",
   "execution_count": 62,
   "metadata": {},
   "outputs": [
    {
     "data": {
      "text/plain": [
       "1546"
      ]
     },
     "execution_count": 62,
     "metadata": {},
     "output_type": "execute_result"
    }
   ],
   "source": [
    "# with pH only \n",
    "clean_affinity[['Ki (nM)', 'IC50 (nM)', 'pH']].dropna().shape[0]"
   ]
  },
  {
   "cell_type": "markdown",
   "metadata": {},
   "source": []
  }
 ],
 "metadata": {
  "kernelspec": {
   "display_name": "ada",
   "language": "python",
   "name": "python3"
  },
  "language_info": {
   "codemirror_mode": {
    "name": "ipython",
    "version": 3
   },
   "file_extension": ".py",
   "mimetype": "text/x-python",
   "name": "python",
   "nbconvert_exporter": "python",
   "pygments_lexer": "ipython3",
   "version": "3.12.7"
  }
 },
 "nbformat": 4,
 "nbformat_minor": 2
}
