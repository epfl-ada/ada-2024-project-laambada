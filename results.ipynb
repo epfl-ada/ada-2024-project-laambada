{
 "cells": [
  {
   "cell_type": "code",
   "execution_count": null,
   "metadata": {},
   "outputs": [],
   "source": [
    "%load_ext autoreload \n",
    "%autoreload 2"
   ]
  },
  {
   "cell_type": "markdown",
   "metadata": {},
   "source": [
    "# 0. Loading dataset and libraries\n",
    "\n",
    "**General note:** to make this notebook readable (and runnable), we present here the results, and not the whole process, of our endeavors. This notebook follows the logic of our [data story](https://epfl-ada.github.io/ada-2024-project-laambada/). For implementation details, please refer to scripts and notebooks found in `.\\src`"
   ]
  },
  {
   "cell_type": "markdown",
   "metadata": {},
   "source": [
    "## 0.1 Load libraries"
   ]
  },
  {
   "cell_type": "code",
   "execution_count": 44,
   "metadata": {},
   "outputs": [],
   "source": [
    "import numpy as np\n",
    "from src.scripts.load_and_save import load_data"
   ]
  },
  {
   "cell_type": "markdown",
   "metadata": {},
   "source": [
    "## 0.2 Load data\n",
    "\n",
    "This is a cleaned version of the BindingDB. It contains entries with the family of targets we chose."
   ]
  },
  {
   "cell_type": "code",
   "execution_count": null,
   "metadata": {},
   "outputs": [],
   "source": [
    "df = load_data()\n",
    "df.head()"
   ]
  },
  {
   "cell_type": "markdown",
   "metadata": {},
   "source": [
    "# 1. Data story contents"
   ]
  },
  {
   "cell_type": "markdown",
   "metadata": {},
   "source": [
    "## 1.1 Kinases looking for love\n",
    "This part serves to introduce the targets belonging to the TYROSINE-PROTEIN KINASE HOPSCOTCH family, further refered to as tyrosine kinase family.\n",
    "\n",
    "Previously, we selected the targets belonging to the tyrosine kinase family to conduct our analyses. This choice was primarily motivated by a manageable amount of targets, accompanied by a decent amount of ligands per target, a requirment for ML-based processing."
   ]
  },
  {
   "cell_type": "code",
   "execution_count": 46,
   "metadata": {},
   "outputs": [],
   "source": [
    "from src.utils.embeddings_plots import  reduce_family\n",
    "\n",
    "# Let's reduce the number of targets\n",
    "df['Target Name Detailed'] = df['Target Name']\n",
    "df['Target Name'] =  df['Target Name'].apply( reduce_family)"
   ]
  },
  {
   "cell_type": "markdown",
   "metadata": {},
   "source": [
    "## 1.2 What is a good match?\n",
    "This part serves to motivate our choice of metrics that can be used to characterize a binding."
   ]
  },
  {
   "cell_type": "markdown",
   "metadata": {},
   "source": [
    "### 1.2.1 Metrics\n",
    "We start by exploring some metrics provided by the dataset."
   ]
  },
  {
   "cell_type": "code",
   "execution_count": null,
   "metadata": {},
   "outputs": [],
   "source": [
    "# Usefull metrics \n",
    "metric_percent = {}\n",
    "for col in ['Ki (nM)', 'IC50 (nM)', 'Kd (nM)','kon (M-1-s-1)', 'koff (s-1)', 'EC50 (nM)', 'pH', 'Temp (C)']:\n",
    "    metric_percent[col] = len(df[col].dropna())/len(df)\n",
    "\n",
    "\n",
    "import plotly.express as px\n",
    "x =list(metric_percent.keys())\n",
    "y=list(metric_percent.values())\n",
    "\n",
    "fig = px.bar(x=x, y=y)\n",
    "\n",
    "fig.update_layout(xaxis_title='', yaxis_title='Fraction of Nan')\n",
    "\n",
    "fig.show()\n",
    "\n",
    "fig.write_html('src/data/figures/nan_fraction.html')"
   ]
  },
  {
   "cell_type": "markdown",
   "metadata": {},
   "source": [
    "At this point, we drop `kon (M-1-s-1)`, `koff (s-1)`, `EC50 (nM)` columns, as there is a lot of missing data and these metrics by themselves do not bring enough information about the binding.\n",
    "\n",
    "Both `IC50 (nM)` and `Ki (nM)` provide meaningful information. `Ki (nM)` is more interpretable for our project, as it doesn't depend on specific reaction conditions like `Ki (nM)` does. However, there is much more data for `IC50 (nM)`, so we'll see how we'll handle that. \n",
    "\n",
    "_Side note: BindingDB is drug discovery-oriented, so we expected to see more IC50 metrics_ \n",
    "\n",
    "As for `pH` and `Temp (C)`, we keep them both for later analyses. \n",
    "\n",
    "`Kd (nM)` column doesn't have enough data (even if we calculate it ourselves using `kon (M-1-s-1)` and `koff (s-1)`, so we remove it."
   ]
  },
  {
   "cell_type": "code",
   "execution_count": 48,
   "metadata": {},
   "outputs": [],
   "source": [
    "metrics = ['pKi', 'pIC50'] \n",
    "features = ['pH', 'Temp (C)']"
   ]
  },
  {
   "cell_type": "code",
   "execution_count": 49,
   "metadata": {},
   "outputs": [],
   "source": [
    "for metric in metrics : \n",
    "    df['p' + metric] = np.where(\n",
    "        df[metric] > 0,  # Only apply log10 to positive values\n",
    "        -np.log10(df[metric] * 1e-9),  # Transform to molar and take -log10\n",
    "        np.nan  # Assign NaN for zero or negative values\n",
    "    )"
   ]
  },
  {
   "cell_type": "markdown",
   "metadata": {},
   "source": [
    "Even if `IC50 (nM)` can be less meaningful due to its dependency on essay conditions, it is highly correlated to `Ki (nM)`. One potential explanation is a certain uniformity in experiment conducted on the same target. Therefore, it looks like we can extract meaningfull information about the inhibitory potential from `IC50 (nM)`. "
   ]
  },
  {
   "cell_type": "code",
   "execution_count": null,
   "metadata": {},
   "outputs": [],
   "source": [
    "import plotly.express as px\n",
    "import plotly.graph_objects as go\n",
    "from sklearn.linear_model import LinearRegression\n",
    "\n",
    "df_Ki_IC50 = df.dropna(subset=['pKi', 'pIC50'])\n",
    "\n",
    "# Pearson Correlation\n",
    "pearson_corr = df_Ki_IC50[['pKi', 'pIC50']].corr(method='pearson').iloc[0, 1]\n",
    "\n",
    "# Linear Regression\n",
    "reg = LinearRegression()\n",
    "reg.fit(df_Ki_IC50['pIC50'].values.reshape(-1, 1), df_Ki_IC50['pKi'].values.reshape(-1, 1))\n",
    "df_Ki_IC50['pred_pki'] = reg.predict(df_Ki_IC50['pIC50'].values.reshape(-1, 1))\n",
    "linear_coef = reg.coef_[0][0].round(4)\n",
    "\n",
    "# Line and Scatter Plot\n",
    "fig1 = px.line(df_Ki_IC50, x='pIC50', y='pred_pki')\n",
    "fig1.update_traces(line_color='red')\n",
    "fig2 = px.scatter(df_Ki_IC50, x='pIC50', y='pKi', color='Target Name')\n",
    "fig3 = go.Figure(data=fig1.data + fig2.data)\n",
    "\n",
    "# Adding Annotations\n",
    "fig3.add_annotation(\n",
    "    x=df_Ki_IC50['pIC50'].max()-0.5,\n",
    "    y=df_Ki_IC50['pKi'].min()+0.5,\n",
    "    text=f\"Pearson Corr: {pearson_corr:.2f}<br>Linear Coef: {linear_coef:.2f}\",\n",
    "    showarrow=False,\n",
    "    align=\"right\",\n",
    "    font=dict(size=14, color=\"black\")\n",
    ")\n",
    "\n",
    "# Layout updates\n",
    "fig3.update_layout(\n",
    "    xaxis_title=\"pIC50\",\n",
    "    yaxis_title=\"pKi\"\n",
    ")\n",
    "\n",
    "# Show plot\n",
    "fig3.show()\n",
    "fig3.write_html('src/data/figures/pKi_pIC50.html')"
   ]
  },
  {
   "cell_type": "markdown",
   "metadata": {},
   "source": [
    "### 1.2.1 Chemical caracterization\n",
    "Now we move to the chemical characterization of ligands obtained through RDKit Descriptors."
   ]
  },
  {
   "cell_type": "code",
   "execution_count": 52,
   "metadata": {},
   "outputs": [],
   "source": [
    "properties = ['Ligand MW', 'logP']\t\n",
    "\n",
    "n_metrics = len(metrics)\n",
    "n_properties = len(properties)"
   ]
  },
  {
   "cell_type": "code",
   "execution_count": null,
   "metadata": {},
   "outputs": [],
   "source": [
    "df_ic50 = df.dropna(subset='IC50 (nM)')\n",
    "df_ki = df.dropna(subset='Ki (nM)')\n",
    "\n",
    "def get_metrics_df(df, metric):\n",
    "    return df.dropna(subset=metric)\n",
    "\n",
    "len(df_ic50)"
   ]
  },
  {
   "cell_type": "code",
   "execution_count": null,
   "metadata": {},
   "outputs": [],
   "source": [
    "from src.utils.exploration_and_clean import plot_chemical_property_distributions\n",
    "\n",
    "properties_colors = ['#EB89B5', '#330C73']\n",
    "plot_chemical_property_distributions(df, metrics, chemical_properties=properties, properties_colors=properties_colors, filepath='src/data/figures/chemchar1.html', plot_metrics=True) \n"
   ]
  },
  {
   "cell_type": "code",
   "execution_count": null,
   "metadata": {},
   "outputs": [],
   "source": [
    "df.head()\n",
    "functionnal_groups = [\"Aliphatic OH\", \"Aromatic NH\", \"Ester\", \"Ether\", \"Amide\",\t\"Ketone\", \"Benzene Ring\"]\n",
    "df_functionnal_groups = df[functionnal_groups]\n",
    "df_functionnal_groups.head()"
   ]
  },
  {
   "cell_type": "code",
   "execution_count": 56,
   "metadata": {},
   "outputs": [],
   "source": [
    "counts = df_functionnal_groups.sum()"
   ]
  },
  {
   "cell_type": "code",
   "execution_count": 57,
   "metadata": {},
   "outputs": [],
   "source": [
    "fig = px.histogram(x=functionnal_groups, y=counts)\n",
    "fig.update_layout(xaxis_title= '', yaxis_title='Count')\n",
    "fig.write_html('src/data/figures/functional_groups.html')"
   ]
  },
  {
   "cell_type": "code",
   "execution_count": null,
   "metadata": {},
   "outputs": [],
   "source": [
    "metric = metrics[0]\n",
    "property = properties[0]\n",
    "fig = px.scatter(get_metrics_df(df, metric), x=property, y=metric, marginal_x=\"histogram\", marginal_y=\"histogram\", color='Target Name')\n",
    "fig.update_layout(height=600, width=1200)\n",
    "fig.show()"
   ]
  },
  {
   "cell_type": "code",
   "execution_count": null,
   "metadata": {},
   "outputs": [],
   "source": [
    "metric = metrics[1]\n",
    "property = properties[0]\n",
    "fig = px.scatter(get_metrics_df(df, metric), x=property, y=metric, marginal_x=\"histogram\", marginal_y=\"histogram\", color='Target Name')\n",
    "fig.update_layout(height=600, width=1700)\n",
    "#fig.add_hline(y=1e3, line_dash=\"dash\",row=1, col=1)\n",
    "fig.show()"
   ]
  },
  {
   "cell_type": "code",
   "execution_count": null,
   "metadata": {},
   "outputs": [],
   "source": [
    "metric = metrics[0]\n",
    "property = properties[1]\n",
    "fig = px.scatter(get_metrics_df(df, metric), x=property, y=metric, marginal_x=\"histogram\", marginal_y=\"histogram\", color='Target Name')\n",
    "fig.update_layout(height=600, width=1200)\n",
    "fig.show()"
   ]
  },
  {
   "cell_type": "code",
   "execution_count": null,
   "metadata": {},
   "outputs": [],
   "source": [
    "metric = metrics[1]\n",
    "property = properties[1]\n",
    "fig = px.scatter(get_metrics_df(df, metric), x=property, y=metric, marginal_x=\"histogram\", marginal_y=\"histogram\", color='Target Name')\n",
    "fig.update_layout(height=600, width=1700)\n",
    "fig.show()"
   ]
  },
  {
   "cell_type": "markdown",
   "metadata": {},
   "source": [
    "## 1.3 Match made in heaven\n",
    "This section explores various ways of embedding ligands."
   ]
  },
  {
   "cell_type": "code",
   "execution_count": 62,
   "metadata": {},
   "outputs": [],
   "source": [
    "from src.run_reduction import run_analysis\n",
    "\n",
    "path_RD_df  = 'src/data/embeddings_RDKIT_descriptors.csv.zip'\n",
    "path_Mol2vec_df = 'src/data/embeddings_Mol2Vec.csv.zip'\n",
    "path_Morgan_df = 'src/data/embeddings_Morgan_Fingerprint.csv.zip'\n",
    "path_full_df = 'src/data/embeddings_full.csv.zip'\n"
   ]
  },
  {
   "cell_type": "markdown",
   "metadata": {},
   "source": [
    "### 1.3.1 RDKit Descriptors space\n",
    "In an intuitive approach, we constructed our first \"embedding space\" by putting all RDKit Descriptors together. After some processing and dimensionality reduction, this is what we obtained."
   ]
  },
  {
   "cell_type": "code",
   "execution_count": null,
   "metadata": {},
   "outputs": [],
   "source": [
    "run_analysis(df, path_RD_df, do_umap=True)"
   ]
  },
  {
   "cell_type": "code",
   "execution_count": null,
   "metadata": {},
   "outputs": [],
   "source": [
    "# Let's do more chemical characterization!\n",
    "import random\n",
    "\n",
    "features_of_interest = [\"NumValenceElectrons\", \"ExactMolWt\", \"MolWt\", \"Chi0\", \"LabuteASA\", \"Kappa1\", \"HeavyAtomMolWt\", \"HeavyAtomCount\", \"Chi0v\", \"Chi1\", \"SPS\", \"FractionCSP3\", \"NumSaturatedRings\", \"NumAliphaticRings\", \"BCUT2D_CHGLO\", \"BCUT2D_CHGHI\", \"BCUT2D_LOGPLOW\", \"SlogP_VSA6\", \"SMR_VSA7\", \"NumAromaticCarbocycles\"]\n",
    "colors = [\"#{:06x}\".format(random.randint(0, 0xFFFFFF)) for _ in features_of_interest]\n",
    "\n",
    "df_embeddings = load_data('src/data/embeddings_RDKIT_descriptors.csv.zip')\n",
    "plot_chemical_property_distributions(df, metrics, chemical_properties=features_of_interest[:5], properties_colors=colors[:5], filepath='src/data/chemchar2.html', plot_metrics=False, df_embeddings=df_embeddings) "
   ]
  },
  {
   "cell_type": "markdown",
   "metadata": {},
   "source": [
    "### 1.3.2. [Mol2vec](https://pubs.acs.org/doi/10.1021/acs.jcim.7b00616) embedding space\n",
    "In a quest for a more homogeneous embedding, we tried out Mol2vec. Mol2vec is an unsupervised machine learning approach to learn vector representations of molecular substructures. Compounds are encoded as vectors by summing the vectors of the individual substructures. The direction of substructure vectors created by Mol2vec provides information about chemically related substructures. "
   ]
  },
  {
   "cell_type": "code",
   "execution_count": null,
   "metadata": {},
   "outputs": [],
   "source": [
    "run_analysis(df, path_Mol2vec_df, do_umap=True)"
   ]
  },
  {
   "cell_type": "markdown",
   "metadata": {},
   "source": [
    "### 1.3.3. Morgan fingerprints space\n",
    "We next interrogated Morgan fingerprints, a type of molecular fingerprints. They are based on the idea of transforming local structural information of a molecule into a fixed-length bit string. This representation captures information about the molecular structure in a way that is useful for comparing molecules or identifying structural similarity."
   ]
  },
  {
   "cell_type": "code",
   "execution_count": null,
   "metadata": {},
   "outputs": [],
   "source": [
    "run_analysis(df, path_Morgan_df, do_umap=True)\n"
   ]
  },
  {
   "cell_type": "markdown",
   "metadata": {},
   "source": [
    "### 1.3.4. Combined embeddings\n",
    "Finally, we combine all three embeddings tested until that."
   ]
  },
  {
   "cell_type": "code",
   "execution_count": null,
   "metadata": {},
   "outputs": [],
   "source": [
    "run_analysis(df, path_full_df, do_umap=True)"
   ]
  }
 ],
 "metadata": {
  "kernelspec": {
   "display_name": "ada",
   "language": "python",
   "name": "python3"
  },
  "language_info": {
   "codemirror_mode": {
    "name": "ipython",
    "version": 3
   },
   "file_extension": ".py",
   "mimetype": "text/x-python",
   "name": "python",
   "nbconvert_exporter": "python",
   "pygments_lexer": "ipython3",
   "version": "3.11.10"
  }
 },
 "nbformat": 4,
 "nbformat_minor": 2
}
