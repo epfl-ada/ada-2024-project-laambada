{
 "cells": [
  {
   "cell_type": "code",
   "execution_count": null,
   "metadata": {},
   "outputs": [],
   "source": [
    "%load_ext autoreload \n",
    "%autoreload 2"
   ]
  },
  {
   "cell_type": "markdown",
   "metadata": {},
   "source": [
    "# 0. Loading dataset and libraries\n",
    "\n",
    "**General note:** to make this notebook readable (and runnable), we present here the results, and not the whole process, of our endeavors. This notebook follows the logic of our [data story](https://epfl-ada.github.io/ada-2024-project-laambada/). For implementation details, please refer to scripts and notebooks found in `.\\src`"
   ]
  },
  {
   "cell_type": "markdown",
   "metadata": {},
   "source": [
    "## 0.1 Load libraries"
   ]
  },
  {
   "cell_type": "code",
   "execution_count": 82,
   "metadata": {},
   "outputs": [],
   "source": [
    "import numpy as np\n",
    "import pandas as pd\n",
    "from src.scripts.load_and_save import load_data"
   ]
  },
  {
   "cell_type": "markdown",
   "metadata": {},
   "source": [
    "## 0.2 Load data\n",
    "\n",
    "This is a cleaned version of the BindingDB. It contains entries with the family of targets we chose."
   ]
  },
  {
   "cell_type": "code",
   "execution_count": 83,
   "metadata": {},
   "outputs": [
    {
     "name": "stderr",
     "output_type": "stream",
     "text": [
      "c:\\Users\\maudd\\Coding\\MA3\\Ada\\new\\ada-2024-project-laambada\\src\\scripts\\load_and_save.py:17: DtypeWarning:\n",
      "\n",
      "Columns (17,20,21,45,46,47) have mixed types. Specify dtype option on import or set low_memory=False.\n",
      "\n"
     ]
    },
    {
     "data": {
      "text/html": [
       "<div>\n",
       "<style scoped>\n",
       "    .dataframe tbody tr th:only-of-type {\n",
       "        vertical-align: middle;\n",
       "    }\n",
       "\n",
       "    .dataframe tbody tr th {\n",
       "        vertical-align: top;\n",
       "    }\n",
       "\n",
       "    .dataframe thead th {\n",
       "        text-align: right;\n",
       "    }\n",
       "</style>\n",
       "<table border=\"1\" class=\"dataframe\">\n",
       "  <thead>\n",
       "    <tr style=\"text-align: right;\">\n",
       "      <th></th>\n",
       "      <th>BindingDB Reactant_set_id</th>\n",
       "      <th>Ligand SMILES</th>\n",
       "      <th>Ligand InChI</th>\n",
       "      <th>Ligand InChI Key</th>\n",
       "      <th>BindingDB MonomerID</th>\n",
       "      <th>BindingDB Ligand Name</th>\n",
       "      <th>Target Name</th>\n",
       "      <th>Target Source Organism According to Curator or DataSource</th>\n",
       "      <th>Ki (nM)</th>\n",
       "      <th>IC50 (nM)</th>\n",
       "      <th>...</th>\n",
       "      <th>Charge</th>\n",
       "      <th>Aliphatic OH</th>\n",
       "      <th>Aromatic NH</th>\n",
       "      <th>Ester</th>\n",
       "      <th>Ether</th>\n",
       "      <th>Amide</th>\n",
       "      <th>Ketone</th>\n",
       "      <th>Benzene Ring</th>\n",
       "      <th>pIC50</th>\n",
       "      <th>pKi</th>\n",
       "    </tr>\n",
       "  </thead>\n",
       "  <tbody>\n",
       "    <tr>\n",
       "      <th>0</th>\n",
       "      <td>2880</td>\n",
       "      <td>Cn1ncc2c(cccc12)-c1cccn2nc(Nc3ccc4CCN(CCc4c3)C...</td>\n",
       "      <td>InChI=1S/C29H31N7O2/c1-29(2,3)38-28(37)35-15-1...</td>\n",
       "      <td>MAZKPYXDQCNDAZ-UHFFFAOYSA-N</td>\n",
       "      <td>2013</td>\n",
       "      <td>US8501936, 298::US8501936, 300</td>\n",
       "      <td>Tyrosine-protein kinase JAK2</td>\n",
       "      <td>Homo sapiens</td>\n",
       "      <td>0.24</td>\n",
       "      <td>NaN</td>\n",
       "      <td>...</td>\n",
       "      <td>0</td>\n",
       "      <td>0</td>\n",
       "      <td>0</td>\n",
       "      <td>0</td>\n",
       "      <td>1</td>\n",
       "      <td>1</td>\n",
       "      <td>0</td>\n",
       "      <td>2</td>\n",
       "      <td>NaN</td>\n",
       "      <td>9.619789</td>\n",
       "    </tr>\n",
       "    <tr>\n",
       "      <th>1</th>\n",
       "      <td>2953</td>\n",
       "      <td>Cn1ncc2c(cccc12)-c1cccn2nc(Nc3ccc4CCN(CCc4c3)C...</td>\n",
       "      <td>InChI=1S/C29H31N7O2/c1-29(2,3)38-28(37)35-15-1...</td>\n",
       "      <td>MAZKPYXDQCNDAZ-UHFFFAOYSA-N</td>\n",
       "      <td>2013</td>\n",
       "      <td>US8501936, 298::US8501936, 300</td>\n",
       "      <td>Tyrosine-protein kinase JAK3</td>\n",
       "      <td>Homo sapiens</td>\n",
       "      <td>0.25</td>\n",
       "      <td>NaN</td>\n",
       "      <td>...</td>\n",
       "      <td>0</td>\n",
       "      <td>0</td>\n",
       "      <td>0</td>\n",
       "      <td>0</td>\n",
       "      <td>1</td>\n",
       "      <td>1</td>\n",
       "      <td>0</td>\n",
       "      <td>2</td>\n",
       "      <td>NaN</td>\n",
       "      <td>9.602060</td>\n",
       "    </tr>\n",
       "    <tr>\n",
       "      <th>2</th>\n",
       "      <td>3039</td>\n",
       "      <td>Cn1ncc2c(cccc12)-c1cccn2nc(Nc3ccc4CCN(CCc4c3)C...</td>\n",
       "      <td>InChI=1S/C29H31N7O2/c1-29(2,3)38-28(37)35-15-1...</td>\n",
       "      <td>MAZKPYXDQCNDAZ-UHFFFAOYSA-N</td>\n",
       "      <td>2013</td>\n",
       "      <td>US8501936, 298::US8501936, 300</td>\n",
       "      <td>Tyrosine-protein kinase JAK2</td>\n",
       "      <td>Homo sapiens</td>\n",
       "      <td>0.41</td>\n",
       "      <td>NaN</td>\n",
       "      <td>...</td>\n",
       "      <td>0</td>\n",
       "      <td>0</td>\n",
       "      <td>0</td>\n",
       "      <td>0</td>\n",
       "      <td>1</td>\n",
       "      <td>1</td>\n",
       "      <td>0</td>\n",
       "      <td>2</td>\n",
       "      <td>NaN</td>\n",
       "      <td>9.387216</td>\n",
       "    </tr>\n",
       "    <tr>\n",
       "      <th>3</th>\n",
       "      <td>3041</td>\n",
       "      <td>CS(=O)(=O)c1ccc(cc1)C(=C)n1nc(NC(=O)Nc2ccc(cc2...</td>\n",
       "      <td>InChI=1S/C24H27N7O3S/c1-4-22-27-23(29-31(22)17...</td>\n",
       "      <td>IMNDRGLFDWUUKR-UHFFFAOYSA-N</td>\n",
       "      <td>2061</td>\n",
       "      <td>US8501936, 90</td>\n",
       "      <td>Tyrosine-protein kinase JAK2</td>\n",
       "      <td>Homo sapiens</td>\n",
       "      <td>0.80</td>\n",
       "      <td>NaN</td>\n",
       "      <td>...</td>\n",
       "      <td>0</td>\n",
       "      <td>0</td>\n",
       "      <td>0</td>\n",
       "      <td>0</td>\n",
       "      <td>0</td>\n",
       "      <td>2</td>\n",
       "      <td>0</td>\n",
       "      <td>2</td>\n",
       "      <td>NaN</td>\n",
       "      <td>9.096910</td>\n",
       "    </tr>\n",
       "    <tr>\n",
       "      <th>4</th>\n",
       "      <td>3072</td>\n",
       "      <td>CS(=O)(=O)c1ccc(cc1)C(=C)n1nc(NC(=O)Nc2ccc(cc2...</td>\n",
       "      <td>InChI=1S/C24H27N7O3S/c1-4-22-27-23(29-31(22)17...</td>\n",
       "      <td>IMNDRGLFDWUUKR-UHFFFAOYSA-N</td>\n",
       "      <td>2061</td>\n",
       "      <td>US8501936, 90</td>\n",
       "      <td>Tyrosine-protein kinase JAK3</td>\n",
       "      <td>Homo sapiens</td>\n",
       "      <td>0.99</td>\n",
       "      <td>NaN</td>\n",
       "      <td>...</td>\n",
       "      <td>0</td>\n",
       "      <td>0</td>\n",
       "      <td>0</td>\n",
       "      <td>0</td>\n",
       "      <td>0</td>\n",
       "      <td>2</td>\n",
       "      <td>0</td>\n",
       "      <td>2</td>\n",
       "      <td>NaN</td>\n",
       "      <td>9.004365</td>\n",
       "    </tr>\n",
       "  </tbody>\n",
       "</table>\n",
       "<p>5 rows × 63 columns</p>\n",
       "</div>"
      ],
      "text/plain": [
       "   BindingDB Reactant_set_id  \\\n",
       "0                       2880   \n",
       "1                       2953   \n",
       "2                       3039   \n",
       "3                       3041   \n",
       "4                       3072   \n",
       "\n",
       "                                       Ligand SMILES  \\\n",
       "0  Cn1ncc2c(cccc12)-c1cccn2nc(Nc3ccc4CCN(CCc4c3)C...   \n",
       "1  Cn1ncc2c(cccc12)-c1cccn2nc(Nc3ccc4CCN(CCc4c3)C...   \n",
       "2  Cn1ncc2c(cccc12)-c1cccn2nc(Nc3ccc4CCN(CCc4c3)C...   \n",
       "3  CS(=O)(=O)c1ccc(cc1)C(=C)n1nc(NC(=O)Nc2ccc(cc2...   \n",
       "4  CS(=O)(=O)c1ccc(cc1)C(=C)n1nc(NC(=O)Nc2ccc(cc2...   \n",
       "\n",
       "                                        Ligand InChI  \\\n",
       "0  InChI=1S/C29H31N7O2/c1-29(2,3)38-28(37)35-15-1...   \n",
       "1  InChI=1S/C29H31N7O2/c1-29(2,3)38-28(37)35-15-1...   \n",
       "2  InChI=1S/C29H31N7O2/c1-29(2,3)38-28(37)35-15-1...   \n",
       "3  InChI=1S/C24H27N7O3S/c1-4-22-27-23(29-31(22)17...   \n",
       "4  InChI=1S/C24H27N7O3S/c1-4-22-27-23(29-31(22)17...   \n",
       "\n",
       "              Ligand InChI Key  BindingDB MonomerID  \\\n",
       "0  MAZKPYXDQCNDAZ-UHFFFAOYSA-N                 2013   \n",
       "1  MAZKPYXDQCNDAZ-UHFFFAOYSA-N                 2013   \n",
       "2  MAZKPYXDQCNDAZ-UHFFFAOYSA-N                 2013   \n",
       "3  IMNDRGLFDWUUKR-UHFFFAOYSA-N                 2061   \n",
       "4  IMNDRGLFDWUUKR-UHFFFAOYSA-N                 2061   \n",
       "\n",
       "            BindingDB Ligand Name                   Target Name  \\\n",
       "0  US8501936, 298::US8501936, 300  Tyrosine-protein kinase JAK2   \n",
       "1  US8501936, 298::US8501936, 300  Tyrosine-protein kinase JAK3   \n",
       "2  US8501936, 298::US8501936, 300  Tyrosine-protein kinase JAK2   \n",
       "3                   US8501936, 90  Tyrosine-protein kinase JAK2   \n",
       "4                   US8501936, 90  Tyrosine-protein kinase JAK3   \n",
       "\n",
       "  Target Source Organism According to Curator or DataSource  Ki (nM)  \\\n",
       "0                                       Homo sapiens            0.24   \n",
       "1                                       Homo sapiens            0.25   \n",
       "2                                       Homo sapiens            0.41   \n",
       "3                                       Homo sapiens            0.80   \n",
       "4                                       Homo sapiens            0.99   \n",
       "\n",
       "   IC50 (nM)  ...  Charge  Aliphatic OH  Aromatic NH  Ester  Ether  Amide  \\\n",
       "0        NaN  ...       0             0            0      0      1      1   \n",
       "1        NaN  ...       0             0            0      0      1      1   \n",
       "2        NaN  ...       0             0            0      0      1      1   \n",
       "3        NaN  ...       0             0            0      0      0      2   \n",
       "4        NaN  ...       0             0            0      0      0      2   \n",
       "\n",
       "  Ketone Benzene Ring pIC50       pKi  \n",
       "0      0            2   NaN  9.619789  \n",
       "1      0            2   NaN  9.602060  \n",
       "2      0            2   NaN  9.387216  \n",
       "3      0            2   NaN  9.096910  \n",
       "4      0            2   NaN  9.004365  \n",
       "\n",
       "[5 rows x 63 columns]"
      ]
     },
     "execution_count": 83,
     "metadata": {},
     "output_type": "execute_result"
    }
   ],
   "source": [
    "df = load_data()\n",
    "df.head()"
   ]
  },
  {
   "cell_type": "markdown",
   "metadata": {},
   "source": [
    "# 1. Data story contents"
   ]
  },
  {
   "cell_type": "markdown",
   "metadata": {},
   "source": [
    "## 1.1 Kinases looking for love\n",
    "This part serves to introduce the targets belonging to the TYROSINE-PROTEIN KINASE HOPSCOTCH family, further refered to as tyrosine kinase family.\n",
    "\n",
    "Previously, we selected the targets belonging to the tyrosine kinase family to conduct our analyses. This choice was primarily motivated by a manageable amount of targets, accompanied by a decent amount of ligands per target, a requirment for ML-based processing."
   ]
  },
  {
   "cell_type": "code",
   "execution_count": 84,
   "metadata": {},
   "outputs": [],
   "source": [
    "from src.utils.embeddings_plots import  reduce_family\n",
    "\n",
    "# Let's reduce the number of targets\n",
    "df['Target Name Detailed'] = df['Target Name']\n",
    "df['Target Name'] =  df['Target Name'].apply( reduce_family)"
   ]
  },
  {
   "cell_type": "markdown",
   "metadata": {},
   "source": [
    "## 1.2 What is a good match?\n",
    "This part serves to motivate our choice of metrics that can be used to characterize a binding."
   ]
  },
  {
   "cell_type": "markdown",
   "metadata": {},
   "source": [
    "### 1.2.1 Metrics\n",
    "We start by exploring some metrics provided by the dataset."
   ]
  },
  {
   "cell_type": "code",
   "execution_count": 85,
   "metadata": {},
   "outputs": [
    {
     "data": {
      "application/vnd.plotly.v1+json": {
       "config": {
        "plotlyServerURL": "https://plot.ly"
       },
       "data": [
        {
         "alignmentgroup": "True",
         "hovertemplate": "x=%{x}<br>y=%{y}<extra></extra>",
         "legendgroup": "",
         "marker": {
          "color": "#636efa",
          "pattern": {
           "shape": ""
          }
         },
         "name": "",
         "offsetgroup": "",
         "orientation": "v",
         "showlegend": false,
         "textposition": "auto",
         "type": "bar",
         "x": [
          "Ki (nM)",
          "IC50 (nM)",
          "Kd (nM)",
          "kon (M-1-s-1)",
          "koff (s-1)",
          "EC50 (nM)",
          "pH",
          "Temp (C)"
         ],
         "xaxis": "x",
         "y": [
          0.19336398944323432,
          0.4820730906199219,
          0.03932279961737487,
          0.00013829824015489404,
          0.00013829824015489404,
          0.09436549919902269,
          0.37776164298309306,
          0.41620855374615356
         ],
         "yaxis": "y"
        }
       ],
       "layout": {
        "barmode": "relative",
        "legend": {
         "tracegroupgap": 0
        },
        "margin": {
         "t": 60
        },
        "template": {
         "data": {
          "bar": [
           {
            "error_x": {
             "color": "#2a3f5f"
            },
            "error_y": {
             "color": "#2a3f5f"
            },
            "marker": {
             "line": {
              "color": "#E5ECF6",
              "width": 0.5
             },
             "pattern": {
              "fillmode": "overlay",
              "size": 10,
              "solidity": 0.2
             }
            },
            "type": "bar"
           }
          ],
          "barpolar": [
           {
            "marker": {
             "line": {
              "color": "#E5ECF6",
              "width": 0.5
             },
             "pattern": {
              "fillmode": "overlay",
              "size": 10,
              "solidity": 0.2
             }
            },
            "type": "barpolar"
           }
          ],
          "carpet": [
           {
            "aaxis": {
             "endlinecolor": "#2a3f5f",
             "gridcolor": "white",
             "linecolor": "white",
             "minorgridcolor": "white",
             "startlinecolor": "#2a3f5f"
            },
            "baxis": {
             "endlinecolor": "#2a3f5f",
             "gridcolor": "white",
             "linecolor": "white",
             "minorgridcolor": "white",
             "startlinecolor": "#2a3f5f"
            },
            "type": "carpet"
           }
          ],
          "choropleth": [
           {
            "colorbar": {
             "outlinewidth": 0,
             "ticks": ""
            },
            "type": "choropleth"
           }
          ],
          "contour": [
           {
            "colorbar": {
             "outlinewidth": 0,
             "ticks": ""
            },
            "colorscale": [
             [
              0,
              "#0d0887"
             ],
             [
              0.1111111111111111,
              "#46039f"
             ],
             [
              0.2222222222222222,
              "#7201a8"
             ],
             [
              0.3333333333333333,
              "#9c179e"
             ],
             [
              0.4444444444444444,
              "#bd3786"
             ],
             [
              0.5555555555555556,
              "#d8576b"
             ],
             [
              0.6666666666666666,
              "#ed7953"
             ],
             [
              0.7777777777777778,
              "#fb9f3a"
             ],
             [
              0.8888888888888888,
              "#fdca26"
             ],
             [
              1,
              "#f0f921"
             ]
            ],
            "type": "contour"
           }
          ],
          "contourcarpet": [
           {
            "colorbar": {
             "outlinewidth": 0,
             "ticks": ""
            },
            "type": "contourcarpet"
           }
          ],
          "heatmap": [
           {
            "colorbar": {
             "outlinewidth": 0,
             "ticks": ""
            },
            "colorscale": [
             [
              0,
              "#0d0887"
             ],
             [
              0.1111111111111111,
              "#46039f"
             ],
             [
              0.2222222222222222,
              "#7201a8"
             ],
             [
              0.3333333333333333,
              "#9c179e"
             ],
             [
              0.4444444444444444,
              "#bd3786"
             ],
             [
              0.5555555555555556,
              "#d8576b"
             ],
             [
              0.6666666666666666,
              "#ed7953"
             ],
             [
              0.7777777777777778,
              "#fb9f3a"
             ],
             [
              0.8888888888888888,
              "#fdca26"
             ],
             [
              1,
              "#f0f921"
             ]
            ],
            "type": "heatmap"
           }
          ],
          "heatmapgl": [
           {
            "colorbar": {
             "outlinewidth": 0,
             "ticks": ""
            },
            "colorscale": [
             [
              0,
              "#0d0887"
             ],
             [
              0.1111111111111111,
              "#46039f"
             ],
             [
              0.2222222222222222,
              "#7201a8"
             ],
             [
              0.3333333333333333,
              "#9c179e"
             ],
             [
              0.4444444444444444,
              "#bd3786"
             ],
             [
              0.5555555555555556,
              "#d8576b"
             ],
             [
              0.6666666666666666,
              "#ed7953"
             ],
             [
              0.7777777777777778,
              "#fb9f3a"
             ],
             [
              0.8888888888888888,
              "#fdca26"
             ],
             [
              1,
              "#f0f921"
             ]
            ],
            "type": "heatmapgl"
           }
          ],
          "histogram": [
           {
            "marker": {
             "pattern": {
              "fillmode": "overlay",
              "size": 10,
              "solidity": 0.2
             }
            },
            "type": "histogram"
           }
          ],
          "histogram2d": [
           {
            "colorbar": {
             "outlinewidth": 0,
             "ticks": ""
            },
            "colorscale": [
             [
              0,
              "#0d0887"
             ],
             [
              0.1111111111111111,
              "#46039f"
             ],
             [
              0.2222222222222222,
              "#7201a8"
             ],
             [
              0.3333333333333333,
              "#9c179e"
             ],
             [
              0.4444444444444444,
              "#bd3786"
             ],
             [
              0.5555555555555556,
              "#d8576b"
             ],
             [
              0.6666666666666666,
              "#ed7953"
             ],
             [
              0.7777777777777778,
              "#fb9f3a"
             ],
             [
              0.8888888888888888,
              "#fdca26"
             ],
             [
              1,
              "#f0f921"
             ]
            ],
            "type": "histogram2d"
           }
          ],
          "histogram2dcontour": [
           {
            "colorbar": {
             "outlinewidth": 0,
             "ticks": ""
            },
            "colorscale": [
             [
              0,
              "#0d0887"
             ],
             [
              0.1111111111111111,
              "#46039f"
             ],
             [
              0.2222222222222222,
              "#7201a8"
             ],
             [
              0.3333333333333333,
              "#9c179e"
             ],
             [
              0.4444444444444444,
              "#bd3786"
             ],
             [
              0.5555555555555556,
              "#d8576b"
             ],
             [
              0.6666666666666666,
              "#ed7953"
             ],
             [
              0.7777777777777778,
              "#fb9f3a"
             ],
             [
              0.8888888888888888,
              "#fdca26"
             ],
             [
              1,
              "#f0f921"
             ]
            ],
            "type": "histogram2dcontour"
           }
          ],
          "mesh3d": [
           {
            "colorbar": {
             "outlinewidth": 0,
             "ticks": ""
            },
            "type": "mesh3d"
           }
          ],
          "parcoords": [
           {
            "line": {
             "colorbar": {
              "outlinewidth": 0,
              "ticks": ""
             }
            },
            "type": "parcoords"
           }
          ],
          "pie": [
           {
            "automargin": true,
            "type": "pie"
           }
          ],
          "scatter": [
           {
            "fillpattern": {
             "fillmode": "overlay",
             "size": 10,
             "solidity": 0.2
            },
            "type": "scatter"
           }
          ],
          "scatter3d": [
           {
            "line": {
             "colorbar": {
              "outlinewidth": 0,
              "ticks": ""
             }
            },
            "marker": {
             "colorbar": {
              "outlinewidth": 0,
              "ticks": ""
             }
            },
            "type": "scatter3d"
           }
          ],
          "scattercarpet": [
           {
            "marker": {
             "colorbar": {
              "outlinewidth": 0,
              "ticks": ""
             }
            },
            "type": "scattercarpet"
           }
          ],
          "scattergeo": [
           {
            "marker": {
             "colorbar": {
              "outlinewidth": 0,
              "ticks": ""
             }
            },
            "type": "scattergeo"
           }
          ],
          "scattergl": [
           {
            "marker": {
             "colorbar": {
              "outlinewidth": 0,
              "ticks": ""
             }
            },
            "type": "scattergl"
           }
          ],
          "scattermapbox": [
           {
            "marker": {
             "colorbar": {
              "outlinewidth": 0,
              "ticks": ""
             }
            },
            "type": "scattermapbox"
           }
          ],
          "scatterpolar": [
           {
            "marker": {
             "colorbar": {
              "outlinewidth": 0,
              "ticks": ""
             }
            },
            "type": "scatterpolar"
           }
          ],
          "scatterpolargl": [
           {
            "marker": {
             "colorbar": {
              "outlinewidth": 0,
              "ticks": ""
             }
            },
            "type": "scatterpolargl"
           }
          ],
          "scatterternary": [
           {
            "marker": {
             "colorbar": {
              "outlinewidth": 0,
              "ticks": ""
             }
            },
            "type": "scatterternary"
           }
          ],
          "surface": [
           {
            "colorbar": {
             "outlinewidth": 0,
             "ticks": ""
            },
            "colorscale": [
             [
              0,
              "#0d0887"
             ],
             [
              0.1111111111111111,
              "#46039f"
             ],
             [
              0.2222222222222222,
              "#7201a8"
             ],
             [
              0.3333333333333333,
              "#9c179e"
             ],
             [
              0.4444444444444444,
              "#bd3786"
             ],
             [
              0.5555555555555556,
              "#d8576b"
             ],
             [
              0.6666666666666666,
              "#ed7953"
             ],
             [
              0.7777777777777778,
              "#fb9f3a"
             ],
             [
              0.8888888888888888,
              "#fdca26"
             ],
             [
              1,
              "#f0f921"
             ]
            ],
            "type": "surface"
           }
          ],
          "table": [
           {
            "cells": {
             "fill": {
              "color": "#EBF0F8"
             },
             "line": {
              "color": "white"
             }
            },
            "header": {
             "fill": {
              "color": "#C8D4E3"
             },
             "line": {
              "color": "white"
             }
            },
            "type": "table"
           }
          ]
         },
         "layout": {
          "annotationdefaults": {
           "arrowcolor": "#2a3f5f",
           "arrowhead": 0,
           "arrowwidth": 1
          },
          "autotypenumbers": "strict",
          "coloraxis": {
           "colorbar": {
            "outlinewidth": 0,
            "ticks": ""
           }
          },
          "colorscale": {
           "diverging": [
            [
             0,
             "#8e0152"
            ],
            [
             0.1,
             "#c51b7d"
            ],
            [
             0.2,
             "#de77ae"
            ],
            [
             0.3,
             "#f1b6da"
            ],
            [
             0.4,
             "#fde0ef"
            ],
            [
             0.5,
             "#f7f7f7"
            ],
            [
             0.6,
             "#e6f5d0"
            ],
            [
             0.7,
             "#b8e186"
            ],
            [
             0.8,
             "#7fbc41"
            ],
            [
             0.9,
             "#4d9221"
            ],
            [
             1,
             "#276419"
            ]
           ],
           "sequential": [
            [
             0,
             "#0d0887"
            ],
            [
             0.1111111111111111,
             "#46039f"
            ],
            [
             0.2222222222222222,
             "#7201a8"
            ],
            [
             0.3333333333333333,
             "#9c179e"
            ],
            [
             0.4444444444444444,
             "#bd3786"
            ],
            [
             0.5555555555555556,
             "#d8576b"
            ],
            [
             0.6666666666666666,
             "#ed7953"
            ],
            [
             0.7777777777777778,
             "#fb9f3a"
            ],
            [
             0.8888888888888888,
             "#fdca26"
            ],
            [
             1,
             "#f0f921"
            ]
           ],
           "sequentialminus": [
            [
             0,
             "#0d0887"
            ],
            [
             0.1111111111111111,
             "#46039f"
            ],
            [
             0.2222222222222222,
             "#7201a8"
            ],
            [
             0.3333333333333333,
             "#9c179e"
            ],
            [
             0.4444444444444444,
             "#bd3786"
            ],
            [
             0.5555555555555556,
             "#d8576b"
            ],
            [
             0.6666666666666666,
             "#ed7953"
            ],
            [
             0.7777777777777778,
             "#fb9f3a"
            ],
            [
             0.8888888888888888,
             "#fdca26"
            ],
            [
             1,
             "#f0f921"
            ]
           ]
          },
          "colorway": [
           "#636efa",
           "#EF553B",
           "#00cc96",
           "#ab63fa",
           "#FFA15A",
           "#19d3f3",
           "#FF6692",
           "#B6E880",
           "#FF97FF",
           "#FECB52"
          ],
          "font": {
           "color": "#2a3f5f"
          },
          "geo": {
           "bgcolor": "white",
           "lakecolor": "white",
           "landcolor": "#E5ECF6",
           "showlakes": true,
           "showland": true,
           "subunitcolor": "white"
          },
          "hoverlabel": {
           "align": "left"
          },
          "hovermode": "closest",
          "mapbox": {
           "style": "light"
          },
          "paper_bgcolor": "white",
          "plot_bgcolor": "#E5ECF6",
          "polar": {
           "angularaxis": {
            "gridcolor": "white",
            "linecolor": "white",
            "ticks": ""
           },
           "bgcolor": "#E5ECF6",
           "radialaxis": {
            "gridcolor": "white",
            "linecolor": "white",
            "ticks": ""
           }
          },
          "scene": {
           "xaxis": {
            "backgroundcolor": "#E5ECF6",
            "gridcolor": "white",
            "gridwidth": 2,
            "linecolor": "white",
            "showbackground": true,
            "ticks": "",
            "zerolinecolor": "white"
           },
           "yaxis": {
            "backgroundcolor": "#E5ECF6",
            "gridcolor": "white",
            "gridwidth": 2,
            "linecolor": "white",
            "showbackground": true,
            "ticks": "",
            "zerolinecolor": "white"
           },
           "zaxis": {
            "backgroundcolor": "#E5ECF6",
            "gridcolor": "white",
            "gridwidth": 2,
            "linecolor": "white",
            "showbackground": true,
            "ticks": "",
            "zerolinecolor": "white"
           }
          },
          "shapedefaults": {
           "line": {
            "color": "#2a3f5f"
           }
          },
          "ternary": {
           "aaxis": {
            "gridcolor": "white",
            "linecolor": "white",
            "ticks": ""
           },
           "baxis": {
            "gridcolor": "white",
            "linecolor": "white",
            "ticks": ""
           },
           "bgcolor": "#E5ECF6",
           "caxis": {
            "gridcolor": "white",
            "linecolor": "white",
            "ticks": ""
           }
          },
          "title": {
           "x": 0.05
          },
          "xaxis": {
           "automargin": true,
           "gridcolor": "white",
           "linecolor": "white",
           "ticks": "",
           "title": {
            "standoff": 15
           },
           "zerolinecolor": "white",
           "zerolinewidth": 2
          },
          "yaxis": {
           "automargin": true,
           "gridcolor": "white",
           "linecolor": "white",
           "ticks": "",
           "title": {
            "standoff": 15
           },
           "zerolinecolor": "white",
           "zerolinewidth": 2
          }
         }
        },
        "xaxis": {
         "anchor": "y",
         "domain": [
          0,
          1
         ],
         "title": {
          "text": ""
         }
        },
        "yaxis": {
         "anchor": "x",
         "domain": [
          0,
          1
         ],
         "title": {
          "text": "Fraction of Nan"
         }
        }
       }
      }
     },
     "metadata": {},
     "output_type": "display_data"
    }
   ],
   "source": [
    "# Usefull metrics \n",
    "metric_percent = {}\n",
    "for col in ['Ki (nM)', 'IC50 (nM)', 'Kd (nM)','kon (M-1-s-1)', 'koff (s-1)', 'EC50 (nM)', 'pH', 'Temp (C)']:\n",
    "    metric_percent[col] = len(df[col].dropna())/len(df)\n",
    "\n",
    "\n",
    "import plotly.express as px\n",
    "\n",
    "x =list(metric_percent.keys())\n",
    "y=list(metric_percent.values())\n",
    "\n",
    "fig = px.bar(x=x, y=y)\n",
    "\n",
    "fig.update_layout(xaxis_title='', yaxis_title='Fraction of Nan')\n",
    "\n",
    "fig.show()\n",
    "\n",
    "fig.write_html('src/data/figures/nan_fraction.html')"
   ]
  },
  {
   "cell_type": "markdown",
   "metadata": {},
   "source": [
    "At this point, we drop `kon (M-1-s-1)`, `koff (s-1)`, `EC50 (nM)` columns, as there is a lot of missing data and these metrics by themselves do not bring enough information about the binding.\n",
    "\n",
    "Both `IC50 (nM)` and `Ki (nM)` provide meaningful information. `Ki (nM)` is more interpretable for our project, as it doesn't depend on specific reaction conditions like `Ki (nM)` does. However, there is much more data for `IC50 (nM)`, so we'll see how we'll handle that. We will actually use the -log10 of these metrics, as they are more interpretable: pIC50 and pKi. The scale is such that the higher the value, the better the binding, is more adapted to the concentration range of this data, and is commonly used in the literature.\n",
    "\n",
    "_Side note: BindingDB is drug discovery-oriented, so we expected to see more IC50 metrics_ \n",
    "\n",
    "As for `pH` and `Temp (C)`, we keep them both for later analyses. \n",
    "\n",
    "`Kd (nM)` column doesn't have enough data (even if we calculate it ourselves using `kon (M-1-s-1)` and `koff (s-1)`, so we remove it."
   ]
  },
  {
   "cell_type": "code",
   "execution_count": 62,
   "metadata": {},
   "outputs": [],
   "source": [
    "metrics = ['pKi', 'pIC50'] \n",
    "features = ['pH', 'Temp (C)']"
   ]
  },
  {
   "cell_type": "code",
   "execution_count": 63,
   "metadata": {},
   "outputs": [],
   "source": [
    "# Generating the pKi and pIC50 columns\n",
    "for metric in metrics : \n",
    "    df['p' + metric] = np.where(\n",
    "        df[metric] > 0,  # Only apply log10 to positive values\n",
    "        -np.log10(df[metric] * 1e-9),  # Transform to molar and take -log10\n",
    "        np.nan  # Assign NaN for zero or negative values\n",
    "    )"
   ]
  },
  {
   "cell_type": "markdown",
   "metadata": {},
   "source": [
    "Even if `IC50 (nM)` can be less meaningful due to its dependency on essay conditions, it is highly correlated to `Ki (nM)`. One potential explanation is a certain uniformity in experiment conducted on the same target. Therefore, it looks like we can extract meaningfull information about the inhibitory potential from `IC50 (nM)`. "
   ]
  },
  {
   "cell_type": "code",
   "execution_count": null,
   "metadata": {},
   "outputs": [],
   "source": [
    "import plotly.express as px\n",
    "import plotly.graph_objects as go\n",
    "from sklearn.linear_model import LinearRegression\n",
    "\n",
    "df_Ki_IC50 = df.dropna(subset=['pKi', 'pIC50'])\n",
    "\n",
    "# Pearson Correlation\n",
    "pearson_corr = df_Ki_IC50[['pKi', 'pIC50']].corr(method='pearson').iloc[0, 1]\n",
    "\n",
    "# Linear Regression\n",
    "reg = LinearRegression()\n",
    "reg.fit(df_Ki_IC50['pIC50'].values.reshape(-1, 1), df_Ki_IC50['pKi'].values.reshape(-1, 1))\n",
    "df_Ki_IC50['pred_pki'] = reg.predict(df_Ki_IC50['pIC50'].values.reshape(-1, 1))\n",
    "linear_coef = reg.coef_[0][0].round(4)\n",
    "\n",
    "# Line and Scatter Plot\n",
    "fig1 = px.line(df_Ki_IC50, x='pIC50', y='pred_pki')\n",
    "fig1.update_traces(line_color='red')\n",
    "fig2 = px.scatter(df_Ki_IC50, x='pIC50', y='pKi', color='Target Name')\n",
    "fig3 = go.Figure(data=fig1.data + fig2.data)\n",
    "\n",
    "# Adding Annotations\n",
    "fig3.add_annotation(\n",
    "    x=df_Ki_IC50['pIC50'].max()-0.5,\n",
    "    y=df_Ki_IC50['pKi'].min()+0.5,\n",
    "    text=f\"Pearson Corr: {pearson_corr:.2f}<br>Linear Coef: {linear_coef:.2f}\",\n",
    "    showarrow=False,\n",
    "    align=\"right\",\n",
    "    font=dict(size=14, color=\"black\")\n",
    ")\n",
    "\n",
    "# Layout updates\n",
    "fig3.update_layout(\n",
    "    xaxis_title=\"pIC50\",\n",
    "    yaxis_title=\"pKi\"\n",
    ")\n",
    "\n",
    "# Show plot\n",
    "fig3.show()\n",
    "fig3.write_html('src/data/figures/pKi_pIC50.html')"
   ]
  },
  {
   "cell_type": "markdown",
   "metadata": {},
   "source": [
    "### 1.2.1 Chemical characterization\n",
    "Now we move to the chemical characterization of ligands obtained through RDKit Descriptors. The two main descriptors we are interested in are Molecular Weight, LogP and the functionnal group count, important drug properties. We will do some visual exploration of these descriptors. "
   ]
  },
  {
   "cell_type": "code",
   "execution_count": 65,
   "metadata": {},
   "outputs": [],
   "source": [
    "properties = ['Ligand MW', 'logP']\t\n",
    "\n",
    "n_metrics = len(metrics)\n",
    "n_properties = len(properties)"
   ]
  },
  {
   "cell_type": "code",
   "execution_count": null,
   "metadata": {},
   "outputs": [],
   "source": [
    "df_ic50 = df.dropna(subset='IC50 (nM)')\n",
    "df_ki = df.dropna(subset='Ki (nM)')\n",
    "\n",
    "def get_metrics_df(df, metric):\n",
    "    return df.dropna(subset=metric)\n",
    "\n",
    "len(df_ic50)"
   ]
  },
  {
   "cell_type": "code",
   "execution_count": null,
   "metadata": {},
   "outputs": [],
   "source": [
    "from src.utils.exploration_and_clean import plot_chemical_property_distributions\n",
    "\n",
    "properties_colors = ['#EB89B5', '#330C73']\n",
    "plot_chemical_property_distributions(df, metrics, chemical_properties=properties, properties_colors=properties_colors, filepath='src/data/figures/chemchar1.html', plot_metrics=True) \n"
   ]
  },
  {
   "cell_type": "code",
   "execution_count": null,
   "metadata": {},
   "outputs": [],
   "source": [
    "df.head()\n",
    "functionnal_groups = [\"Aliphatic OH\", \"Aromatic NH\", \"Ester\", \"Ether\", \"Amide\",\t\"Ketone\", \"Benzene Ring\"]\n",
    "df_functionnal_groups = df[functionnal_groups]\n",
    "df_functionnal_groups.head()"
   ]
  },
  {
   "cell_type": "code",
   "execution_count": 69,
   "metadata": {},
   "outputs": [],
   "source": [
    "counts = df_functionnal_groups.sum()"
   ]
  },
  {
   "cell_type": "code",
   "execution_count": 70,
   "metadata": {},
   "outputs": [],
   "source": [
    "fig = px.histogram(x=functionnal_groups, y=counts)\n",
    "fig.update_layout(xaxis_title= '', yaxis_title='Count')\n",
    "fig.write_html('src/data/figures/functional_groups.html')"
   ]
  },
  {
   "cell_type": "markdown",
   "metadata": {},
   "source": [
    "### 1.2.2 Relation betweeen chemical properties and metrics\n",
    "Here comes our first question: is there a relation between the chemical properties of the ligands and the binding metrics? We will explore this question by looking at the correlation between the metrics and the chemical properties."
   ]
  },
  {
   "cell_type": "code",
   "execution_count": null,
   "metadata": {},
   "outputs": [],
   "source": [
    "metric = metrics[0]\n",
    "property = properties[0]\n",
    "fig = px.scatter(get_metrics_df(df, metric), x=property, y=metric, marginal_x=\"histogram\", marginal_y=\"histogram\", color='Target Name')\n",
    "fig.update_layout(height=600, width=1200)\n",
    "fig.show()"
   ]
  },
  {
   "cell_type": "code",
   "execution_count": null,
   "metadata": {},
   "outputs": [],
   "source": [
    "metric = metrics[1]\n",
    "property = properties[0]\n",
    "fig = px.scatter(get_metrics_df(df, metric), x=property, y=metric, marginal_x=\"histogram\", marginal_y=\"histogram\", color='Target Name')\n",
    "fig.update_layout(height=600, width=1700)\n",
    "#fig.add_hline(y=1e3, line_dash=\"dash\",row=1, col=1)\n",
    "fig.show()"
   ]
  },
  {
   "cell_type": "code",
   "execution_count": null,
   "metadata": {},
   "outputs": [],
   "source": [
    "metric = metrics[0]\n",
    "property = properties[1]\n",
    "fig = px.scatter(get_metrics_df(df, metric), x=property, y=metric, marginal_x=\"histogram\", marginal_y=\"histogram\", color='Target Name')\n",
    "fig.update_layout(height=600, width=1200)\n",
    "fig.show()"
   ]
  },
  {
   "cell_type": "code",
   "execution_count": null,
   "metadata": {},
   "outputs": [],
   "source": [
    "metric = metrics[1]\n",
    "property = properties[1]\n",
    "fig = px.scatter(get_metrics_df(df, metric), x=property, y=metric, marginal_x=\"histogram\", marginal_y=\"histogram\", color='Target Name')\n",
    "fig.update_layout(height=600, width=1700)\n",
    "fig.show()"
   ]
  },
  {
   "cell_type": "markdown",
   "metadata": {},
   "source": [
    "These metrics do not seem to have a simple linear relation with the chemical properties. We will look at the mutual information between the metrics and the chemical properties to see if there is a non-linear relation. We will slightly change the properties of interest. These are decided based on the properties contributing the most to the first component of the PCA of the RDKit descriptors, that is done later in the notebook."
   ]
  },
  {
   "cell_type": "code",
   "execution_count": 99,
   "metadata": {},
   "outputs": [
    {
     "data": {
      "text/html": [
       "<div>\n",
       "<style scoped>\n",
       "    .dataframe tbody tr th:only-of-type {\n",
       "        vertical-align: middle;\n",
       "    }\n",
       "\n",
       "    .dataframe tbody tr th {\n",
       "        vertical-align: top;\n",
       "    }\n",
       "\n",
       "    .dataframe thead th {\n",
       "        text-align: right;\n",
       "    }\n",
       "</style>\n",
       "<table border=\"1\" class=\"dataframe\">\n",
       "  <thead>\n",
       "    <tr style=\"text-align: right;\">\n",
       "      <th></th>\n",
       "      <th>Mutual Information</th>\n",
       "    </tr>\n",
       "  </thead>\n",
       "  <tbody>\n",
       "    <tr>\n",
       "      <th>NumValenceElectrons</th>\n",
       "      <td>0.047122</td>\n",
       "    </tr>\n",
       "    <tr>\n",
       "      <th>ExactMolWt</th>\n",
       "      <td>0.053231</td>\n",
       "    </tr>\n",
       "    <tr>\n",
       "      <th>Chi0</th>\n",
       "      <td>0.066305</td>\n",
       "    </tr>\n",
       "    <tr>\n",
       "      <th>HeavyAtomCount</th>\n",
       "      <td>0.025693</td>\n",
       "    </tr>\n",
       "  </tbody>\n",
       "</table>\n",
       "</div>"
      ],
      "text/plain": [
       "                     Mutual Information\n",
       "NumValenceElectrons            0.047122\n",
       "ExactMolWt                     0.053231\n",
       "Chi0                           0.066305\n",
       "HeavyAtomCount                 0.025693"
      ]
     },
     "execution_count": 99,
     "metadata": {},
     "output_type": "execute_result"
    }
   ],
   "source": [
    "# Now verify the Mutual information between the chemical properties and the metrics\n",
    "from sklearn.feature_selection import mutual_info_regression\n",
    "from sklearn.preprocessing import StandardScaler\n",
    "\n",
    "\n",
    "metric = metrics[0]\n",
    "df_embeddings = load_data('src/data/embeddings_RDKIT_descriptors.csv.zip')\n",
    "df_predict = get_metrics_df(df.merge(df_embeddings, on='Ligand SMILES', how='left'), metric)\n",
    "\n",
    "features_of_interest = [\"NumValenceElectrons\", \"ExactMolWt\", \"Chi0\", \"HeavyAtomCount\"]\n",
    "\n",
    "X = df_predict[features_of_interest]\n",
    "y = df_predict[metric]\n",
    "\n",
    "scaler = StandardScaler()\n",
    "X_scaled = scaler.fit_transform(X)\n",
    "\n",
    "\n",
    "\n",
    "df_MI = pd.DataFrame(mutual_info_regression(X_scaled, y), index=features_of_interest, columns=['Mutual Information'])\n",
    "df_MI"
   ]
  },
  {
   "cell_type": "markdown",
   "metadata": {},
   "source": [
    "The mutual information between the metrics and the chemical properties is close to zero. This suggests that there is no simple relation between the chemical properties and the binding metrics. This motivates the use of embeddings to try to have a more complex representation of the ligands."
   ]
  },
  {
   "cell_type": "markdown",
   "metadata": {},
   "source": [
    "### 1.2.3 Exploring the ligands a bit more\n"
   ]
  },
  {
   "cell_type": "code",
   "execution_count": 106,
   "metadata": {},
   "outputs": [
    {
     "name": "stdout",
     "output_type": "stream",
     "text": [
      "45\n"
     ]
    },
    {
     "data": {
      "text/html": [
       "<div>\n",
       "<style scoped>\n",
       "    .dataframe tbody tr th:only-of-type {\n",
       "        vertical-align: middle;\n",
       "    }\n",
       "\n",
       "    .dataframe tbody tr th {\n",
       "        vertical-align: top;\n",
       "    }\n",
       "\n",
       "    .dataframe thead th {\n",
       "        text-align: right;\n",
       "    }\n",
       "</style>\n",
       "<table border=\"1\" class=\"dataframe\">\n",
       "  <thead>\n",
       "    <tr style=\"text-align: right;\">\n",
       "      <th></th>\n",
       "      <th>mean</th>\n",
       "      <th>std</th>\n",
       "      <th>n_targets</th>\n",
       "    </tr>\n",
       "    <tr>\n",
       "      <th>Ligand SMILES</th>\n",
       "      <th></th>\n",
       "      <th></th>\n",
       "      <th></th>\n",
       "    </tr>\n",
       "  </thead>\n",
       "  <tbody>\n",
       "    <tr>\n",
       "      <th>CC(C)NC(=O)c1cnc(cn1)N1CC(CC#N)(C1)n1cc(cn1)-c1ccnc2[nH]ccc12</th>\n",
       "      <td>7.115528</td>\n",
       "      <td>1.565333</td>\n",
       "      <td>3</td>\n",
       "    </tr>\n",
       "    <tr>\n",
       "      <th>CC(C)NC(=O)c1cnc(cn1)N1CC(CC#N)(C1)n1cc(cn1)-c1ncnc2[nH]ccc12</th>\n",
       "      <td>6.577917</td>\n",
       "      <td>1.326089</td>\n",
       "      <td>3</td>\n",
       "    </tr>\n",
       "    <tr>\n",
       "      <th>CC(CC#N)N1[C@H]2CC[C@@H]1CN(C2)c1ccnc(Nc2cnn(C)c2)n1</th>\n",
       "      <td>6.105553</td>\n",
       "      <td>0.844857</td>\n",
       "      <td>4</td>\n",
       "    </tr>\n",
       "    <tr>\n",
       "      <th>CCC(C)N1CC(C1)N1CCc2[nH]c(nc2C1)-c1n[nH]c2cc(ccc12)-c1cc(F)c(O)cc1CC</th>\n",
       "      <td>4.976735</td>\n",
       "      <td>0.604735</td>\n",
       "      <td>4</td>\n",
       "    </tr>\n",
       "    <tr>\n",
       "      <th>CCCN1Cc2[nH]c(nc2C[C@H]1C(=O)N1CC(C)(C1)N(C)C)-c1n[nH]c2cc(ccc12)-c1cc(F)c(O)cc1CC</th>\n",
       "      <td>7.697688</td>\n",
       "      <td>1.191497</td>\n",
       "      <td>4</td>\n",
       "    </tr>\n",
       "  </tbody>\n",
       "</table>\n",
       "</div>"
      ],
      "text/plain": [
       "                                                        mean       std  \\\n",
       "Ligand SMILES                                                            \n",
       "CC(C)NC(=O)c1cnc(cn1)N1CC(CC#N)(C1)n1cc(cn1)-c1...  7.115528  1.565333   \n",
       "CC(C)NC(=O)c1cnc(cn1)N1CC(CC#N)(C1)n1cc(cn1)-c1...  6.577917  1.326089   \n",
       "CC(CC#N)N1[C@H]2CC[C@@H]1CN(C2)c1ccnc(Nc2cnn(C)...  6.105553  0.844857   \n",
       "CCC(C)N1CC(C1)N1CCc2[nH]c(nc2C1)-c1n[nH]c2cc(cc...  4.976735  0.604735   \n",
       "CCCN1Cc2[nH]c(nc2C[C@H]1C(=O)N1CC(C)(C1)N(C)C)-...  7.697688  1.191497   \n",
       "\n",
       "                                                    n_targets  \n",
       "Ligand SMILES                                                  \n",
       "CC(C)NC(=O)c1cnc(cn1)N1CC(CC#N)(C1)n1cc(cn1)-c1...          3  \n",
       "CC(C)NC(=O)c1cnc(cn1)N1CC(CC#N)(C1)n1cc(cn1)-c1...          3  \n",
       "CC(CC#N)N1[C@H]2CC[C@@H]1CN(C2)c1ccnc(Nc2cnn(C)...          4  \n",
       "CCC(C)N1CC(C1)N1CCc2[nH]c(nc2C1)-c1n[nH]c2cc(cc...          4  \n",
       "CCCN1Cc2[nH]c(nc2C[C@H]1C(=O)N1CC(C)(C1)N(C)C)-...          4  "
      ]
     },
     "execution_count": 106,
     "metadata": {},
     "output_type": "execute_result"
    }
   ],
   "source": [
    "# If the ligands are present several times in the dataset, are their metrics consistent?\n",
    "\n",
    "# Step 1: Group by 'Ligand SMILES' and filter for groups with at least 2 entries\n",
    "filtered_ligands = (\n",
    "    df\n",
    "    .groupby('Ligand SMILES')\n",
    "    .filter(lambda x: len(x) > 25)  # Keep groups with at least 25 entries\n",
    ")\n",
    "\n",
    "# Step 2: Group again and calculate mean and standard deviation\n",
    "ligand_stats = (\n",
    "    filtered_ligands\n",
    "    .groupby('Ligand SMILES')['pIC50']\n",
    "    .agg(['mean', 'std'])  # Calculate both mean and standard deviation\n",
    ")\n",
    "\n",
    "print(len(ligand_stats))\n",
    "# Step 3: Add the number of target they have been tested on\n",
    "ligand_stats['n_targets'] = [len(group_df['Target Name'].unique()) for _, group_df in filtered_ligands.groupby('Ligand SMILES')]\n",
    "\n",
    "# Display or use the result\n",
    "ligand_stats.head()"
   ]
  },
  {
   "cell_type": "code",
   "execution_count": 107,
   "metadata": {},
   "outputs": [
    {
     "data": {
      "application/vnd.plotly.v1+json": {
       "config": {
        "plotlyServerURL": "https://plot.ly"
       },
       "data": [
        {
         "error_y": {
          "array": [
           1.1914972726479118,
           1.5653325388310357,
           0.3809966551214747,
           1.3732576141637125,
           0.324271295154737,
           1.4082320698257529,
           1.6366826149927023,
           1.5877595384159229,
           1.3704349696132805,
           0.8841241776318117,
           1.3007613404127043,
           1.2462343964148421,
           1.3260885163273277,
           1.8785332671998731,
           1.1797597402642461,
           1.7961005006010988,
           0.8978216293131035,
           1.1028900635544803,
           1.0867957033571243,
           1.2010408528271008,
           1.2882743554476752,
           0.8448573099750384,
           1.591420971935958,
           1.2967449211102187,
           1.4096741893787461,
           1.0189993124217855,
           1.253419251571088,
           0.6266995687033081,
           0.4993224557811501,
           0.9997788069599518,
           1.1917495429780425,
           1.6599004176178065,
           0.9312454285239928,
           1.0262085840526773,
           0.5069771321921975,
           0.8541434104406384,
           0.6517194034399933,
           1.0776802634617262,
           1.3350487836655935,
           1.0870974146729606,
           0.6047351342228535,
           0.5943561272549847,
           1.2139519055865664,
           null,
           null
          ],
          "type": "data",
          "visible": true
         },
         "marker": {
          "color": "skyblue"
         },
         "type": "bar",
         "y": [
          7.697687794435592,
          7.115527726121133,
          6.932909570329889,
          6.904772676310724,
          6.904473894009165,
          6.857231858328006,
          6.778439942951878,
          6.732009102202496,
          6.722857605351737,
          6.693610731128103,
          6.653693856879467,
          6.615046497642447,
          6.577917204038638,
          6.4793650307982364,
          6.469390772325913,
          6.400766642861712,
          6.3920041347859184,
          6.346850571652173,
          6.200470934116279,
          6.198515041412435,
          6.114479618576495,
          6.105552812656787,
          6.0596923574981325,
          6.054520844900789,
          6.041302456742628,
          6.033206406030096,
          5.867700212126867,
          5.831227011968212,
          5.819556432464603,
          5.81346057998534,
          5.730253032343901,
          5.717630285334431,
          5.706520895079895,
          5.624455601014536,
          5.474844694311236,
          5.456301177928101,
          5.330327279796712,
          5.325557906765419,
          5.254152439812752,
          5.198716452654235,
          4.9767345916984205,
          4.759800085264053,
          4.606847783915388,
          null,
          null
         ]
        }
       ],
       "layout": {
        "showlegend": false,
        "template": {
         "data": {
          "bar": [
           {
            "error_x": {
             "color": "#2a3f5f"
            },
            "error_y": {
             "color": "#2a3f5f"
            },
            "marker": {
             "line": {
              "color": "white",
              "width": 0.5
             },
             "pattern": {
              "fillmode": "overlay",
              "size": 10,
              "solidity": 0.2
             }
            },
            "type": "bar"
           }
          ],
          "barpolar": [
           {
            "marker": {
             "line": {
              "color": "white",
              "width": 0.5
             },
             "pattern": {
              "fillmode": "overlay",
              "size": 10,
              "solidity": 0.2
             }
            },
            "type": "barpolar"
           }
          ],
          "carpet": [
           {
            "aaxis": {
             "endlinecolor": "#2a3f5f",
             "gridcolor": "#C8D4E3",
             "linecolor": "#C8D4E3",
             "minorgridcolor": "#C8D4E3",
             "startlinecolor": "#2a3f5f"
            },
            "baxis": {
             "endlinecolor": "#2a3f5f",
             "gridcolor": "#C8D4E3",
             "linecolor": "#C8D4E3",
             "minorgridcolor": "#C8D4E3",
             "startlinecolor": "#2a3f5f"
            },
            "type": "carpet"
           }
          ],
          "choropleth": [
           {
            "colorbar": {
             "outlinewidth": 0,
             "ticks": ""
            },
            "type": "choropleth"
           }
          ],
          "contour": [
           {
            "colorbar": {
             "outlinewidth": 0,
             "ticks": ""
            },
            "colorscale": [
             [
              0,
              "#0d0887"
             ],
             [
              0.1111111111111111,
              "#46039f"
             ],
             [
              0.2222222222222222,
              "#7201a8"
             ],
             [
              0.3333333333333333,
              "#9c179e"
             ],
             [
              0.4444444444444444,
              "#bd3786"
             ],
             [
              0.5555555555555556,
              "#d8576b"
             ],
             [
              0.6666666666666666,
              "#ed7953"
             ],
             [
              0.7777777777777778,
              "#fb9f3a"
             ],
             [
              0.8888888888888888,
              "#fdca26"
             ],
             [
              1,
              "#f0f921"
             ]
            ],
            "type": "contour"
           }
          ],
          "contourcarpet": [
           {
            "colorbar": {
             "outlinewidth": 0,
             "ticks": ""
            },
            "type": "contourcarpet"
           }
          ],
          "heatmap": [
           {
            "colorbar": {
             "outlinewidth": 0,
             "ticks": ""
            },
            "colorscale": [
             [
              0,
              "#0d0887"
             ],
             [
              0.1111111111111111,
              "#46039f"
             ],
             [
              0.2222222222222222,
              "#7201a8"
             ],
             [
              0.3333333333333333,
              "#9c179e"
             ],
             [
              0.4444444444444444,
              "#bd3786"
             ],
             [
              0.5555555555555556,
              "#d8576b"
             ],
             [
              0.6666666666666666,
              "#ed7953"
             ],
             [
              0.7777777777777778,
              "#fb9f3a"
             ],
             [
              0.8888888888888888,
              "#fdca26"
             ],
             [
              1,
              "#f0f921"
             ]
            ],
            "type": "heatmap"
           }
          ],
          "heatmapgl": [
           {
            "colorbar": {
             "outlinewidth": 0,
             "ticks": ""
            },
            "colorscale": [
             [
              0,
              "#0d0887"
             ],
             [
              0.1111111111111111,
              "#46039f"
             ],
             [
              0.2222222222222222,
              "#7201a8"
             ],
             [
              0.3333333333333333,
              "#9c179e"
             ],
             [
              0.4444444444444444,
              "#bd3786"
             ],
             [
              0.5555555555555556,
              "#d8576b"
             ],
             [
              0.6666666666666666,
              "#ed7953"
             ],
             [
              0.7777777777777778,
              "#fb9f3a"
             ],
             [
              0.8888888888888888,
              "#fdca26"
             ],
             [
              1,
              "#f0f921"
             ]
            ],
            "type": "heatmapgl"
           }
          ],
          "histogram": [
           {
            "marker": {
             "pattern": {
              "fillmode": "overlay",
              "size": 10,
              "solidity": 0.2
             }
            },
            "type": "histogram"
           }
          ],
          "histogram2d": [
           {
            "colorbar": {
             "outlinewidth": 0,
             "ticks": ""
            },
            "colorscale": [
             [
              0,
              "#0d0887"
             ],
             [
              0.1111111111111111,
              "#46039f"
             ],
             [
              0.2222222222222222,
              "#7201a8"
             ],
             [
              0.3333333333333333,
              "#9c179e"
             ],
             [
              0.4444444444444444,
              "#bd3786"
             ],
             [
              0.5555555555555556,
              "#d8576b"
             ],
             [
              0.6666666666666666,
              "#ed7953"
             ],
             [
              0.7777777777777778,
              "#fb9f3a"
             ],
             [
              0.8888888888888888,
              "#fdca26"
             ],
             [
              1,
              "#f0f921"
             ]
            ],
            "type": "histogram2d"
           }
          ],
          "histogram2dcontour": [
           {
            "colorbar": {
             "outlinewidth": 0,
             "ticks": ""
            },
            "colorscale": [
             [
              0,
              "#0d0887"
             ],
             [
              0.1111111111111111,
              "#46039f"
             ],
             [
              0.2222222222222222,
              "#7201a8"
             ],
             [
              0.3333333333333333,
              "#9c179e"
             ],
             [
              0.4444444444444444,
              "#bd3786"
             ],
             [
              0.5555555555555556,
              "#d8576b"
             ],
             [
              0.6666666666666666,
              "#ed7953"
             ],
             [
              0.7777777777777778,
              "#fb9f3a"
             ],
             [
              0.8888888888888888,
              "#fdca26"
             ],
             [
              1,
              "#f0f921"
             ]
            ],
            "type": "histogram2dcontour"
           }
          ],
          "mesh3d": [
           {
            "colorbar": {
             "outlinewidth": 0,
             "ticks": ""
            },
            "type": "mesh3d"
           }
          ],
          "parcoords": [
           {
            "line": {
             "colorbar": {
              "outlinewidth": 0,
              "ticks": ""
             }
            },
            "type": "parcoords"
           }
          ],
          "pie": [
           {
            "automargin": true,
            "type": "pie"
           }
          ],
          "scatter": [
           {
            "fillpattern": {
             "fillmode": "overlay",
             "size": 10,
             "solidity": 0.2
            },
            "type": "scatter"
           }
          ],
          "scatter3d": [
           {
            "line": {
             "colorbar": {
              "outlinewidth": 0,
              "ticks": ""
             }
            },
            "marker": {
             "colorbar": {
              "outlinewidth": 0,
              "ticks": ""
             }
            },
            "type": "scatter3d"
           }
          ],
          "scattercarpet": [
           {
            "marker": {
             "colorbar": {
              "outlinewidth": 0,
              "ticks": ""
             }
            },
            "type": "scattercarpet"
           }
          ],
          "scattergeo": [
           {
            "marker": {
             "colorbar": {
              "outlinewidth": 0,
              "ticks": ""
             }
            },
            "type": "scattergeo"
           }
          ],
          "scattergl": [
           {
            "marker": {
             "colorbar": {
              "outlinewidth": 0,
              "ticks": ""
             }
            },
            "type": "scattergl"
           }
          ],
          "scattermapbox": [
           {
            "marker": {
             "colorbar": {
              "outlinewidth": 0,
              "ticks": ""
             }
            },
            "type": "scattermapbox"
           }
          ],
          "scatterpolar": [
           {
            "marker": {
             "colorbar": {
              "outlinewidth": 0,
              "ticks": ""
             }
            },
            "type": "scatterpolar"
           }
          ],
          "scatterpolargl": [
           {
            "marker": {
             "colorbar": {
              "outlinewidth": 0,
              "ticks": ""
             }
            },
            "type": "scatterpolargl"
           }
          ],
          "scatterternary": [
           {
            "marker": {
             "colorbar": {
              "outlinewidth": 0,
              "ticks": ""
             }
            },
            "type": "scatterternary"
           }
          ],
          "surface": [
           {
            "colorbar": {
             "outlinewidth": 0,
             "ticks": ""
            },
            "colorscale": [
             [
              0,
              "#0d0887"
             ],
             [
              0.1111111111111111,
              "#46039f"
             ],
             [
              0.2222222222222222,
              "#7201a8"
             ],
             [
              0.3333333333333333,
              "#9c179e"
             ],
             [
              0.4444444444444444,
              "#bd3786"
             ],
             [
              0.5555555555555556,
              "#d8576b"
             ],
             [
              0.6666666666666666,
              "#ed7953"
             ],
             [
              0.7777777777777778,
              "#fb9f3a"
             ],
             [
              0.8888888888888888,
              "#fdca26"
             ],
             [
              1,
              "#f0f921"
             ]
            ],
            "type": "surface"
           }
          ],
          "table": [
           {
            "cells": {
             "fill": {
              "color": "#EBF0F8"
             },
             "line": {
              "color": "white"
             }
            },
            "header": {
             "fill": {
              "color": "#C8D4E3"
             },
             "line": {
              "color": "white"
             }
            },
            "type": "table"
           }
          ]
         },
         "layout": {
          "annotationdefaults": {
           "arrowcolor": "#2a3f5f",
           "arrowhead": 0,
           "arrowwidth": 1
          },
          "autotypenumbers": "strict",
          "coloraxis": {
           "colorbar": {
            "outlinewidth": 0,
            "ticks": ""
           }
          },
          "colorscale": {
           "diverging": [
            [
             0,
             "#8e0152"
            ],
            [
             0.1,
             "#c51b7d"
            ],
            [
             0.2,
             "#de77ae"
            ],
            [
             0.3,
             "#f1b6da"
            ],
            [
             0.4,
             "#fde0ef"
            ],
            [
             0.5,
             "#f7f7f7"
            ],
            [
             0.6,
             "#e6f5d0"
            ],
            [
             0.7,
             "#b8e186"
            ],
            [
             0.8,
             "#7fbc41"
            ],
            [
             0.9,
             "#4d9221"
            ],
            [
             1,
             "#276419"
            ]
           ],
           "sequential": [
            [
             0,
             "#0d0887"
            ],
            [
             0.1111111111111111,
             "#46039f"
            ],
            [
             0.2222222222222222,
             "#7201a8"
            ],
            [
             0.3333333333333333,
             "#9c179e"
            ],
            [
             0.4444444444444444,
             "#bd3786"
            ],
            [
             0.5555555555555556,
             "#d8576b"
            ],
            [
             0.6666666666666666,
             "#ed7953"
            ],
            [
             0.7777777777777778,
             "#fb9f3a"
            ],
            [
             0.8888888888888888,
             "#fdca26"
            ],
            [
             1,
             "#f0f921"
            ]
           ],
           "sequentialminus": [
            [
             0,
             "#0d0887"
            ],
            [
             0.1111111111111111,
             "#46039f"
            ],
            [
             0.2222222222222222,
             "#7201a8"
            ],
            [
             0.3333333333333333,
             "#9c179e"
            ],
            [
             0.4444444444444444,
             "#bd3786"
            ],
            [
             0.5555555555555556,
             "#d8576b"
            ],
            [
             0.6666666666666666,
             "#ed7953"
            ],
            [
             0.7777777777777778,
             "#fb9f3a"
            ],
            [
             0.8888888888888888,
             "#fdca26"
            ],
            [
             1,
             "#f0f921"
            ]
           ]
          },
          "colorway": [
           "#636efa",
           "#EF553B",
           "#00cc96",
           "#ab63fa",
           "#FFA15A",
           "#19d3f3",
           "#FF6692",
           "#B6E880",
           "#FF97FF",
           "#FECB52"
          ],
          "font": {
           "color": "#2a3f5f"
          },
          "geo": {
           "bgcolor": "white",
           "lakecolor": "white",
           "landcolor": "white",
           "showlakes": true,
           "showland": true,
           "subunitcolor": "#C8D4E3"
          },
          "hoverlabel": {
           "align": "left"
          },
          "hovermode": "closest",
          "mapbox": {
           "style": "light"
          },
          "paper_bgcolor": "white",
          "plot_bgcolor": "white",
          "polar": {
           "angularaxis": {
            "gridcolor": "#EBF0F8",
            "linecolor": "#EBF0F8",
            "ticks": ""
           },
           "bgcolor": "white",
           "radialaxis": {
            "gridcolor": "#EBF0F8",
            "linecolor": "#EBF0F8",
            "ticks": ""
           }
          },
          "scene": {
           "xaxis": {
            "backgroundcolor": "white",
            "gridcolor": "#DFE8F3",
            "gridwidth": 2,
            "linecolor": "#EBF0F8",
            "showbackground": true,
            "ticks": "",
            "zerolinecolor": "#EBF0F8"
           },
           "yaxis": {
            "backgroundcolor": "white",
            "gridcolor": "#DFE8F3",
            "gridwidth": 2,
            "linecolor": "#EBF0F8",
            "showbackground": true,
            "ticks": "",
            "zerolinecolor": "#EBF0F8"
           },
           "zaxis": {
            "backgroundcolor": "white",
            "gridcolor": "#DFE8F3",
            "gridwidth": 2,
            "linecolor": "#EBF0F8",
            "showbackground": true,
            "ticks": "",
            "zerolinecolor": "#EBF0F8"
           }
          },
          "shapedefaults": {
           "line": {
            "color": "#2a3f5f"
           }
          },
          "ternary": {
           "aaxis": {
            "gridcolor": "#DFE8F3",
            "linecolor": "#A2B1C6",
            "ticks": ""
           },
           "baxis": {
            "gridcolor": "#DFE8F3",
            "linecolor": "#A2B1C6",
            "ticks": ""
           },
           "bgcolor": "white",
           "caxis": {
            "gridcolor": "#DFE8F3",
            "linecolor": "#A2B1C6",
            "ticks": ""
           }
          },
          "title": {
           "x": 0.05
          },
          "xaxis": {
           "automargin": true,
           "gridcolor": "#EBF0F8",
           "linecolor": "#EBF0F8",
           "ticks": "",
           "title": {
            "standoff": 15
           },
           "zerolinecolor": "#EBF0F8",
           "zerolinewidth": 2
          },
          "yaxis": {
           "automargin": true,
           "gridcolor": "#EBF0F8",
           "linecolor": "#EBF0F8",
           "ticks": "",
           "title": {
            "standoff": 15
           },
           "zerolinecolor": "#EBF0F8",
           "zerolinewidth": 2
          }
         }
        },
        "xaxis": {
         "tickangle": 45,
         "title": {
          "text": "Ligands with more than 25 matches"
         }
        },
        "yaxis": {
         "title": {
          "text": "Mean pIC50"
         }
        }
       }
      }
     },
     "metadata": {},
     "output_type": "display_data"
    }
   ],
   "source": [
    "import plotly.graph_objects as go\n",
    "\n",
    "# Sort the ligands by mean pIC50 values\n",
    "top_ligands_sorted = top_ligands.sort_values(by='mean', ascending=False)\n",
    "\n",
    "# Replace long Ligand SMILES with simple ligand names or indices\n",
    "ligand_names = [f'Ligand {i+1}' for i in range(len(top_ligands_sorted))]\n",
    "\n",
    "# Create the bar plot with error bars\n",
    "fig = go.Figure(data=[\n",
    "    go.Bar(\n",
    "        #x=ligand_names,\n",
    "        y=top_ligands_sorted['mean'],\n",
    "        error_y=dict(type='data', array=top_ligands_sorted['std'], visible=True),\n",
    "        marker=dict(color='skyblue')\n",
    "    )\n",
    "])\n",
    "\n",
    "# Update layout for better readability\n",
    "fig.update_layout(\n",
    "    xaxis_title='Ligands with more than 25 matches',\n",
    "    yaxis_title='Mean pIC50',\n",
    "    xaxis=dict(tickangle=45),\n",
    "    showlegend=False,\n",
    "    template='plotly_white'\n",
    ")\n",
    "\n",
    "# Show the plot\n",
    "fig.show()"
   ]
  },
  {
   "cell_type": "markdown",
   "metadata": {},
   "source": [
    "## 1.3 Match made in heaven\n",
    "This section explores various ways of embedding ligands: \n",
    "* RDKit descriptors, containing information about the chemical structure of the ligands\n",
    "* Morgan fingerprints\n",
    "* Mol2Vec embeddings, based on a pre-trained model\n",
    "* The combination of the above\n",
    "\n",
    "These embeddings are generated with the scripts found in `.\\src\\embeddings.py`, as it is computationally and time expensive, we save them and load them here."
   ]
  },
  {
   "cell_type": "code",
   "execution_count": 75,
   "metadata": {},
   "outputs": [],
   "source": [
    "from src.run_reduction import run_analysis\n",
    "\n",
    "path_RD_df  = 'src/data/embeddings_RDKIT_descriptors.csv.zip'\n",
    "path_Mol2vec_df = 'src/data/embeddings_Mol2Vec.csv.zip'\n",
    "path_Morgan_df = 'src/data/embeddings_Morgan_Fingerprint.csv.zip'\n",
    "path_full_df = 'src/data/embeddings_full.csv.zip'\n"
   ]
  },
  {
   "cell_type": "markdown",
   "metadata": {},
   "source": [
    "### 1.3.1 RDKit Descriptors space\n",
    "In an intuitive approach, we constructed our first \"embedding space\" by putting all RDKit Descriptors together. After some processing and dimensionality reduction, this is what we obtained."
   ]
  },
  {
   "cell_type": "code",
   "execution_count": null,
   "metadata": {},
   "outputs": [],
   "source": [
    "run_analysis(df, path_RD_df, do_umap=True)"
   ]
  },
  {
   "cell_type": "code",
   "execution_count": null,
   "metadata": {},
   "outputs": [],
   "source": [
    "# Let's do more chemical characterization!\n",
    "import random\n",
    "\n",
    "features_of_interest = [\"NumValenceElectrons\", \"ExactMolWt\", \"MolWt\", \"Chi0\", \"LabuteASA\", \"Kappa1\", \"HeavyAtomMolWt\", \"HeavyAtomCount\", \"Chi0v\", \"Chi1\", \"SPS\", \"FractionCSP3\", \"NumSaturatedRings\", \"NumAliphaticRings\", \"BCUT2D_CHGLO\", \"BCUT2D_CHGHI\", \"BCUT2D_LOGPLOW\", \"SlogP_VSA6\", \"SMR_VSA7\", \"NumAromaticCarbocycles\"]\n",
    "colors = [\"#{:06x}\".format(random.randint(0, 0xFFFFFF)) for _ in features_of_interest]\n",
    "\n",
    "df_embeddings = load_data('src/data/embeddings_RDKIT_descriptors.csv.zip')\n",
    "plot_chemical_property_distributions(df, metrics, chemical_properties=features_of_interest[:5], properties_colors=colors[:5], filepath='src/data/chemchar2.html', plot_metrics=False, df_embeddings=df_embeddings) "
   ]
  },
  {
   "cell_type": "markdown",
   "metadata": {},
   "source": [
    "### 1.3.2. [Mol2vec](https://pubs.acs.org/doi/10.1021/acs.jcim.7b00616) embedding space\n",
    "In a quest for a more homogeneous embedding, we tried out Mol2vec. Mol2vec is an unsupervised machine learning approach to learn vector representations of molecular substructures. Compounds are encoded as vectors by summing the vectors of the individual substructures. The direction of substructure vectors created by Mol2vec provides information about chemically related substructures. "
   ]
  },
  {
   "cell_type": "code",
   "execution_count": null,
   "metadata": {},
   "outputs": [],
   "source": [
    "run_analysis(df, path_Mol2vec_df, do_umap=True)"
   ]
  },
  {
   "cell_type": "markdown",
   "metadata": {},
   "source": [
    "### 1.3.3. Morgan fingerprints space\n",
    "We next interrogated Morgan fingerprints, a type of molecular fingerprints. They are based on the idea of transforming local structural information of a molecule into a fixed-length bit string. This representation captures information about the molecular structure in a way that is useful for comparing molecules or identifying structural similarity."
   ]
  },
  {
   "cell_type": "code",
   "execution_count": null,
   "metadata": {},
   "outputs": [],
   "source": [
    "run_analysis(df, path_Morgan_df, do_umap=True)\n"
   ]
  },
  {
   "cell_type": "markdown",
   "metadata": {},
   "source": [
    "### 1.3.4. Combined embeddings\n",
    "Finally, we combine all three embeddings tested until that."
   ]
  },
  {
   "cell_type": "code",
   "execution_count": null,
   "metadata": {},
   "outputs": [],
   "source": [
    "run_analysis(df, path_full_df, do_umap=True)"
   ]
  }
 ],
 "metadata": {
  "kernelspec": {
   "display_name": "ada",
   "language": "python",
   "name": "python3"
  },
  "language_info": {
   "codemirror_mode": {
    "name": "ipython",
    "version": 3
   },
   "file_extension": ".py",
   "mimetype": "text/x-python",
   "name": "python",
   "nbconvert_exporter": "python",
   "pygments_lexer": "ipython3",
   "version": "3.11.10"
  }
 },
 "nbformat": 4,
 "nbformat_minor": 2
}
