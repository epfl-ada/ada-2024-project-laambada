{
 "cells": [
  {
   "cell_type": "code",
   "execution_count": null,
   "metadata": {},
   "outputs": [],
   "source": [
    "%load_ext autoreload \n",
    "%autoreload 2"
   ]
  },
  {
   "cell_type": "markdown",
   "metadata": {},
   "source": [
    "# 1.Load \n",
    "## 1.1 Load libraries"
   ]
  },
  {
   "cell_type": "code",
   "execution_count": 25,
   "metadata": {},
   "outputs": [],
   "source": [
    "import numpy as np\n",
    "import time\n",
    "import pandas as pd\n",
    "import matplotlib.pyplot as plt\n",
    "import seaborn as sns\n",
    "import os\n",
    "\n",
    "from src.scripts.load_and_save import load_data\n",
    "from src.utils.exploration_and_clean import explore_column, quick_check_column, clean_metrics\n",
    "\n",
    "from plotly.subplots import make_subplots\n",
    "import plotly.graph_objects as go\n",
    "import plotly.express as px\n"
   ]
  },
  {
   "cell_type": "markdown",
   "metadata": {},
   "source": [
    "## 1.2 Load data\n",
    "The dataset is cleaned and filtered the the family of interest."
   ]
  },
  {
   "cell_type": "code",
   "execution_count": null,
   "metadata": {},
   "outputs": [],
   "source": [
    "df = load_data()\n",
    "df.head()"
   ]
  },
  {
   "cell_type": "markdown",
   "metadata": {},
   "source": [
    "# 2. Developpement - Figures"
   ]
  },
  {
   "cell_type": "markdown",
   "metadata": {},
   "source": [
    "## 2.1 Familly characterisation or \"Kinase looking for love\""
   ]
  },
  {
   "cell_type": "markdown",
   "metadata": {},
   "source": [
    "In this part we will justify the choice of the familly, maybe take the familly file and justify why the kinase are very well represented, introduce them ..."
   ]
  },
  {
   "cell_type": "code",
   "execution_count": 27,
   "metadata": {},
   "outputs": [],
   "source": [
    "from src.utils.embeddings_plots import  reduce_family\n",
    "\n",
    "# Let's reduce the number of targets\n",
    "df['Target Name Detailed'] = df['Target Name']\n",
    "df['Target Name'] =  df['Target Name'].apply( reduce_family)"
   ]
  },
  {
   "cell_type": "markdown",
   "metadata": {},
   "source": [
    "## 2.2 FEATURES - What is a good match?"
   ]
  },
  {
   "cell_type": "markdown",
   "metadata": {},
   "source": [
    "### 2.2.1 Metrics \n",
    "In this part we will analyse the binding metric that we have for our selected subject of data."
   ]
  },
  {
   "cell_type": "code",
   "execution_count": null,
   "metadata": {},
   "outputs": [],
   "source": [
    "# Usefull metrics \n",
    "metric_percent = {}\n",
    "for col in ['Ki (nM)', 'IC50 (nM)', 'Kd (nM)','kon (M-1-s-1)', 'koff (s-1)', 'EC50 (nM)', 'pH', 'Temp (C)']:\n",
    "    metric_percent[col] = len(df[col].dropna())/len(df)\n",
    "\n",
    "\n",
    "import plotly.express as px\n",
    "x =list(metric_percent.keys())\n",
    "y=list(metric_percent.values())\n",
    "\n",
    "fig = px.bar(x=x, y=y, title='Percent of non nan values per metric among the selected familly')\n",
    "\n",
    "fig.show()"
   ]
  },
  {
   "cell_type": "markdown",
   "metadata": {},
   "source": [
    "removed Kon and koff, EC50 because not objective measure and not lot of data \\\n",
    "Ki, Kd is more meaningfull because don't associated to an essay but we have lot of Ki \\\n",
    "keep pH and Temp for later analysis \\\n",
    "remove Kd because no commun value with IC50 and not enough value to keep it alone \\\n"
   ]
  },
  {
   "cell_type": "code",
   "execution_count": 29,
   "metadata": {},
   "outputs": [],
   "source": [
    "metrics = ['pKi', 'pIC50'] \n",
    "features = ['pH', 'Temp (C)']"
   ]
  },
  {
   "cell_type": "code",
   "execution_count": 30,
   "metadata": {},
   "outputs": [],
   "source": [
    "for metric in metrics : \n",
    "    df['p' + metric] = np.where(\n",
    "        df[metric] > 0,  # Only apply log10 to positive values\n",
    "        -np.log10(df[metric] * 1e-9),  # Transform to molar and take -log10\n",
    "        np.nan  # Assign NaN for zero or negative values\n",
    "    )"
   ]
  },
  {
   "cell_type": "code",
   "execution_count": null,
   "metadata": {},
   "outputs": [],
   "source": [
    "# Even if IC50 can be not maining full due to its dependancy to the essay it is highly correlated to Ki\n",
    "# can be explain by a uniformity between experiment \n",
    "# we can extract meaningfull info about the inhibitory potential from IC50 \n",
    "\n",
    "# TODO : ASK THE REST OF THE GROUP\n",
    "df_Ki_IC50 = df[['pKi','pIC50', 'Target Name']].dropna()\n",
    "\n",
    "\n",
    "print('Pearson Correlation coef:' , df_Ki_IC50[['pKi','pIC50']].corr(method='pearson'))\n",
    "\n",
    "\n",
    "from  sklearn.linear_model import LinearRegression\n",
    "\n",
    "reg = LinearRegression()\n",
    "reg.fit(df_Ki_IC50['pIC50'].values.reshape(-1, 1), df_Ki_IC50['pKi'].values.reshape(-1, 1))\n",
    "df_Ki_IC50['pred_pki'] = reg.predict(df_Ki_IC50['pIC50'].values.reshape(-1, 1))\n",
    "\n",
    "\n",
    "fig1 = px.line(df_Ki_IC50, x='pIC50', y='pred_pki')\n",
    "fig1.update_traces(line_color='red')\n",
    "fig2 =px.scatter(df_Ki_IC50, x='pIC50', y =  'pKi',color='Target Name')\n",
    "fig3 = go.Figure(data=fig1.data + fig2.data)\n",
    "fig3.update_layout(title=f'Linear fit, coef :{reg.coef_[0][0].round(4)}')\n",
    "\n",
    "fig3.show()\n",
    "\n",
    "\n"
   ]
  },
  {
   "cell_type": "markdown",
   "metadata": {},
   "source": [
    "### 2.2.1 multivariate with the chemical caracterization\n",
    "wants plot that explain the distribution of each features"
   ]
  },
  {
   "cell_type": "code",
   "execution_count": 32,
   "metadata": {},
   "outputs": [],
   "source": [
    "properties = ['Ligand MW', 'logP']\t\n",
    "\n",
    "n_metrics = len(metrics)\n",
    "n_properties = len(properties)"
   ]
  },
  {
   "cell_type": "code",
   "execution_count": null,
   "metadata": {},
   "outputs": [],
   "source": [
    "df_ic50 = df.dropna(subset='IC50 (nM)')\n",
    "df_ki = df.dropna(subset='Ki (nM)')\n",
    "\n",
    "def get_metrics_df(df, metric):\n",
    "    return df.dropna(subset=metric)\n",
    "\n",
    "len(df_ic50)"
   ]
  },
  {
   "cell_type": "code",
   "execution_count": null,
   "metadata": {},
   "outputs": [],
   "source": [
    "# Graph: la distribution des features extraire avec rdkit\n",
    "fig = make_subplots(rows=n_metrics, cols=n_properties+1)\n",
    "properties_colors = ['#EB89B5', '#330C73']\n",
    "\n",
    "for i, metric in enumerate(metrics):\n",
    "    df_to_plot = get_metrics_df(df,metric)\n",
    "\n",
    "    for j, property in enumerate(properties):\n",
    "        color = properties_colors[j]\n",
    "        x = df_to_plot[property]\n",
    "        fig.add_trace(\n",
    "            go.Histogram(x=x, name=property, showlegend=False,marker_color=color),\n",
    "            row=i+1, col=j+1\n",
    "        )\n",
    "        fig.update_xaxes(title_text=property, row=i+1, col=j+1) \n",
    "        #fig.update_yaxes(title_text=\"Count\", row=i+1, col=j+1)\n",
    "\n",
    "for i, metric in enumerate(metrics):\n",
    "    df_to_plot = get_metrics_df(df,metric)\n",
    "    x = df_to_plot[metric]\n",
    "    color = 'wheat'\n",
    "    fig.add_trace(\n",
    "                go.Histogram(x=x, name=metric, showlegend=False,marker_color=color),\n",
    "                row=i+1, col=3\n",
    "            )\n",
    "    fig.update_xaxes(title_text=metric, row=i+1, col=3) \n",
    "fig.update_layout(height=800, width=1200, title_text=\"Chemical Properties of the ligands in the pKi and pIC50 subsets\")\n",
    "fig.show()"
   ]
  },
  {
   "cell_type": "code",
   "execution_count": null,
   "metadata": {},
   "outputs": [],
   "source": [
    "df.head()\n",
    "functionnal_groups = [\"Aliphatic OH\", \"Aromatic NH\", \"Ester\", \"Ether\", \"Amide\",\t\"Ketone\", \"Benzene Ring\"]\n",
    "df_functionnal_groups = df[functionnal_groups]\n",
    "df_functionnal_groups.head()"
   ]
  },
  {
   "cell_type": "code",
   "execution_count": 36,
   "metadata": {},
   "outputs": [],
   "source": [
    "counts = df_functionnal_groups.sum()"
   ]
  },
  {
   "cell_type": "code",
   "execution_count": null,
   "metadata": {},
   "outputs": [],
   "source": [
    "px.histogram(x=functionnal_groups, y=counts)"
   ]
  },
  {
   "cell_type": "code",
   "execution_count": null,
   "metadata": {},
   "outputs": [],
   "source": [
    "metric = metrics[0]\n",
    "property = properties[0]\n",
    "fig = px.scatter(get_metrics_df(df, metric), x=property, y=metric, marginal_x=\"histogram\", marginal_y=\"histogram\", color='Target Name')\n",
    "fig.update_layout(height=600, width=1200)\n",
    "fig.show()"
   ]
  },
  {
   "cell_type": "code",
   "execution_count": null,
   "metadata": {},
   "outputs": [],
   "source": [
    "metric = metrics[1]\n",
    "property = properties[0]\n",
    "fig = px.scatter(get_metrics_df(df, metric), x=property, y=metric, marginal_x=\"histogram\", marginal_y=\"histogram\", color='Target Name')\n",
    "fig.update_layout(height=600, width=1700)\n",
    "#fig.add_hline(y=1e3, line_dash=\"dash\",row=1, col=1)\n",
    "fig.show()"
   ]
  },
  {
   "cell_type": "code",
   "execution_count": null,
   "metadata": {},
   "outputs": [],
   "source": [
    "metric = metrics[0]\n",
    "property = properties[1]\n",
    "fig = px.scatter(get_metrics_df(df, metric), x=property, y=metric, marginal_x=\"histogram\", marginal_y=\"histogram\", color='Target Name')\n",
    "fig.update_layout(height=600, width=1200)\n",
    "fig.show()"
   ]
  },
  {
   "cell_type": "code",
   "execution_count": null,
   "metadata": {},
   "outputs": [],
   "source": [
    "metric = metrics[1]\n",
    "property = properties[1]\n",
    "fig = px.scatter(get_metrics_df(df, metric), x=property, y=metric, marginal_x=\"histogram\", marginal_y=\"histogram\", color='Target Name')\n",
    "fig.update_layout(height=600, width=1700)\n",
    "fig.show()"
   ]
  },
  {
   "cell_type": "markdown",
   "metadata": {},
   "source": [
    "## 2.3 Embedding space or A match made in haven "
   ]
  },
  {
   "cell_type": "markdown",
   "metadata": {},
   "source": [
    "introduce the embedding space, the model that provide it. and visualization. in the best situation we would want to have conditons on the targets, metrics, and chemical caraterization to color certain part of the graph while the unselected remain grey. but if not possible to make it interactive juste do severals"
   ]
  },
  {
   "cell_type": "code",
   "execution_count": 42,
   "metadata": {},
   "outputs": [],
   "source": [
    "from src.run_reduction import run_analysis\n",
    "\n",
    "path_RD_df  = 'src/data/embeddings_RDKIT_descriptors.csv.zip'\n",
    "path_Mol2vec_df = 'src/data/embeddings_Mol2Vec.csv.zip'\n",
    "path_Morgan_df = 'src/data/embeddings_Morgan_Fingerprint.csv.zip'\n",
    "path_full_df = 'src/data/embeddings_full.csv.zip'\n"
   ]
  },
  {
   "cell_type": "code",
   "execution_count": null,
   "metadata": {},
   "outputs": [],
   "source": [
    "run_analysis(df, path_RD_df, do_umap=True)"
   ]
  },
  {
   "cell_type": "code",
   "execution_count": null,
   "metadata": {},
   "outputs": [],
   "source": [
    "run_analysis(df, path_Mol2vec_df, do_umap=True)\n"
   ]
  },
  {
   "cell_type": "code",
   "execution_count": null,
   "metadata": {},
   "outputs": [],
   "source": [
    "run_analysis(df, path_Morgan_df, do_umap=True)\n"
   ]
  },
  {
   "cell_type": "code",
   "execution_count": null,
   "metadata": {},
   "outputs": [],
   "source": [
    "run_analysis(df, path_full_df, do_umap=True)"
   ]
  },
  {
   "cell_type": "markdown",
   "metadata": {},
   "source": [
    "## 2.4 Closer look to one target and prediction of the best match "
   ]
  },
  {
   "cell_type": "markdown",
   "metadata": {},
   "source": [
    "select the target, plot it with a nice representation : the one that turn would be great\n",
    "plot the place of its ligands in embedding speace (highligh the main features on which it relay)\n",
    "then introduce the model that is used to predict a good target\n",
    "plot some of the predicted target (viz the mol that turn pleeaaase) with a panel with their chemical caracterisations + predicted metric of binding (would be better if its KI)\n"
   ]
  },
  {
   "cell_type": "code",
   "execution_count": null,
   "metadata": {},
   "outputs": [],
   "source": []
  }
 ],
 "metadata": {
  "kernelspec": {
   "display_name": "base",
   "language": "python",
   "name": "python3"
  },
  "language_info": {
   "codemirror_mode": {
    "name": "ipython",
    "version": 3
   },
   "file_extension": ".py",
   "mimetype": "text/x-python",
   "name": "python",
   "nbconvert_exporter": "python",
   "pygments_lexer": "ipython3",
   "version": "3.10.13"
  }
 },
 "nbformat": 4,
 "nbformat_minor": 2
}
