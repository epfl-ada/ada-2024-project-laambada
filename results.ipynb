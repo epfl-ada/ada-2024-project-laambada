{
 "cells": [
  {
   "cell_type": "code",
   "execution_count": null,
   "metadata": {},
   "outputs": [],
   "source": [
    "%load_ext autoreload \n",
    "%autoreload 2"
   ]
  },
  {
   "cell_type": "markdown",
   "metadata": {},
   "source": [
    "# 1.Load \n",
    "## 1.1 Load libraries"
   ]
  },
  {
   "cell_type": "code",
   "execution_count": 27,
   "metadata": {},
   "outputs": [],
   "source": [
    "import numpy as np\n",
    "import time\n",
    "import pandas as pd\n",
    "import matplotlib.pyplot as plt\n",
    "import seaborn as sns\n",
    "import os\n",
    "\n",
    "from src.scripts.load_and_save import load_data\n",
    "from src.utils.exploration_and_clean import explore_column, quick_check_column, clean_metrics\n",
    "\n",
    "from plotly.subplots import make_subplots\n",
    "import plotly.graph_objects as go\n",
    "import plotly.express as px\n"
   ]
  },
  {
   "cell_type": "markdown",
   "metadata": {},
   "source": [
    "## 1.2 Load data\n",
    "The dataset is cleaned and filtered the the family of interest."
   ]
  },
  {
   "cell_type": "code",
   "execution_count": null,
   "metadata": {},
   "outputs": [],
   "source": []
  },
  {
   "cell_type": "code",
   "execution_count": null,
   "metadata": {},
   "outputs": [],
   "source": [
    "df = load_data()\n",
    "df.head()"
   ]
  },
  {
   "cell_type": "markdown",
   "metadata": {},
   "source": [
    "# 2. Developpement - Figures"
   ]
  },
  {
   "cell_type": "markdown",
   "metadata": {},
   "source": [
    "## 2.1 Familly characterisation or \"Kinase looking for love\""
   ]
  },
  {
   "cell_type": "markdown",
   "metadata": {},
   "source": [
    "In this part we will justify the choice of the familly, maybe take the familly file and justify why the kinase are very well represented, introduce them ..."
   ]
  },
  {
   "cell_type": "code",
   "execution_count": 29,
   "metadata": {},
   "outputs": [],
   "source": [
    "from src.utils.embeddings_plots import  reduce_family\n",
    "\n",
    "# Let's reduce the number of targets\n",
    "df['Target Name Detailed'] = df['Target Name']\n",
    "df['Target Name'] =  df['Target Name'].apply( reduce_family)"
   ]
  },
  {
   "cell_type": "markdown",
   "metadata": {},
   "source": [
    "## 2.2 FEATURES - What is a good match?"
   ]
  },
  {
   "cell_type": "markdown",
   "metadata": {},
   "source": [
    "### 2.2.1 Metrics \n",
    "In this part we will analyse the binding metric that we have for our selected subject of data."
   ]
  },
  {
   "cell_type": "code",
   "execution_count": null,
   "metadata": {},
   "outputs": [],
   "source": [
    "# Usefull metrics \n",
    "metric_percent = {}\n",
    "for col in ['Ki (nM)', 'IC50 (nM)', 'Kd (nM)','kon (M-1-s-1)', 'koff (s-1)', 'EC50 (nM)', 'pH', 'Temp (C)']:\n",
    "    metric_percent[col] = len(df[col].dropna())/len(df)\n",
    "\n",
    "\n",
    "import plotly.express as px\n",
    "x =list(metric_percent.keys())\n",
    "y=list(metric_percent.values())\n",
    "\n",
    "fig = px.bar(x=x, y=y)\n",
    "\n",
    "fig.update_layout(xaxis_title='', yaxis_title='Fraction of Nan')\n",
    "\n",
    "fig.show()\n",
    "\n",
    "fig.write_html('src/data/figures/nan_fraction.html')"
   ]
  },
  {
   "cell_type": "markdown",
   "metadata": {},
   "source": [
    "removed Kon and koff, EC50 because not objective measure and not lot of data \\\n",
    "Ki, Kd is more meaningfull because don't associated to an essay but we have lot of Ki \\\n",
    "keep pH and Temp for later analysis \\\n",
    "remove Kd because no commun value with IC50 and not enough value to keep it alone \\\n"
   ]
  },
  {
   "cell_type": "code",
   "execution_count": 31,
   "metadata": {},
   "outputs": [],
   "source": [
    "metrics = ['pKi', 'pIC50'] \n",
    "features = ['pH', 'Temp (C)']"
   ]
  },
  {
   "cell_type": "code",
   "execution_count": 32,
   "metadata": {},
   "outputs": [],
   "source": [
    "for metric in metrics : \n",
    "    df['p' + metric] = np.where(\n",
    "        df[metric] > 0,  # Only apply log10 to positive values\n",
    "        -np.log10(df[metric] * 1e-9),  # Transform to molar and take -log10\n",
    "        np.nan  # Assign NaN for zero or negative values\n",
    "    )"
   ]
  },
  {
   "cell_type": "code",
   "execution_count": null,
   "metadata": {},
   "outputs": [],
   "source": [
    "'''# Even if IC50 can be not maining full due to its dependancy to the essay it is highly correlated to Ki\n",
    "# can be explain by a uniformity between experiment \n",
    "# we can extract meaningfull info about the inhibitory potential from IC50 \n",
    "\n",
    "# TODO : ASK THE REST OF THE GROUP\n",
    "df_Ki_IC50 = df[['pKi','pIC50', 'Target Name']].dropna()\n",
    "\n",
    "\n",
    "print('Pearson Correlation coef:' , df_Ki_IC50[['pKi','pIC50']].corr(method='pearson'))\n",
    "\n",
    "\n",
    "from  sklearn.linear_model import LinearRegression\n",
    "\n",
    "reg = LinearRegression()\n",
    "reg.fit(df_Ki_IC50['pIC50'].values.reshape(-1, 1), df_Ki_IC50['pKi'].values.reshape(-1, 1))\n",
    "df_Ki_IC50['pred_pki'] = reg.predict(df_Ki_IC50['pIC50'].values.reshape(-1, 1))\n",
    "\n",
    "\n",
    "fig1 = px.line(df_Ki_IC50, x='pIC50', y='pred_pki')\n",
    "fig1.update_traces(line_color='red')\n",
    "fig2 =px.scatter(df_Ki_IC50, x='pIC50', y =  'pKi',color='Target Name')\n",
    "fig3 = go.Figure(data=fig1.data + fig2.data)\n",
    "fig3.update_layout(title=f'Linear fit, coef :{reg.coef_[0][0].round(4)}')\n",
    "\n",
    "fig3.show()\n",
    "\n",
    "\n",
    "'''"
   ]
  },
  {
   "cell_type": "code",
   "execution_count": null,
   "metadata": {},
   "outputs": [],
   "source": [
    "import plotly.express as px\n",
    "import plotly.graph_objects as go\n",
    "from sklearn.linear_model import LinearRegression\n",
    "\n",
    "df_Ki_IC50 = df.dropna(subset = ['pKi', 'pIC50'])\n",
    "\n",
    "\n",
    "# Pearson Correlation\n",
    "pearson_corr = df_Ki_IC50[['pKi', 'pIC50']].corr(method='pearson').iloc[0, 1]\n",
    "\n",
    "# Linear Regression\n",
    "reg = LinearRegression()\n",
    "reg.fit(df_Ki_IC50['pIC50'].values.reshape(-1, 1), df_Ki_IC50['pKi'].values.reshape(-1, 1))\n",
    "df_Ki_IC50['pred_pki'] = reg.predict(df_Ki_IC50['pIC50'].values.reshape(-1, 1))\n",
    "linear_coef = reg.coef_[0][0].round(4)\n",
    "\n",
    "# Line and Scatter Plot\n",
    "fig1 = px.line(df_Ki_IC50, x='pIC50', y='pred_pki')\n",
    "fig1.update_traces(line_color='red')\n",
    "fig2 = px.scatter(df_Ki_IC50, x='pIC50', y='pKi', color='Target Name')\n",
    "fig3 = go.Figure(data=fig1.data + fig2.data)\n",
    "\n",
    "# Adding Annotations\n",
    "fig3.add_annotation(\n",
    "    x=df_Ki_IC50['pIC50'].max()-0.5,\n",
    "    y=df_Ki_IC50['pKi'].min()+0.5,\n",
    "    text=f\"Pearson Corr: {pearson_corr:.2f}<br>Linear Coef: {linear_coef:.2f}\",\n",
    "    showarrow=False,\n",
    "    align=\"right\",\n",
    "    font=dict(size=14, color=\"black\")\n",
    ")\n",
    "\n",
    "# Layout updates\n",
    "fig3.update_layout(\n",
    "    xaxis_title=\"pIC50\",\n",
    "    yaxis_title=\"pKi\"\n",
    ")\n",
    "\n",
    "# Show plot\n",
    "fig3.show()\n",
    "fig3.write_html('src/data/figures/pKi_pIC50.html')"
   ]
  },
  {
   "cell_type": "markdown",
   "metadata": {},
   "source": [
    "### 2.2.1 multivariate with the chemical caracterization\n",
    "wants plot that explain the distribution of each features"
   ]
  },
  {
   "cell_type": "code",
   "execution_count": 35,
   "metadata": {},
   "outputs": [],
   "source": [
    "properties = ['Ligand MW', 'logP']\t\n",
    "\n",
    "n_metrics = len(metrics)\n",
    "n_properties = len(properties)"
   ]
  },
  {
   "cell_type": "code",
   "execution_count": null,
   "metadata": {},
   "outputs": [],
   "source": [
    "df_ic50 = df.dropna(subset='IC50 (nM)')\n",
    "df_ki = df.dropna(subset='Ki (nM)')\n",
    "\n",
    "def get_metrics_df(df, metric):\n",
    "    return df.dropna(subset=metric)\n",
    "\n",
    "len(df_ic50)"
   ]
  },
  {
   "cell_type": "code",
   "execution_count": null,
   "metadata": {},
   "outputs": [],
   "source": [
    "from src.utils.exploration_and_clean import plot_chemical_property_distributions\n",
    "\n",
    "properties_colors = ['#EB89B5', '#330C73']\n",
    "plot_chemical_property_distributions(df, metrics, chemical_properties=properties, properties_colors=properties_colors, filepath='src/data/figures/chemchar1.html', plot_metrics=True) \n"
   ]
  },
  {
   "cell_type": "code",
   "execution_count": null,
   "metadata": {},
   "outputs": [],
   "source": [
    "df.head()\n",
    "functionnal_groups = [\"Aliphatic OH\", \"Aromatic NH\", \"Ester\", \"Ether\", \"Amide\",\t\"Ketone\", \"Benzene Ring\"]\n",
    "df_functionnal_groups = df[functionnal_groups]\n",
    "df_functionnal_groups.head()"
   ]
  },
  {
   "cell_type": "code",
   "execution_count": 39,
   "metadata": {},
   "outputs": [],
   "source": [
    "counts = df_functionnal_groups.sum()"
   ]
  },
  {
   "cell_type": "code",
   "execution_count": 40,
   "metadata": {},
   "outputs": [],
   "source": [
    "fig = px.histogram(x=functionnal_groups, y=counts)\n",
    "fig.update_layout(xaxis_title= '', yaxis_title='Count')\n",
    "fig.write_html('src/data/figures/functional_groups.html')"
   ]
  },
  {
   "cell_type": "code",
   "execution_count": null,
   "metadata": {},
   "outputs": [],
   "source": [
    "metric = metrics[0]\n",
    "property = properties[0]\n",
    "fig = px.scatter(get_metrics_df(df, metric), x=property, y=metric, marginal_x=\"histogram\", marginal_y=\"histogram\", color='Target Name')\n",
    "fig.update_layout(height=600, width=800, showlegend=False)\n",
    "fig.show()\n",
    "\n",
    "#fig.write_image('src/data/figures/pKi_MW.png', height=400, scale=1)"
   ]
  },
  {
   "cell_type": "code",
   "execution_count": null,
   "metadata": {},
   "outputs": [],
   "source": [
    "metric = metrics[1]\n",
    "property = properties[0]\n",
    "fig = px.scatter(get_metrics_df(df, metric), x=property, y=metric, marginal_x=\"histogram\", marginal_y=\"histogram\", color='Target Name')\n",
    "fig.update_layout(height=600, width=1700)\n",
    "#fig.add_hline(y=1e3, line_dash=\"dash\",row=1, col=1)\n",
    "fig.show()"
   ]
  },
  {
   "cell_type": "code",
   "execution_count": null,
   "metadata": {},
   "outputs": [],
   "source": [
    "len(df)"
   ]
  },
  {
   "cell_type": "code",
   "execution_count": null,
   "metadata": {},
   "outputs": [],
   "source": [
    "metric = metrics[0]\n",
    "property = properties[1]\n",
    "fig = px.scatter(get_metrics_df(df, metric), x=property, y=metric, marginal_x=\"histogram\", marginal_y=\"histogram\", color='Target Name')\n",
    "\n",
    "fig.update_layout(height=600, width=800, showlegend=False)\n",
    "fig.show()\n",
    "\n",
    "#fig.write_image(f'src/data/figures/pKi_{property}.png', height=400, scale=2)"
   ]
  },
  {
   "cell_type": "markdown",
   "metadata": {},
   "source": []
  },
  {
   "cell_type": "code",
   "execution_count": null,
   "metadata": {},
   "outputs": [],
   "source": [
    "metric = metrics[1]\n",
    "property = properties[1]\n",
    "fig = px.scatter(get_metrics_df(df, metric), x=property, y=metric, marginal_x=\"histogram\", marginal_y=\"histogram\", color='Target Name')\n",
    "fig.update_layout(height=600, width=1700)\n",
    "fig.show()"
   ]
  },
  {
   "cell_type": "code",
   "execution_count": null,
   "metadata": {},
   "outputs": [],
   "source": [
    "# Predict pKi from the chemical properties with Statsmodels\n",
    "\n",
    "import statsmodels.api as sm\n",
    "from sklearn.preprocessing import StandardScaler\n",
    "\n",
    "\n",
    "metric = metrics[0]\n",
    "features_of_interest = [\"NumValenceElectrons\", \"ExactMolWt\", \"Chi0\", \"HeavyAtomCount\"]\n",
    "\n",
    "df_embeddings = load_data('src/data/embeddings_RDKIT_descriptors.csv.zip')\n",
    "df_predict = get_metrics_df(df.merge(df_embeddings, on='Ligand SMILES', how='left'), metric)\n",
    "X = df_predict[features_of_interest]\n",
    "# Normalize the features\n",
    "scaler = StandardScaler()\n",
    "X_scaled = scaler.fit_transform(X)\n",
    "X_scaled = sm.add_constant(X_scaled)\n",
    "y = df_predict[metric]\n",
    "\n",
    "model = sm.OLS(y, X_scaled).fit()\n",
    "predictions = model.predict(X_scaled)\n",
    "\n",
    "model.summary()\n",
    "    "
   ]
  },
  {
   "cell_type": "code",
   "execution_count": null,
   "metadata": {},
   "outputs": [],
   "source": [
    "df_predict[metric]"
   ]
  },
  {
   "cell_type": "code",
   "execution_count": null,
   "metadata": {},
   "outputs": [],
   "source": [
    "# Now verify the Mutual information between the chemical properties and the metrics\n",
    "from sklearn.feature_selection import mutual_info_regression\n",
    "\n",
    "df_MI = pd.DataFrame(np.round(mutual_info_regression(X_scaled, y)[1:], 3), index=features_of_interest, columns=['Mutual Information'])\n",
    "df_MI"
   ]
  },
  {
   "cell_type": "code",
   "execution_count": null,
   "metadata": {},
   "outputs": [],
   "source": [
    "# Plot pIC50 vs. ExactMolWt\n",
    "fig = px.scatter(df_predict, x='ExactMolWt', y=metrics[1], color='Target Name')\n",
    "fig.update_layout(height=600, width=800, showlegend=False)\n",
    "fig.show()"
   ]
  },
  {
   "cell_type": "code",
   "execution_count": null,
   "metadata": {},
   "outputs": [],
   "source": [
    "import pandas as pd\n",
    "import plotly.graph_objects as go\n",
    "import statsmodels.api as sm\n",
    "from sklearn.preprocessing import StandardScaler\n",
    "\n",
    "# Simulated setup from your prior code\n",
    "metric = \"pKi\"\n",
    "features_of_interest = [\"NumValenceElectrons\", \"ExactMolWt\", \"Chi0\", \"HeavyAtomCount\"]\n",
    "\n",
    "# Prepare Data\n",
    "df_embeddings = load_data('src/data/embeddings_RDKIT_descriptors.csv.zip')\n",
    "df_predict = get_metrics_df(df.merge(df_embeddings, on='Ligand SMILES', how='left'), metric)\n",
    "X = df_predict[features_of_interest]\n",
    "y = df_predict[metric]\n",
    "\n",
    "# Normalize the features and fit the OLS model\n",
    "scaler = StandardScaler()\n",
    "X_scaled = scaler.fit_transform(X)\n",
    "X_scaled = sm.add_constant(X_scaled)\n",
    "model = sm.OLS(y, X_scaled).fit()\n",
    "\n",
    "# Extract model summary information\n",
    "summary_df = pd.DataFrame({\n",
    "    \"Feature\": [\"const\"] + features_of_interest,\n",
    "    \"Coefficient\": model.params.values,\n",
    "    \"P-Value\": model.pvalues.values\n",
    "})\n",
    "\n",
    "# Filter only the features (excluding constant if desired)\n",
    "summary_df_filtered = summary_df[summary_df[\"Feature\"] != \"const\"]\n",
    "summary_df_filtered['Mutual Information'] = mutual_info_regression(X_scaled, y)[1:]\n",
    "\n",
    "# Plot the extracted information as a Plotly table\n",
    "fig = go.Figure(data=[go.Table(\n",
    "    header=dict(values=['Feature', 'OLS Coefficient', 'OLS P-Value', 'Mutual Information']),\n",
    "    cells=dict(values=[summary_df_filtered['Feature'], \n",
    "                       summary_df_filtered['Coefficient'].round(4), \n",
    "                       summary_df_filtered['P-Value'].round(4),\n",
    "                       summary_df_filtered['Mutual Information'].round(4)])\n",
    ")])\n",
    "fig.update_layout( width=800, height=400)\n",
    "fig.show()\n",
    "\n",
    "# Save the table as an image\n",
    "fig.write_image('src/data/figures/ols_coefficients.png', scale=2, engine='kaleido')\n",
    "fig.show()\n"
   ]
  },
  {
   "cell_type": "code",
   "execution_count": null,
   "metadata": {},
   "outputs": [],
   "source": [
    "# Save a table with the mutual information as plotly table\n",
    "fig = go.Figure(data=[go.Table(header=dict(values=['Feature', 'Mutual Information']), cells=dict(values=[df_MI.index, df_MI['Mutual Information']]))])\n",
    "fig.update_layout(width=500, height=400)    \n",
    "fig.show()\n",
    "fig.write_image('src/data/figures/mutual_information.png',  scale=2, engine='kaleido')"
   ]
  },
  {
   "cell_type": "code",
   "execution_count": null,
   "metadata": {},
   "outputs": [],
   "source": []
  },
  {
   "cell_type": "code",
   "execution_count": null,
   "metadata": {},
   "outputs": [],
   "source": [
    "# If the ligands are present several times in the dataset, are their metrics consistent?\n",
    "df_grouped_ligands = df.groupby('Ligand SMILES')\n",
    "# Get the group with the most entries\n",
    "ligand = df_grouped_ligands.get_group(df_grouped_ligands.size().idxmax())\n",
    "ligand['pIC50'].plot(kind='hist')"
   ]
  },
  {
   "cell_type": "code",
   "execution_count": null,
   "metadata": {},
   "outputs": [],
   "source": [
    "# If the ligands are present several times in the dataset, are their metrics consistent?\n",
    "df_grouped_ligands = df.groupby('Ligand SMILES')\n",
    "# Get the group with the highest mean pIC50: do the mean only on the  pIC50\n",
    "ligand = df_grouped_ligands.get_group(df_grouped_ligands['pIC50'].apply('mean').idxmax())\n",
    "len(ligand)\n",
    "df_grouped_ligands['pIC50'].apply('mean')"
   ]
  },
  {
   "cell_type": "code",
   "execution_count": null,
   "metadata": {},
   "outputs": [],
   "source": [
    "# Select the ligands that have more than 50 entries\n",
    "ligand = df_grouped_ligands.filter(lambda x: len(x) > 50)\n",
    "# Select the ligands with the 50 highest mean pIC50\n",
    "ligand = df_grouped_ligands.filter(lambda x: len(x) > 50).groupby('Ligand SMILES')['pIC50'].apply('mean').nlargest(50, 'pIC50')"
   ]
  },
  {
   "cell_type": "code",
   "execution_count": null,
   "metadata": {},
   "outputs": [],
   "source": [
    "# Step 1: Filter ligands that have more than 50 entries\n",
    "#filtered_ligands = df_grouped_ligands.groupby('Ligand SMILES').filter(lambda x: len(x) > 50)\n",
    "\n",
    "# Step 2: Calculate the mean pIC50 for each ligand and select the 50 highest values\n",
    "top_ligands = (\n",
    "    df\n",
    "    .groupby('Ligand SMILES')['pIC50']\n",
    "    .mean()\n",
    "    .nlargest(50)\n",
    ")\n",
    "\n",
    "# Display or use the result\n",
    "print(top_ligands)\n"
   ]
  },
  {
   "cell_type": "code",
   "execution_count": null,
   "metadata": {},
   "outputs": [],
   "source": [
    "# Step 1: Group by 'Ligand SMILES' and calculate mean and standard deviation\n",
    "ligand_stats = (\n",
    "    df\n",
    "    .groupby('Ligand SMILES')['pIC50']\n",
    "    .agg(['mean', 'std'])  # Calculate both mean and standard deviation\n",
    ")\n",
    "\n",
    "# Step 2: Select the top 50 ligands based on the highest mean pIC50\n",
    "top_ligands = ligand_stats.nlargest(50, 'mean')\n",
    "\n",
    "# Display or use the result\n",
    "print(top_ligands)\n"
   ]
  },
  {
   "cell_type": "code",
   "execution_count": null,
   "metadata": {},
   "outputs": [],
   "source": [
    "# Step 1: Group by 'Ligand SMILES' and filter for groups with at least 2 entries\n",
    "filtered_ligands = (\n",
    "    df\n",
    "    .groupby('Ligand SMILES')\n",
    "    .filter(lambda x: len(x) > 25)  # Keep groups with at least 2 entries\n",
    ")\n",
    "\n",
    "# Step 2: Group again and calculate mean and standard deviation\n",
    "ligand_stats = (\n",
    "    filtered_ligands\n",
    "    .groupby('Ligand SMILES')['pIC50']\n",
    "    .agg(['mean', 'std'])  # Calculate both mean and standard deviation\n",
    ")\n",
    "\n",
    "print(len(ligand_stats))\n",
    "# Step 3: Select the top 50 ligands based on the highest mean pIC50\n",
    "top_ligands = ligand_stats.nlargest(100, 'mean')\n",
    "\n",
    "# Display or use the result\n",
    "print(top_ligands)\n"
   ]
  },
  {
   "cell_type": "code",
   "execution_count": null,
   "metadata": {},
   "outputs": [],
   "source": [
    "import matplotlib.pyplot as plt\n",
    "\n",
    "# Plot mean pIC50 vs standard deviation\n",
    "plt.figure(figsize=(8, 6))\n",
    "plt.scatter(top_ligands['mean'], top_ligands['std'], alpha=0.7)\n",
    "plt.title('Mean pIC50 vs Standard Deviation')\n",
    "plt.xlabel('Mean pIC50')\n",
    "plt.ylabel('Standard Deviation')\n",
    "plt.grid(True)\n",
    "plt.show()\n"
   ]
  },
  {
   "cell_type": "code",
   "execution_count": null,
   "metadata": {},
   "outputs": [],
   "source": [
    "import matplotlib.pyplot as plt\n",
    "\n",
    "# Sort the ligands by mean pIC50 values\n",
    "top_ligands_sorted = top_ligands.sort_values(by='mean', ascending=False)\n",
    "\n",
    "# Plot the bar plot with error bars\n",
    "plt.figure(figsize=(12, 6))\n",
    "plt.bar(top_ligands_sorted.index, top_ligands_sorted['mean'], \n",
    "        yerr=top_ligands_sorted['std'], \n",
    "        capsize=4, color='skyblue', alpha=0.7)\n",
    "\n",
    "# Add titles and labels\n",
    "plt.title('Top 50 Ligands: Mean pIC50 with Standard Deviation')\n",
    "plt.ylabel('Mean pIC50')\n",
    "plt.xlabel('Ligand SMILES')\n",
    "plt.xticks(rotation=90)  # Rotate x-axis labels for readability\n",
    "plt.tight_layout()\n",
    "\n",
    "# Show the plot\n",
    "plt.show()\n"
   ]
  },
  {
   "cell_type": "code",
   "execution_count": null,
   "metadata": {},
   "outputs": [],
   "source": [
    "top_ligands.head()\n",
    "\n",
    "top_ligands['Number of Targets'] = [len(df_grouped_ligands.get_group(ligand)['Target Name'].unique()) for ligand in top_ligands.index]\n",
    "top_ligands.head()"
   ]
  },
  {
   "cell_type": "code",
   "execution_count": null,
   "metadata": {},
   "outputs": [],
   "source": [
    "import plotly.graph_objects as go\n",
    "\n",
    "# Sort the ligands by mean pIC50 values\n",
    "top_ligands_sorted = top_ligands.sort_values(by='mean', ascending=False)\n",
    "\n",
    "# Replace long Ligand SMILES with simple ligand names or indices\n",
    "ligand_names = [f'Ligand {i+1}' for i in range(len(top_ligands_sorted))]\n",
    "\n",
    "# Create the bar plot with error bars\n",
    "fig = go.Figure(data=[\n",
    "    go.Bar(\n",
    "        x=ligand_names,\n",
    "        y=top_ligands_sorted['mean'],\n",
    "        error_y=dict(type='data', array=top_ligands_sorted['std'], visible=True),\n",
    "        marker=dict(color='skyblue'),\n",
    "        color=top_ligands_sorted['Number of Targets'],\n",
    "    )\n",
    "])\n",
    "\n",
    "# Update layout for better readability\n",
    "fig.update_layout(\n",
    "    xaxis_title='Ligands with more than 25 matches',\n",
    "    yaxis_title='Mean pIC50',\n",
    "    xaxis=dict(tickangle=45),\n",
    "    showlegend=False,\n",
    "    template='plotly_white'\n",
    ")\n",
    "\n",
    "# Show the plot\n",
    "fig.show()\n"
   ]
  },
  {
   "cell_type": "code",
   "execution_count": null,
   "metadata": {},
   "outputs": [],
   "source": [
    "import plotly.graph_objects as go\n",
    "\n",
    "# Sort the ligands by mean pIC50 values\n",
    "top_ligands_sorted = top_ligands.sort_values(by='mean', ascending=False)\n",
    "\n",
    "# Replace long Ligand SMILES with simple ligand names or indices\n",
    "ligand_names = [f'Ligand {i+1}' for i in range(len(top_ligands_sorted))]\n",
    "\n",
    "# Create the bar plot with error bars\n",
    "fig = go.Figure(data=[\n",
    "    go.Bar(\n",
    "        #x=ligand_names,\n",
    "        y=top_ligands_sorted['mean'],\n",
    "        error_y=dict(type='data', array=top_ligands_sorted['std'], visible=True),\n",
    "        marker=dict(\n",
    "            color=top_ligands_sorted['Number of Targets'],  # Map to Number of Targets\n",
    "            cmin=0,\n",
    "            colorscale='PuRd',  # Choose a colorscale like Viridis, Plasma, etc.\n",
    "            colorbar=dict(title='Unique Matches')  # Add a colorbar for clarity\n",
    "        )\n",
    "    )\n",
    "])\n",
    "\n",
    "# Update layout for better readability\n",
    "fig.update_layout(\n",
    "    xaxis_title='Ligands with more than 25 dates',\n",
    "    yaxis_title='Mean pIC50',\n",
    "    xaxis=dict(tickangle=45),\n",
    "    showlegend=False,\n",
    "    template='plotly_white'\n",
    ")\n",
    "\n",
    "# Show the plot\n",
    "fig.show()\n",
    "fig.write_html('src/data/figures/top_matches.html')\n",
    "\n",
    "#fig.write_image('src/data/figures/top_matches.png')"
   ]
  },
  {
   "cell_type": "markdown",
   "metadata": {},
   "source": [
    "# Popular matches\n",
    "Some of our ligands were popular and were tested for many matches. 45 were involved in more than 25 dates: we can observe that the standard deviation of the success of their matches is pretty different accross them."
   ]
  },
  {
   "cell_type": "code",
   "execution_count": null,
   "metadata": {},
   "outputs": [],
   "source": [
    "df_embeddings = load_data('src/data/embeddings_RDKIT_descriptors.csv.zip')\n",
    "df.merge(df_embeddings,how='left', on='Ligand SMILES')"
   ]
  },
  {
   "cell_type": "markdown",
   "metadata": {},
   "source": [
    "## 2.3 Embedding space or A match made in haven "
   ]
  },
  {
   "cell_type": "markdown",
   "metadata": {},
   "source": [
    "introduce the embedding space, the model that provide it. and visualization. in the best situation we would want to have conditons on the targets, metrics, and chemical caraterization to color certain part of the graph while the unselected remain grey. but if not possible to make it interactive juste do severals"
   ]
  },
  {
   "cell_type": "code",
   "execution_count": null,
   "metadata": {},
   "outputs": [],
   "source": [
    "from src.run_reduction import run_analysis\n",
    "\n",
    "path_RD_df  = 'src/data/embeddings_RDKIT_descriptors.csv.zip'\n",
    "path_Mol2vec_df = 'src/data/embeddings_Mol2Vec.csv.zip'\n",
    "path_Morgan_df = 'src/data/embeddings_Morgan_Fingerprint.csv.zip'\n",
    "path_full_df = 'src/data/embeddings_full.csv.zip'\n"
   ]
  },
  {
   "cell_type": "code",
   "execution_count": null,
   "metadata": {},
   "outputs": [],
   "source": [
    "run_analysis(df, path_RD_df, do_umap=True)"
   ]
  },
  {
   "cell_type": "code",
   "execution_count": null,
   "metadata": {},
   "outputs": [],
   "source": [
    "# Let's do more chemical characterization!\n",
    "import random\n",
    "\n",
    "features_of_interest = [\"NumValenceElectrons\", \"ExactMolWt\", \"MolWt\", \"Chi0\", \"LabuteASA\", \"Kappa1\", \"HeavyAtomMolWt\", \"HeavyAtomCount\", \"Chi0v\", \"Chi1\", \"SPS\", \"FractionCSP3\", \"NumSaturatedRings\", \"NumAliphaticRings\", \"BCUT2D_CHGLO\", \"BCUT2D_CHGHI\", \"BCUT2D_LOGPLOW\", \"SlogP_VSA6\", \"SMR_VSA7\", \"NumAromaticCarbocycles\"]\n",
    "features_of_interest = [\"NumValenceElectrons\", \"ExactMolWt\", \"Chi0\", \"HeavyAtomCount\"]\n",
    "\n",
    "\n",
    "colors = [\"#{:06x}\".format(random.randint(0, 0xFFFFFF)) for _ in features_of_interest]\n",
    "\n",
    "df_embeddings = load_data('src/data/embeddings_RDKIT_descriptors.csv.zip')\n",
    "plot_chemical_property_distributions(df, metrics, chemical_properties=features_of_interest[:5], properties_colors=colors[:5], filepath='src/data/chemchar2.html', plot_metrics=False, df_embeddings=df_embeddings) "
   ]
  },
  {
   "cell_type": "code",
   "execution_count": null,
   "metadata": {},
   "outputs": [],
   "source": [
    "run_analysis(df, path_Mol2vec_df, do_umap=True)"
   ]
  },
  {
   "cell_type": "code",
   "execution_count": null,
   "metadata": {},
   "outputs": [],
   "source": [
    "run_analysis(df, path_Morgan_df, do_umap=True)\n"
   ]
  },
  {
   "cell_type": "code",
   "execution_count": null,
   "metadata": {},
   "outputs": [],
   "source": [
    "run_analysis(df, path_full_df, do_umap=True)"
   ]
  },
  {
   "cell_type": "markdown",
   "metadata": {},
   "source": [
    "## 2.4 Closer look to one target and prediction of the best match "
   ]
  },
  {
   "cell_type": "markdown",
   "metadata": {},
   "source": [
    "select the target, plot it with a nice representation : the one that turn would be great\n",
    "plot the place of its ligands in embedding speace (highligh the main features on which it relay)\n",
    "then introduce the model that is used to predict a good target\n",
    "plot some of the predicted target (viz the mol that turn pleeaaase) with a panel with their chemical caracterisations + predicted metric of binding (would be better if its KI)\n"
   ]
  },
  {
   "cell_type": "code",
   "execution_count": null,
   "metadata": {},
   "outputs": [],
   "source": []
  }
 ],
 "metadata": {
  "kernelspec": {
   "display_name": "ada",
   "language": "python",
   "name": "python3"
  },
  "language_info": {
   "codemirror_mode": {
    "name": "ipython",
    "version": 3
   },
   "file_extension": ".py",
   "mimetype": "text/x-python",
   "name": "python",
   "nbconvert_exporter": "python",
   "pygments_lexer": "ipython3",
   "version": "3.11.9"
  }
 },
 "nbformat": 4,
 "nbformat_minor": 2
}
