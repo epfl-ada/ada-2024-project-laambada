{
 "cells": [
  {
   "cell_type": "code",
   "execution_count": 53,
   "metadata": {},
   "outputs": [],
   "source": [
    "import pandas as pd\n",
    "import os"
   ]
  },
  {
   "cell_type": "code",
   "execution_count": 54,
   "metadata": {},
   "outputs": [],
   "source": [
    "DATA_PATH = '../../data/'\n",
    "DATA = os.path.join(DATA_PATH, 'BindingDB_All.tsv')"
   ]
  },
  {
   "cell_type": "markdown",
   "metadata": {},
   "source": [
    "## Let's look for a suitable protein family to study"
   ]
  },
  {
   "cell_type": "markdown",
   "metadata": {},
   "source": [
    "### Step 1. Match targets to their families. We made a choice to use PANTHER classification, although other classifications exist too."
   ]
  },
  {
   "cell_type": "code",
   "execution_count": 55,
   "metadata": {},
   "outputs": [
    {
     "name": "stderr",
     "output_type": "stream",
     "text": [
      "/var/folders/y_/14hx1hj16wd7mfbpk87rkv4c0000gn/T/ipykernel_8081/2195946328.py:1: DtypeWarning: Columns (8,9) have mixed types. Specify dtype option on import or set low_memory=False.\n",
      "  df = pd.read_csv(DATA, sep=\"\\t\", on_bad_lines='skip',\n"
     ]
    }
   ],
   "source": [
    "df = pd.read_csv(DATA, sep=\"\\t\", on_bad_lines='skip', \n",
    "                 usecols=[\"BindingDB Reactant_set_id\", \n",
    "                          \"Ki (nM)\", \"IC50 (nM)\", \n",
    "                          \"UniProt (SwissProt) Entry Name of Target Chain\"])"
   ]
  },
  {
   "cell_type": "markdown",
   "metadata": {},
   "source": [
    "We would need binding affinities to do downstream analyses, so let's take care of it now."
   ]
  },
  {
   "cell_type": "code",
   "execution_count": 56,
   "metadata": {},
   "outputs": [],
   "source": [
    "df = df.dropna(subset=[\"Ki (nM)\"])"
   ]
  },
  {
   "cell_type": "code",
   "execution_count": 57,
   "metadata": {},
   "outputs": [
    {
     "name": "stderr",
     "output_type": "stream",
     "text": [
      "100%|██████████| 2956/2956 [00:04<00:00, 597.32it/s] "
     ]
    },
    {
     "name": "stdout",
     "output_type": "stream",
     "text": [
      "We were able to retrieve 3810 unique protein families\n"
     ]
    },
    {
     "name": "stderr",
     "output_type": "stream",
     "text": [
      "\n"
     ]
    }
   ],
   "source": [
    "import sys\n",
    "sys.path.append('../utils')\n",
    "from retrieve_family import retrieve_family\n",
    "\n",
    "uniprot_ids = df[\"UniProt (SwissProt) Entry Name of Target Chain\"].unique()\n",
    "family_dict = await retrieve_family(uniprot_ids)\n",
    "\n",
    "# Set of unique protein families\n",
    "families = set()\n",
    "for key in family_dict:\n",
    "    families.update(family_dict[key])\n",
    "\n",
    "# Dictionary with the protein families as keys and the UniProt names as values\n",
    "family_dict_2 = {family: [] for family in families}\n",
    "for key in family_dict:\n",
    "    for family in family_dict[key]:\n",
    "        if key not in family_dict_2[family]:\n",
    "            family_dict_2[family].append(key)\n",
    "\n",
    "print(f\"We were able to retrieve {len(families)} unique protein families\")"
   ]
  },
  {
   "cell_type": "markdown",
   "metadata": {},
   "source": [
    "### Step 2. Now that each target is mapped to its families, let's select families with adequate number of targets."
   ]
  },
  {
   "cell_type": "code",
   "execution_count": 58,
   "metadata": {},
   "outputs": [
    {
     "data": {
      "text/plain": [
       "[('UNCHARACTERIZED', 171),\n",
       " ('ADRENERGIC RECEPTOR-RELATED G-PROTEIN COUPLED RECEPTOR', 114),\n",
       " ('TYROSINE-PROTEIN KINASE RECEPTOR', 84),\n",
       " ('SERINE/THREONINE-PROTEIN KINASE', 81),\n",
       " ('G-PROTEIN COUPLED RECEPTOR', 81),\n",
       " ('5-HYDROXYTRYPTAMINE RECEPTOR', 80),\n",
       " ('-', 76),\n",
       " ('RIBOSOMAL PROTEIN S6 KINASE', 74),\n",
       " ('TYROSINE-PROTEIN KINASE', 64),\n",
       " ('NUCLEAR HORMONE RECEPTOR', 64)]"
      ]
     },
     "execution_count": 58,
     "metadata": {},
     "output_type": "execute_result"
    }
   ],
   "source": [
    "import collections\n",
    "\n",
    "# Count the number of proteins in each family, don't count families with less than n proteins\n",
    "n = 5\n",
    "counter = collections.Counter({k: len(v) for k, v in family_dict_2.items() if len(v) >= n})\n",
    "counter.most_common(10)"
   ]
  },
  {
   "cell_type": "markdown",
   "metadata": {},
   "source": [
    "Let's filter out some families."
   ]
  },
  {
   "cell_type": "code",
   "execution_count": 59,
   "metadata": {},
   "outputs": [],
   "source": [
    "# Drop if family is \"-\" or \"UNCHARACTERIZED\"\n",
    "del counter[\"-\"]\n",
    "del counter[\"UNCHARACTERIZED\"]\n",
    "# Only keep families if they are in the counter\n",
    "family_dict_2 = {k: v for k, v in family_dict_2.items() if k in counter.keys()}\n",
    "# Only keep proteins if they are in family_dict_2\n",
    "ids = set()\n",
    "for key in family_dict_2:\n",
    "    ids.update(family_dict_2[key])\n",
    "family_dict = {k: v for k, v in family_dict.items() if k in ids}"
   ]
  },
  {
   "cell_type": "code",
   "execution_count": 60,
   "metadata": {},
   "outputs": [],
   "source": [
    "df_filtered = df[df['UniProt (SwissProt) Entry Name of Target Chain'].isin(family_dict.keys())]"
   ]
  },
  {
   "cell_type": "markdown",
   "metadata": {},
   "source": [
    "### Step 3. We would need tagets with enough ligands.\n",
    "Let's count ligands in each family."
   ]
  },
  {
   "cell_type": "code",
   "execution_count": 61,
   "metadata": {},
   "outputs": [],
   "source": [
    "summary_families = pd.DataFrame.from_dict(counter, orient='index', columns=['Number of targets'])\n",
    "grouped = df_filtered.groupby('UniProt (SwissProt) Entry Name of Target Chain').count()[\"Ki (nM)\"]\n",
    "# Discard counts lower than threshold\n",
    "# threshold = 1000\n",
    "# grouped = grouped[grouped > threshold]\n",
    "ligands_count = collections.Counter()\n",
    "for target in family_dict.keys():\n",
    "    for family in family_dict[target]:\n",
    "        try:\n",
    "            ligands_count[family] += grouped[target]\n",
    "        except KeyError:\n",
    "            pass\n",
    "summary_families[\"Number of ligands\"] = [ligands_count[family] for family in summary_families.index]"
   ]
  },
  {
   "cell_type": "code",
   "execution_count": 62,
   "metadata": {},
   "outputs": [],
   "source": [
    "summary_families[\"Average ligands per target\"] = summary_families[\"Number of ligands\"] / summary_families[\"Number of targets\"]\n",
    "summary_families[\"Average ligands per target\"] = summary_families[\"Average ligands per target\"].round(2)\n",
    "summary_families = summary_families.sort_values(by=\"Average ligands per target\", ascending=False)"
   ]
  },
  {
   "cell_type": "code",
   "execution_count": 63,
   "metadata": {},
   "outputs": [
    {
     "data": {
      "text/html": [
       "<div>\n",
       "<style scoped>\n",
       "    .dataframe tbody tr th:only-of-type {\n",
       "        vertical-align: middle;\n",
       "    }\n",
       "\n",
       "    .dataframe tbody tr th {\n",
       "        vertical-align: top;\n",
       "    }\n",
       "\n",
       "    .dataframe thead th {\n",
       "        text-align: right;\n",
       "    }\n",
       "</style>\n",
       "<table border=\"1\" class=\"dataframe\">\n",
       "  <thead>\n",
       "    <tr style=\"text-align: right;\">\n",
       "      <th></th>\n",
       "      <th>Number of targets</th>\n",
       "      <th>Number of ligands</th>\n",
       "      <th>Average ligands per target</th>\n",
       "    </tr>\n",
       "  </thead>\n",
       "  <tbody>\n",
       "    <tr>\n",
       "      <th>CB1 CANNABINOID RECEPTOR-INTERACTING PROTEIN 1</th>\n",
       "      <td>8</td>\n",
       "      <td>63768</td>\n",
       "      <td>7971.00</td>\n",
       "    </tr>\n",
       "    <tr>\n",
       "      <th>HISTAMINE RECEPTOR-RELATED G-PROTEIN COUPLED RECEPTOR</th>\n",
       "      <td>5</td>\n",
       "      <td>38575</td>\n",
       "      <td>7715.00</td>\n",
       "    </tr>\n",
       "    <tr>\n",
       "      <th>TYROSINE-PROTEIN KINASE HOPSCOTCH</th>\n",
       "      <td>9</td>\n",
       "      <td>38206</td>\n",
       "      <td>4245.11</td>\n",
       "    </tr>\n",
       "    <tr>\n",
       "      <th>FAM11A, B PROTEIN</th>\n",
       "      <td>5</td>\n",
       "      <td>19805</td>\n",
       "      <td>3961.00</td>\n",
       "    </tr>\n",
       "    <tr>\n",
       "      <th>INTERFERON/INTERLEUKIN RECEPTOR</th>\n",
       "      <td>7</td>\n",
       "      <td>22539</td>\n",
       "      <td>3219.86</td>\n",
       "    </tr>\n",
       "    <tr>\n",
       "      <th>PERIPHERAL-TYPE BENZODIAZEPINE RECEPTOR</th>\n",
       "      <td>5</td>\n",
       "      <td>15866</td>\n",
       "      <td>3173.20</td>\n",
       "    </tr>\n",
       "    <tr>\n",
       "      <th>REGULATOR OF G PROTEIN SIGNALING</th>\n",
       "      <td>10</td>\n",
       "      <td>31690</td>\n",
       "      <td>3169.00</td>\n",
       "    </tr>\n",
       "    <tr>\n",
       "      <th>PITUITARY HOMEOBOX HOMOLOG PTX1</th>\n",
       "      <td>6</td>\n",
       "      <td>18285</td>\n",
       "      <td>3047.50</td>\n",
       "    </tr>\n",
       "    <tr>\n",
       "      <th>CHLORIDE INTRACELLULAR CHANNEL PROTEIN 6-RELATED</th>\n",
       "      <td>13</td>\n",
       "      <td>36930</td>\n",
       "      <td>2840.77</td>\n",
       "    </tr>\n",
       "    <tr>\n",
       "      <th>PROTEIN BHLHB9-RELATED</th>\n",
       "      <td>8</td>\n",
       "      <td>22543</td>\n",
       "      <td>2817.88</td>\n",
       "    </tr>\n",
       "    <tr>\n",
       "      <th>ANKYRIN REPEAT AND PROTEIN KINASE DOMAIN-CONTAINING PROTEIN</th>\n",
       "      <td>5</td>\n",
       "      <td>13917</td>\n",
       "      <td>2783.40</td>\n",
       "    </tr>\n",
       "    <tr>\n",
       "      <th>DISRUPTED IN SCHIZOPHRENIA 1 PROTEIN</th>\n",
       "      <td>5</td>\n",
       "      <td>13661</td>\n",
       "      <td>2732.20</td>\n",
       "    </tr>\n",
       "    <tr>\n",
       "      <th>PALMITOYLTRANSFERASE ZDHHC16</th>\n",
       "      <td>7</td>\n",
       "      <td>18811</td>\n",
       "      <td>2687.29</td>\n",
       "    </tr>\n",
       "    <tr>\n",
       "      <th>ANKYRIN REPEAT CONTAINING</th>\n",
       "      <td>6</td>\n",
       "      <td>15551</td>\n",
       "      <td>2591.83</td>\n",
       "    </tr>\n",
       "    <tr>\n",
       "      <th>VOLTAGE-GATED POTASSIUM CHANNEL</th>\n",
       "      <td>13</td>\n",
       "      <td>33182</td>\n",
       "      <td>2552.46</td>\n",
       "    </tr>\n",
       "  </tbody>\n",
       "</table>\n",
       "</div>"
      ],
      "text/plain": [
       "                                                    Number of targets  \\\n",
       "CB1 CANNABINOID RECEPTOR-INTERACTING PROTEIN 1                      8   \n",
       "HISTAMINE RECEPTOR-RELATED G-PROTEIN COUPLED RE...                  5   \n",
       "TYROSINE-PROTEIN KINASE HOPSCOTCH                                   9   \n",
       "FAM11A, B PROTEIN                                                   5   \n",
       "INTERFERON/INTERLEUKIN RECEPTOR                                     7   \n",
       "PERIPHERAL-TYPE BENZODIAZEPINE RECEPTOR                             5   \n",
       "REGULATOR OF G PROTEIN SIGNALING                                   10   \n",
       "PITUITARY HOMEOBOX HOMOLOG PTX1                                     6   \n",
       "CHLORIDE INTRACELLULAR CHANNEL PROTEIN 6-RELATED                   13   \n",
       "PROTEIN BHLHB9-RELATED                                              8   \n",
       "ANKYRIN REPEAT AND PROTEIN KINASE DOMAIN-CONTAI...                  5   \n",
       "DISRUPTED IN SCHIZOPHRENIA 1 PROTEIN                                5   \n",
       "PALMITOYLTRANSFERASE ZDHHC16                                        7   \n",
       "ANKYRIN REPEAT CONTAINING                                           6   \n",
       "VOLTAGE-GATED POTASSIUM CHANNEL                                    13   \n",
       "\n",
       "                                                    Number of ligands  \\\n",
       "CB1 CANNABINOID RECEPTOR-INTERACTING PROTEIN 1                  63768   \n",
       "HISTAMINE RECEPTOR-RELATED G-PROTEIN COUPLED RE...              38575   \n",
       "TYROSINE-PROTEIN KINASE HOPSCOTCH                               38206   \n",
       "FAM11A, B PROTEIN                                               19805   \n",
       "INTERFERON/INTERLEUKIN RECEPTOR                                 22539   \n",
       "PERIPHERAL-TYPE BENZODIAZEPINE RECEPTOR                         15866   \n",
       "REGULATOR OF G PROTEIN SIGNALING                                31690   \n",
       "PITUITARY HOMEOBOX HOMOLOG PTX1                                 18285   \n",
       "CHLORIDE INTRACELLULAR CHANNEL PROTEIN 6-RELATED                36930   \n",
       "PROTEIN BHLHB9-RELATED                                          22543   \n",
       "ANKYRIN REPEAT AND PROTEIN KINASE DOMAIN-CONTAI...              13917   \n",
       "DISRUPTED IN SCHIZOPHRENIA 1 PROTEIN                            13661   \n",
       "PALMITOYLTRANSFERASE ZDHHC16                                    18811   \n",
       "ANKYRIN REPEAT CONTAINING                                       15551   \n",
       "VOLTAGE-GATED POTASSIUM CHANNEL                                 33182   \n",
       "\n",
       "                                                    Average ligands per target  \n",
       "CB1 CANNABINOID RECEPTOR-INTERACTING PROTEIN 1                         7971.00  \n",
       "HISTAMINE RECEPTOR-RELATED G-PROTEIN COUPLED RE...                     7715.00  \n",
       "TYROSINE-PROTEIN KINASE HOPSCOTCH                                      4245.11  \n",
       "FAM11A, B PROTEIN                                                      3961.00  \n",
       "INTERFERON/INTERLEUKIN RECEPTOR                                        3219.86  \n",
       "PERIPHERAL-TYPE BENZODIAZEPINE RECEPTOR                                3173.20  \n",
       "REGULATOR OF G PROTEIN SIGNALING                                       3169.00  \n",
       "PITUITARY HOMEOBOX HOMOLOG PTX1                                        3047.50  \n",
       "CHLORIDE INTRACELLULAR CHANNEL PROTEIN 6-RELATED                       2840.77  \n",
       "PROTEIN BHLHB9-RELATED                                                 2817.88  \n",
       "ANKYRIN REPEAT AND PROTEIN KINASE DOMAIN-CONTAI...                     2783.40  \n",
       "DISRUPTED IN SCHIZOPHRENIA 1 PROTEIN                                   2732.20  \n",
       "PALMITOYLTRANSFERASE ZDHHC16                                           2687.29  \n",
       "ANKYRIN REPEAT CONTAINING                                              2591.83  \n",
       "VOLTAGE-GATED POTASSIUM CHANNEL                                        2552.46  "
      ]
     },
     "execution_count": 63,
     "metadata": {},
     "output_type": "execute_result"
    }
   ],
   "source": [
    "summary_families.head(15)"
   ]
  },
  {
   "cell_type": "markdown",
   "metadata": {},
   "source": [
    "### Step 4. Zoom on suitable candidates.\n",
    "Let's look at our winners! At this stage, we used a combination of data balance considerations, personal preferences and biological knowledge to select a family with a manageable amount of targets and a considerable amount of ligands per target."
   ]
  },
  {
   "cell_type": "code",
   "execution_count": 64,
   "metadata": {},
   "outputs": [
    {
     "name": "stdout",
     "output_type": "stream",
     "text": [
      "CCR5_MOUSE has 57 ligands\n",
      "CCR5_HUMAN has 219 ligands\n",
      "PDE4A_HUMAN has 104 ligands\n",
      "MERTK_HUMAN has 12 ligands\n",
      "TEC_HUMAN has 2 ligands\n",
      "JAK2_HUMAN has 5039 ligands\n",
      "JAK3_HUMAN has 1993 ligands\n",
      "TYK2_HUMAN has 2505 ligands\n",
      "JAK1_HUMAN has 4908 ligands\n"
     ]
    }
   ],
   "source": [
    "for target in family_dict_2[\"TYROSINE-PROTEIN KINASE HOPSCOTCH\"]:\n",
    "    if target in grouped:\n",
    "        print(f\"{target} has {grouped[target]} ligands\")"
   ]
  }
 ],
 "metadata": {
  "kernelspec": {
   "display_name": "ada",
   "language": "python",
   "name": "python3"
  },
  "language_info": {
   "codemirror_mode": {
    "name": "ipython",
    "version": 3
   },
   "file_extension": ".py",
   "mimetype": "text/x-python",
   "name": "python",
   "nbconvert_exporter": "python",
   "pygments_lexer": "ipython3",
   "version": "3.11.10"
  }
 },
 "nbformat": 4,
 "nbformat_minor": 2
}
